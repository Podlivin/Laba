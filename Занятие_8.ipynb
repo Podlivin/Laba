{
  "cells": [
    {
      "cell_type": "markdown",
      "metadata": {
        "id": "GU2R8F6ws5I6"
      },
      "source": [
        "# Первые графики и выводы\n",
        "\n",
        "Продолжаем разговор о виртуализации данных.\n",
        "\n",
        "Аналитик должен представлять себе гистограмму ожидаемого вида, чтобы знать, когда стоит насторожиться. Для некоторых явлений можно выяснить все возможные значения и описать частоту их появления — это называется распределение.\n",
        "Отвлекитесь от задачи про АЗС и пофантазируйте. Представьте два игральных кубика с шестью гранями. Мысленно подбросьте их пару.\n",
        "\n",
        "Единственная комбинация, дающая 12 очков в сумме — это две шестёрки. А 8 можно получить разными способами: 2 и 6; 3 и 5; 4 и 4. Из-за того, что таких наборов больше, получить восьмёрку более вероятно, чем 12. Напишем функцию в Python, она выдаст все возможные комбинации с их частотой, по ним построим гистограмму.\n",
        "\n",
        "Для генерации случайных чисел в Python вызывают библиотеку **random** (англ. «случайный»):\n",
        "\n",
        "**import random**\n",
        "\n",
        "Функция **random.randint()** (от англ. random integer, «случайное целое число») возвращает случайные целые числа. Она принимает два аргумента: самое маленькое и самое большое допустимое число. Посмотрим, как она работает:"
      ]
    },
    {
      "cell_type": "code",
      "execution_count": null,
      "metadata": {
        "colab": {
          "base_uri": "https://localhost:8080/"
        },
        "id": "2Dfb1-8As5I8",
        "outputId": "40991ad4-d92c-47a1-f12e-f79e340080df"
      },
      "outputs": [
        {
          "output_type": "stream",
          "name": "stdout",
          "text": [
            "5\n",
            "3\n",
            "2\n"
          ]
        }
      ],
      "source": [
        "import random\n",
        "print(random.randint(1, 5))\n",
        "print(random.randint(1, 5))\n",
        "print(random.randint(1, 5))"
      ]
    },
    {
      "cell_type": "code",
      "source": [
        "from google.colab import drive\n",
        "drive.mount('/content/drive')"
      ],
      "metadata": {
        "colab": {
          "base_uri": "https://localhost:8080/"
        },
        "id": "QcoLYq9ZtoID",
        "outputId": "717f5b70-f97f-4405-efc3-eb4c0e2016bb"
      },
      "execution_count": null,
      "outputs": [
        {
          "output_type": "stream",
          "name": "stdout",
          "text": [
            "Mounted at /content/drive\n"
          ]
        }
      ]
    },
    {
      "cell_type": "markdown",
      "metadata": {
        "id": "E1kxjNcis5I8"
      },
      "source": [
        "Распечатанные результаты работы функции выдали нам пять случайных чисел от 1 до 5. Однако вернёмся к кубикам. Эта же функция для диапазона от 1 до 6 будет имитировать результат броска кубика.  Напишем функцию, возвращающую случайное число точек на верхней грани:"
      ]
    },
    {
      "cell_type": "code",
      "execution_count": null,
      "metadata": {
        "colab": {
          "base_uri": "https://localhost:8080/"
        },
        "id": "sWJ9iehAs5I8",
        "outputId": "3da6e897-3d9d-4e62-d108-62d27f810fa4"
      },
      "outputs": [
        {
          "output_type": "stream",
          "name": "stdout",
          "text": [
            "5\n",
            "3\n",
            "6\n"
          ]
        }
      ],
      "source": [
        "def kubik():\n",
        "    score_find = random.randint(1, 6)\n",
        "    return score_find\n",
        "print(kubik())\n",
        "print(kubik())\n",
        "print(kubik())"
      ]
    },
    {
      "cell_type": "markdown",
      "metadata": {
        "id": "q6WBEK-Ps5I9"
      },
      "source": [
        "У нас пара кубиков. Значит, нужна функция, получающая количество очков от броска двух кубиков."
      ]
    },
    {
      "cell_type": "code",
      "execution_count": null,
      "metadata": {
        "colab": {
          "base_uri": "https://localhost:8080/"
        },
        "id": "quij3vuHs5I9",
        "outputId": "670ed061-b473-4c50-d735-5ffade6ec71c"
      },
      "outputs": [
        {
          "output_type": "stream",
          "name": "stdout",
          "text": [
            "8\n",
            "6\n",
            "12\n"
          ]
        }
      ],
      "source": [
        "def double_kubik():\n",
        "    first = kubik()\n",
        "    second = kubik()\n",
        "    score_find = first + second\n",
        "    return score_find\n",
        "\n",
        "print(double_kubik())\n",
        "print(double_kubik())\n",
        "print(double_kubik())"
      ]
    },
    {
      "cell_type": "markdown",
      "metadata": {
        "id": "OFfEY5xAs5I9"
      },
      "source": [
        "Сделаем 1000 таких бросков и построим гистограмму полученных очков:"
      ]
    },
    {
      "cell_type": "code",
      "execution_count": null,
      "metadata": {
        "colab": {
          "base_uri": "https://localhost:8080/",
          "height": 469
        },
        "id": "NFBT_iQRs5I9",
        "outputId": "70c374d5-288f-46b7-e12a-db9f2b8d5a7f"
      },
      "outputs": [
        {
          "output_type": "execute_result",
          "data": {
            "text/plain": [
              "array([[<Axes: title={'center': '0'}>]], dtype=object)"
            ]
          },
          "metadata": {},
          "execution_count": 7
        },
        {
          "output_type": "display_data",
          "data": {
            "text/plain": [
              "<Figure size 640x480 with 1 Axes>"
            ],
            "image/png": "[encoded data removed]"
          },
          "metadata": {}
        }
      ],
      "source": [
        "import pandas as pd\n",
        "\n",
        "experiments = []\n",
        "for i in range(1000):\n",
        "  score_find = double_kubik()\n",
        "  experiments.append(score_find)\n",
        "\n",
        "data_experiments = pd.DataFrame(experiments)\n",
        "data_experiments.hist(bins=11, range=(2, 12))"
      ]
    },
    {
      "cell_type": "markdown",
      "metadata": {
        "id": "KSOxPUe6s5I9"
      },
      "source": [
        "Интересно, такая гистограмма описывает только броски кубиков или характерна для других явлений?\n",
        "\n",
        "Будем бросать на стол 10 монет и считать количество выпавших орлов. Функции для имитации одного броска и подсчёта числа орлов в нескольких бросках уже в прекоде. Мы повторили эксперимент 1000 раз и сохранили результат в переменной df_experiments.\n",
        "Построим гистограмму полученных полученных значений с диапазоном значений от 0 до 10 и количеством корзин 11."
      ]
    },
    {
      "cell_type": "code",
      "execution_count": null,
      "metadata": {
        "colab": {
          "base_uri": "https://localhost:8080/",
          "height": 469
        },
        "id": "cmcRDFLWs5I9",
        "outputId": "d32c1c41-59e7-401e-b68c-ee2f47a81f89"
      },
      "outputs": [
        {
          "output_type": "execute_result",
          "data": {
            "text/plain": [
              "array([[<Axes: title={'center': '0'}>]], dtype=object)"
            ]
          },
          "metadata": {},
          "execution_count": 8
        },
        {
          "output_type": "display_data",
          "data": {
            "text/plain": [
              "<Figure size 640x480 with 1 Axes>"
            ],
            "image/png": "[encoded data removed]"
          },
          "metadata": {}
        }
      ],
      "source": [
        "def monetka():\n",
        "    score_find = random.randint(0, 1)\n",
        "    return score_find\n",
        "\n",
        "def monetka_count(count):\n",
        "    total_count = 0\n",
        "    for i in range(count):\n",
        "        flip_monetka = monetka()\n",
        "        if flip_monetka == 1:\n",
        "          total_count += flip_monetka\n",
        "    return total_count\n",
        "\n",
        "experiments = []\n",
        "\n",
        "for i in range(1000):\n",
        "    score = monetka_count(10)\n",
        "    experiments.append(score)\n",
        "\n",
        "df_experiments = pd.DataFrame(experiments)\n",
        "df_experiments.hist(bins=11, range=(0, 10))"
      ]
    },
    {
      "cell_type": "markdown",
      "metadata": {
        "id": "PhOS4Ldds5I-"
      },
      "source": [
        "## Распределения\n",
        "\n",
        "Взгляните ещё раз на гистограммы кубиков и орлов. Наиболее частые (типичные, нормальные) значения оказываются посередине. А редкие — по краям. График симметричен и напоминает колокол. Такое распределение называется **нормальное**.\n",
        "![image.png](attachment:image.png)\n",
        "\n",
        "Нормальные или тяготеющие к ним распределения распространены в жизни. Так распределяется рост людей, размер яблок, результаты измерения температуры. Понимание природы распределений необходимо для обнаружения важных аномалий.\n",
        "\n",
        "Так, измеряя длину изготовленных на заводе деталей, мы ожидаем распределение, тяготеющее к нормальному. Если же в результате расчётов получили распределение, скажем, с двумя пиками, это должно насторожить аналитика. Такое может быть, если на заводе есть две производственные линии, и с одной из них приходят данные в сантиметрах, а с другой — в метрах.\n",
        "\n",
        "В общем случае любое отклонение от ожидаемого распределения — это сигнал, что данные не в порядке.\n",
        "Ещё одно распределение, которое часто встречается — распределение Пуассона. Оно описывает число событий в единицу времени."
      ]
    },
    {
      "cell_type": "markdown",
      "metadata": {
        "id": "0h0aSykKs5I-"
      },
      "source": [
        "Например, в среднем в магазин заходит 2 человека в минуту. Но это не значит, что каждую минуту заходит ровно 2 человека. Может, в эту минуту не зайдёт ни одного, а через минуту зайдёт 5. Если каждый посетитель заходит случайным образом, независимо от других — это и есть распределение Пуассона:\n",
        "![image.png](attachment:image.png)"
      ]
    },
    {
      "cell_type": "markdown",
      "metadata": {
        "id": "WNX7j0Hns5I-"
      },
      "source": [
        "Форма распределения Пуассона зависит от числа событий. При небольших значениях распределение смещено влево, а с увеличением числа событий становится симметричным и уходит вправо."
      ]
    },
    {
      "cell_type": "markdown",
      "metadata": {
        "id": "-hGTm4x5s5I-"
      },
      "source": [
        "## Диаграмма размаха\n",
        "Вспомним распределение времени на АЗС, которое мы получили на прошлом занятии.\n"
      ]
    },
    {
      "cell_type": "code",
      "execution_count": null,
      "metadata": {
        "colab": {
          "base_uri": "https://localhost:8080/"
        },
        "id": "Otke4vYSs5I-",
        "outputId": "cd640405-5e9f-470c-9d33-3b2191fa6b96"
      },
      "outputs": [
        {
          "output_type": "stream",
          "name": "stdout",
          "text": [
            "             time_spent\n",
            "name                   \n",
            "Агератум     337.802721\n",
            "Амарант      132.760012\n",
            "Аммобиум     256.708042\n",
            "Арктотис      73.879984\n",
            "Астильба     376.143149\n",
            "Бальзамин    134.508411\n",
            "Бархатцы     145.300328\n",
            "Бегония      163.200647\n",
            "Белоцветник  100.818966\n",
            "Василек      268.849897\n",
            "Вербена      190.016594\n",
            "Вероника     220.019402\n",
            "Гацания      160.685185\n",
            "Гвоздика     294.317308\n",
            "Гейхера      167.445947\n",
            "Гелихризум   290.138643\n",
            "Георгина     166.615555\n",
            "Годеция      113.958333\n",
            "Диморфотека  406.161017\n",
            "Доротеантус  263.568916\n",
            "Ирис         179.931159\n",
            "Календула    207.357323\n",
            "Колокольчик  119.131564\n",
            "Космос       164.867797\n",
            "Крокус       349.031746\n",
            "Лаватера     249.992844\n",
            "Левкой       187.465606\n",
            "Лобулярия     96.834350\n",
            "Люпин        235.440937\n",
            "Малопа        76.070543\n",
            "Мальва       136.562234\n",
            "Нарцисс       68.166758\n",
            "Настурция    154.859694\n",
            "Незабудка    120.362398\n",
            "Немезия      186.535207\n",
            "Обриета      141.777778\n",
            "Петуния      265.780822\n",
            "Пион         222.565523\n",
            "Подснежник   180.286207\n",
            "Роза         260.877217\n",
            "Ромашка      231.389365\n",
            "Тюльпан      187.832210\n",
            "Фасоль       133.631957\n",
            "Функия       302.494737\n",
            "Хризантема   195.738710\n"
          ]
        }
      ],
      "source": [
        "import pandas as pd\n",
        "\n",
        "data = pd.read_csv('/content/drive/MyDrive/Учеба/Lab8/visits.csv', sep='\\t', decimal=',')\n",
        "\n",
        "data['time_spent'] = data['time_spent'].astype('float')\n",
        "name_stat = pd.pivot_table(data, index='name', values='time_spent', aggfunc='mean')\n",
        "\n",
        "print(name_stat)"
      ]
    },
    {
      "cell_type": "markdown",
      "metadata": {
        "id": "xQk332gbs5I-"
      },
      "source": [
        "Ожидаемое распределение времени заправки — гистограмма с длинным хвостом на высоких значениях и падением в ноль слева от пика, не доходя до нулевого времени заправки. Однако на графике виден высокий пик около 0. Скорее всего, он имеет иную природу. Это не заправки, а ошибки расчётов, проезды сквозь АЗС или что-то ещё.\n",
        "\n",
        "Описывая распределение, аналитики рассчитывают среднее арифметическое или медиану. С соответствующими методами **mean()** и **median()** вы познакомились в курсе по предобработке данных. Однако помимо медианы и среднего, важно знать характерный разброс — то, какие значения оказались вдали от среднего, и насколько их много.\n",
        "\n",
        "Самое простое, что можно посчитать для оценки разброса — это минимальное и максимальное значения. Такое описание не всегда точно, подвержено влиянию выбросов. Гораздо более устойчивая оценка — **межквартильный размах**.\n",
        "\n",
        "Квартили (от латинского quartus — «четвёртый») разбивают упорядоченный набор данных на четыре части. Первый квартиль Q1 — число, отделяющее первую четверть выборки: 25% элементов меньше, а 75% — больше него. Медиана — второй квартиль Q2, половина элементов больше и половина меньше неё. Третий квартиль Q3 — это отсечка трёх четвертей: 75% элементов меньше и 25% элементов больше него. Межквартильный размах — это расстояние между Q1 и Q3.\n",
        "![image.png](attachment:image.png)\n"
      ]
    },
    {
      "cell_type": "markdown",
      "metadata": {
        "id": "-7I275prs5I-"
      },
      "source": [
        "Увидеть медиану и квартили в Python можно на специальном графике. Его называют диаграмма размаха или ящик с усами.\n",
        "![image.png](attachment:image.png)\n",
        "«Ящик» ограничен первым и третьим квартилями. Внутри ящика обозначают медиану."
      ]
    },
    {
      "cell_type": "markdown",
      "metadata": {
        "id": "uR-1DXxrs5I-"
      },
      "source": [
        "«Усы» простираются влево и вправо от границ ящика на расстояние, равное 1,5 межквартильным размахам (сокращённо IQR, от англ. interquartile range, «межквартильный размах»). В размах «усов» попадают нормальные значения, а за пределами находятся выбросы, изображённые точками.\n",
        "![image.png](attachment:image.png)"
      ]
    },
    {
      "cell_type": "markdown",
      "metadata": {
        "id": "udlKZJsXs5I_"
      },
      "source": [
        "## Диаграмма размаха в Python\n",
        "В Python диаграмму размаха строят методом **boxplot()** (от англ. box and whisker plot — «ящик с усами»).\n",
        "Посмотрим, как выглядит график для данных задачи про АЗС:"
      ]
    },
    {
      "cell_type": "code",
      "execution_count": null,
      "metadata": {
        "colab": {
          "base_uri": "https://localhost:8080/",
          "height": 430
        },
        "id": "Qkxkm1dOs5I_",
        "outputId": "8e080181-e1cf-45f4-89ab-4089faffe6f2"
      },
      "outputs": [
        {
          "output_type": "display_data",
          "data": {
            "text/plain": [
              "<Figure size 640x480 with 1 Axes>"
            ],
            "image/png": "[encoded data removed]"
          },
          "metadata": {}
        }
      ],
      "source": [
        "import matplotlib.pyplot as plt\n",
        "\n",
        "plt.boxplot(name_stat)\n",
        "plt.show()"
      ]
    },
    {
      "cell_type": "markdown",
      "metadata": {
        "id": "2MGfp-Gls5I_"
      },
      "source": [
        "Для продвинутой работы с графиками (в том числе гистограммами), импортируют библиотеку **matplotlib** (от англ. math — «математический», **plot** — «график, диаграмма», **library** — «библиотека»).\n",
        "\n",
        "Желая построить график, обращаются к методам Pandas, а он, в свою очередь, передаёт данные **matplotlib**. Pandas при вызове функций рисования возвращает оси графика. Ими можно управлять, задавая ограничения на оси абсцисс (x) и оси ординат (y).\n",
        "\n",
        "Применим метод **ylim(y_min, y_max)** (от англ. y-limits, «пределы по оси ординат») для изменения масштаба по вертикальной оси. Если требуется поменять масштаб по горизонтальной оси, вызывают метод **xlim (x_min, x_max)** (от англ. х-limits, «пределы по оси абсцисс»). Оба метода имеют 2 аргумента: минимальное и максимальное желаемое значение для графика; а сам метод вызывают из библиотеки **plt**:"
      ]
    },
    {
      "cell_type": "code",
      "execution_count": null,
      "metadata": {
        "colab": {
          "base_uri": "https://localhost:8080/",
          "height": 452
        },
        "id": "vKO2fsgQs5I_",
        "outputId": "1e1c0078-ae0e-45e7-c0f1-334f9b6a8a46"
      },
      "outputs": [
        {
          "output_type": "execute_result",
          "data": {
            "text/plain": [
              "(0.0, 200.0)"
            ]
          },
          "metadata": {},
          "execution_count": 11
        },
        {
          "output_type": "display_data",
          "data": {
            "text/plain": [
              "<Figure size 640x480 with 1 Axes>"
            ],
            "image/png": "[encoded data removed]"
          },
          "metadata": {}
        }
      ],
      "source": [
        "plt.ylim(-50, 500)\n",
        "plt.xlim(0, 200)"
      ]
    },
    {
      "cell_type": "markdown",
      "metadata": {
        "id": "EJPp8pwEs5I_"
      },
      "source": [
        "### Задача 1\n",
        "**boxplot()** позволяет визуально оценить характеристики распределения, не прибегая к гистограмме. Удобно, когда нужно сравнить разные выборки.\n",
        "Нарисуйте диаграмму размаха для **data**, ограничив диапазон по вертикали значениями -100 и 1000.\n"
      ]
    },
    {
      "cell_type": "code",
      "execution_count": null,
      "metadata": {
        "colab": {
          "base_uri": "https://localhost:8080/",
          "height": 452
        },
        "id": "7yxNbLrts5I_",
        "outputId": "4f26a9b8-2844-4047-93f8-9b0a510e96bb"
      },
      "outputs": [
        {
          "output_type": "display_data",
          "data": {
            "text/plain": [
              "<Figure size 640x480 with 1 Axes>"
            ],
            "image/png": "[encoded data removed]"
          },
          "metadata": {}
        }
      ],
      "source": [
        "plt.boxplot(data['time_spent'], vert=False)\n",
        "\n",
        "plt.ylim(-100, 1000)\n",
        "\n",
        "plt.title('Диаграмма размаха для data')\n",
        "plt.show()"
      ]
    },
    {
      "cell_type": "markdown",
      "metadata": {
        "id": "uLr7-qTms5I_"
      },
      "source": [
        "## Описание данных\n",
        "\n",
        "Внимательно изучите усы.\n",
        "Нижний «ус» упирается в 0, минимальное значение. Верхний заканчивается около 650 секунд — это 1.5 межквартильного размаха, добавленного к 3-му квартилю. Это ориентировочная граница нормального размаха. Всё, что лежит за ней, считается выбросом. Более высокие значения рисуются отдельными точками, но сливаются в единую жирную линию: таких выбросов у нас очень много.\n",
        "\n",
        "И всё же значения, которые отсёк верхний «ус» — редкие. Видно, насколько медиана (зелёная линия) не стремится к длинному хвосту высоких значений.\n",
        "\n",
        "Заметные на гистограмме нюансы распределения хорошо бы зафиксировать в числах: иметь под рукой среднее, медиану, количество наблюдений в выборке и разброс их значений. Такие характеристики, дающие представление о выборке, входят в числовое описание данных. В Python его получают методом **describe()** (англ. «описать, охарактеризовать»). Результат отработки метода — список характерных значений:\n",
        "\n",
        "count -  количество наблюдений в наборе данных\n",
        "mean - среднее арифметическое\n",
        "std -  стандартное отклонение\n",
        "min -  минимальное значение\n",
        "25% -  первый квартиль\n",
        "50% -  медиана или второй квартиль\n",
        "75% - третий квартиль\n",
        "max -  максимальное значение\n"
      ]
    },
    {
      "cell_type": "code",
      "execution_count": null,
      "metadata": {
        "colab": {
          "base_uri": "https://localhost:8080/"
        },
        "id": "55XDX0FFs5I_",
        "outputId": "6171839b-4120-4a4b-a71b-e63b9f6ad012"
      },
      "outputs": [
        {
          "output_type": "stream",
          "name": "stdout",
          "text": [
            "          time_spent\n",
            "count  317104.000000\n",
            "mean      203.382294\n",
            "std       395.754791\n",
            "min         0.000000\n",
            "25%        19.000000\n",
            "50%       108.000000\n",
            "75%       274.000000\n",
            "max     28925.000000\n"
          ]
        }
      ],
      "source": [
        "print(data.describe())"
      ]
    },
    {
      "cell_type": "markdown",
      "metadata": {
        "id": "WPfOCYZgs5I_"
      },
      "source": [
        "Описание данных может быть не только дополнением к графикам, но и самодостаточной боевой единицей первичного анализа. Если в данных много столбцов, или нужно сравнить несколько выборок, аналитики обращаются к числовому описанию, а не к графикам.\n",
        "\n",
        "Стандартное отклонение — единственное значение, которого мы ещё не касались. Оно характеризует разброс величин, показывает, насколько значения в выборке отличаются от среднего арифметического.\n",
        "Бывает, что именно стандартное отклонение позволяет понять природу распределения и определить, насколько значения однородны. Выборка, где все значения близки к среднему, будет охарактеризована малым стандартным отклонением. Если же стандартное отклонение велико, в наборе данных могут быть серьёзные аномалии или выбросы.\n"
      ]
    },
    {
      "cell_type": "markdown",
      "metadata": {
        "id": "GwFUIKazs5JA"
      },
      "source": [
        "# Срезы данных методом query()\n",
        "\n",
        "Вы уже знаете, как получить общее представление о данных. Пора научиться разбираться в деталях. Откуда взялись короткие заезды на АЗС? А очень долгие? Это характерно для одной АЗС или всех? Отличаются ли чем-то АЗС со сверхдолгими заправками от других?\n",
        "\n",
        "Это гибкий инструмент получения срезов и владеть им полезно. Однако существует и более простой способ — метод **query()** (англ. «запрос»).\n",
        "\n",
        "Необходимое условие для среза записывается в строке, которую передают как аргумент методу query(). А его применяют к датафрейму. В результате получаем нужный срез.\n",
        "\n",
        "Вот для примера датафрейм с информацией об авиабилетах. Указаны пункт вылета **('From')** и прилёта **('To')**, наличие багажа **('Has_luggage')**, прямой ли рейс **('Is_Direct')**, цена билета туда-обратно **('Price')**, дата вылета **('Date_From')** и прилёта **('Date_To')**, название авиалиний **('Airline')**, время в пути в минутах туда **('Travel_time_from')** и обратно **('Travel_time_to')**.\n"
      ]
    },
    {
      "cell_type": "code",
      "execution_count": null,
      "metadata": {
        "colab": {
          "base_uri": "https://localhost:8080/"
        },
        "id": "VOehEJjgs5JA",
        "outputId": "169f838d-ec1a-4650-85f5-ca0cc6126b24"
      },
      "outputs": [
        {
          "output_type": "stream",
          "name": "stdout",
          "text": [
            "             From         To  Is_Direct  Has_luggage  Price   Date_From  \\\n",
            "0          Moscow       Rome      False         True  21032    01.07.19   \n",
            "1          Moscow       Rome       True        False  19250    01.07.19   \n",
            "2  St. Petersburg       Rome      False        False  19301  04.07.2019   \n",
            "3  St. Petersburg  Barcelona      False         True  20168  03.07.2019   \n",
            "4  St. Petersburg  Barcelona       True        False  31425  05.07.2019   \n",
            "\n",
            "      Date_To  Airline  Travel_time_from  Travel_time_to  \n",
            "0    07.07.19  Belavia               995             350  \n",
            "1    07.07.19       S7               230             225  \n",
            "2  10.07.2019  Finnair               605             720  \n",
            "3  09.07.2019    Swiss               365             355  \n",
            "4  11.07.2019  Rossiya               255             250  \n"
          ]
        }
      ],
      "source": [
        "df = pd.DataFrame(\n",
        "    {\n",
        "        'From': [\n",
        "            'Moscow',\n",
        "            'Moscow',\n",
        "            'St. Petersburg',\n",
        "            'St. Petersburg',\n",
        "            'St. Petersburg',\n",
        "        ],\n",
        "        'To': ['Rome', 'Rome', 'Rome', 'Barcelona', 'Barcelona'],\n",
        "        'Is_Direct': [False, True, False, False, True],\n",
        "        'Has_luggage': [True, False, False, True, False],\n",
        "        'Price': [21032, 19250, 19301, 20168, 31425],\n",
        "        'Date_From': [\n",
        "            '01.07.19',\n",
        "            '01.07.19',\n",
        "            '04.07.2019',\n",
        "            '03.07.2019',\n",
        "            '05.07.2019',\n",
        "        ],\n",
        "        'Date_To': [\n",
        "            '07.07.19',\n",
        "            '07.07.19',\n",
        "            '10.07.2019',\n",
        "            '09.07.2019',\n",
        "            '11.07.2019',\n",
        "        ],\n",
        "        'Airline': ['Belavia', 'S7', 'Finnair', 'Swiss', 'Rossiya'],\n",
        "        'Travel_time_from': [995, 230, 605, 365, 255],\n",
        "        'Travel_time_to': [350, 225, 720, 355, 250],\n",
        "    }\n",
        ")\n",
        "print(df)"
      ]
    },
    {
      "cell_type": "markdown",
      "metadata": {
        "id": "D9DaLTHFs5JA"
      },
      "source": [
        "Посмотрим информацию о рейсах на Барселону"
      ]
    },
    {
      "cell_type": "code",
      "execution_count": null,
      "metadata": {
        "colab": {
          "base_uri": "https://localhost:8080/",
          "height": 112
        },
        "id": "d7f_uzzEs5JA",
        "outputId": "7941514b-8b0a-40b4-932a-bf4e6e37a666"
      },
      "outputs": [
        {
          "output_type": "execute_result",
          "data": {
            "text/plain": [
              "             From         To  Is_Direct  Has_luggage  Price   Date_From  \\\n",
              "3  St. Petersburg  Barcelona      False         True  20168  03.07.2019   \n",
              "4  St. Petersburg  Barcelona       True        False  31425  05.07.2019   \n",
              "\n",
              "      Date_To  Airline  Travel_time_from  Travel_time_to  \n",
              "3  09.07.2019    Swiss               365             355  \n",
              "4  11.07.2019  Rossiya               255             250  "
            ],
            "text/html": [
              "\n",
              "  <div id=\"df-85c0f684-3956-4eed-b161-98abbeaa5254\" class=\"colab-df-container\">\n",
              "    <div>\n",
              "<style scoped>\n",
              "    .dataframe tbody tr th:only-of-type {\n",
              "        vertical-align: middle;\n",
              "    }\n",
              "\n",
              "    .dataframe tbody tr th {\n",
              "        vertical-align: top;\n",
              "    }\n",
              "\n",
              "    .dataframe thead th {\n",
              "        text-align: right;\n",
              "    }\n",
              "</style>\n",
              "<table border=\"1\" class=\"dataframe\">\n",
              "  <thead>\n",
              "    <tr style=\"text-align: right;\">\n",
              "      <th></th>\n",
              "      <th>From</th>\n",
              "      <th>To</th>\n",
              "      <th>Is_Direct</th>\n",
              "      <th>Has_luggage</th>\n",
              "      <th>Price</th>\n",
              "      <th>Date_From</th>\n",
              "      <th>Date_To</th>\n",
              "      <th>Airline</th>\n",
              "      <th>Travel_time_from</th>\n",
              "      <th>Travel_time_to</th>\n",
              "    </tr>\n",
              "  </thead>\n",
              "  <tbody>\n",
              "    <tr>\n",
              "      <th>3</th>\n",
              "      <td>St. Petersburg</td>\n",
              "      <td>Barcelona</td>\n",
              "      <td>False</td>\n",
              "      <td>True</td>\n",
              "      <td>20168</td>\n",
              "      <td>03.07.2019</td>\n",
              "      <td>09.07.2019</td>\n",
              "      <td>Swiss</td>\n",
              "      <td>365</td>\n",
              "      <td>355</td>\n",
              "    </tr>\n",
              "    <tr>\n",
              "      <th>4</th>\n",
              "      <td>St. Petersburg</td>\n",
              "      <td>Barcelona</td>\n",
              "      <td>True</td>\n",
              "      <td>False</td>\n",
              "      <td>31425</td>\n",
              "      <td>05.07.2019</td>\n",
              "      <td>11.07.2019</td>\n",
              "      <td>Rossiya</td>\n",
              "      <td>255</td>\n",
              "      <td>250</td>\n",
              "    </tr>\n",
              "  </tbody>\n",
              "</table>\n",
              "</div>\n",
              "    <div class=\"colab-df-buttons\">\n",
              "\n",
              "  <div class=\"colab-df-container\">\n",
              "    <button class=\"colab-df-convert\" onclick=\"convertToInteractive('df-85c0f684-3956-4eed-b161-98abbeaa5254')\"\n",
              "            title=\"Convert this dataframe to an interactive table.\"\n",
              "            style=\"display:none;\">\n",
              "\n",
              "  <svg xmlns=\"http://www.w3.org/2000/svg\" height=\"24px\" viewBox=\"0 -960 960 960\">\n",
              "    <path d=\"M120-120v-720h720v720H120Zm60-500h600v-160H180v160Zm220 220h160v-160H400v160Zm0 220h160v-160H400v160ZM180-400h160v-160H180v160Zm440 0h160v-160H620v160ZM180-180h160v-160H180v160Zm440 0h160v-160H620v160Z\"/>\n",
              "  </svg>\n",
              "    </button>\n",
              "\n",
              "  <style>\n",
              "    .colab-df-container {\n",
              "      display:flex;\n",
              "      gap: 12px;\n",
              "    }\n",
              "\n",
              "    .colab-df-convert {\n",
              "      background-color: #E8F0FE;\n",
              "      border: none;\n",
              "      border-radius: 50%;\n",
              "      cursor: pointer;\n",
              "      display: none;\n",
              "      fill: #1967D2;\n",
              "      height: 32px;\n",
              "      padding: 0 0 0 0;\n",
              "      width: 32px;\n",
              "    }\n",
              "\n",
              "    .colab-df-convert:hover {\n",
              "      background-color: #E2EBFA;\n",
              "      box-shadow: 0px 1px 2px rgba(60, 64, 67, 0.3), 0px 1px 3px 1px rgba(60, 64, 67, 0.15);\n",
              "      fill: #174EA6;\n",
              "    }\n",
              "\n",
              "    .colab-df-buttons div {\n",
              "      margin-bottom: 4px;\n",
              "    }\n",
              "\n",
              "    [theme=dark] .colab-df-convert {\n",
              "      background-color: #3B4455;\n",
              "      fill: #D2E3FC;\n",
              "    }\n",
              "\n",
              "    [theme=dark] .colab-df-convert:hover {\n",
              "      background-color: #434B5C;\n",
              "      box-shadow: 0px 1px 3px 1px rgba(0, 0, 0, 0.15);\n",
              "      filter: drop-shadow(0px 1px 2px rgba(0, 0, 0, 0.3));\n",
              "      fill: #FFFFFF;\n",
              "    }\n",
              "  </style>\n",
              "\n",
              "    <script>\n",
              "      const buttonEl =\n",
              "        document.querySelector('#df-85c0f684-3956-4eed-b161-98abbeaa5254 button.colab-df-convert');\n",
              "      buttonEl.style.display =\n",
              "        google.colab.kernel.accessAllowed ? 'block' : 'none';\n",
              "\n",
              "      async function convertToInteractive(key) {\n",
              "        const element = document.querySelector('#df-85c0f684-3956-4eed-b161-98abbeaa5254');\n",
              "        const dataTable =\n",
              "          await google.colab.kernel.invokeFunction('convertToInteractive',\n",
              "                                                    [key], {});\n",
              "        if (!dataTable) return;\n",
              "\n",
              "        const docLinkHtml = 'Like what you see? Visit the ' +\n",
              "          '<a target=\"_blank\" href=https://colab.research.google.com/notebooks/data_table.ipynb>data table notebook</a>'\n",
              "          + ' to learn more about interactive tables.';\n",
              "        element.innerHTML = '';\n",
              "        dataTable['output_type'] = 'display_data';\n",
              "        await google.colab.output.renderOutput(dataTable, element);\n",
              "        const docLink = document.createElement('div');\n",
              "        docLink.innerHTML = docLinkHtml;\n",
              "        element.appendChild(docLink);\n",
              "      }\n",
              "    </script>\n",
              "  </div>\n",
              "\n",
              "\n",
              "<div id=\"df-589b905b-3020-407a-9207-87cd83376306\">\n",
              "  <button class=\"colab-df-quickchart\" onclick=\"quickchart('df-589b905b-3020-407a-9207-87cd83376306')\"\n",
              "            title=\"Suggest charts\"\n",
              "            style=\"display:none;\">\n",
              "\n",
              "<svg xmlns=\"http://www.w3.org/2000/svg\" height=\"24px\"viewBox=\"0 0 24 24\"\n",
              "     width=\"24px\">\n",
              "    <g>\n",
              "        <path d=\"M19 3H5c-1.1 0-2 .9-2 2v14c0 1.1.9 2 2 2h14c1.1 0 2-.9 2-2V5c0-1.1-.9-2-2-2zM9 17H7v-7h2v7zm4 0h-2V7h2v10zm4 0h-2v-4h2v4z\"/>\n",
              "    </g>\n",
              "</svg>\n",
              "  </button>\n",
              "\n",
              "<style>\n",
              "  .colab-df-quickchart {\n",
              "      --bg-color: #E8F0FE;\n",
              "      --fill-color: #1967D2;\n",
              "      --hover-bg-color: #E2EBFA;\n",
              "      --hover-fill-color: #174EA6;\n",
              "      --disabled-fill-color: #AAA;\n",
              "      --disabled-bg-color: #DDD;\n",
              "  }\n",
              "\n",
              "  [theme=dark] .colab-df-quickchart {\n",
              "      --bg-color: #3B4455;\n",
              "      --fill-color: #D2E3FC;\n",
              "      --hover-bg-color: #434B5C;\n",
              "      --hover-fill-color: #FFFFFF;\n",
              "      --disabled-bg-color: #3B4455;\n",
              "      --disabled-fill-color: #666;\n",
              "  }\n",
              "\n",
              "  .colab-df-quickchart {\n",
              "    background-color: var(--bg-color);\n",
              "    border: none;\n",
              "    border-radius: 50%;\n",
              "    cursor: pointer;\n",
              "    display: none;\n",
              "    fill: var(--fill-color);\n",
              "    height: 32px;\n",
              "    padding: 0;\n",
              "    width: 32px;\n",
              "  }\n",
              "\n",
              "  .colab-df-quickchart:hover {\n",
              "    background-color: var(--hover-bg-color);\n",
              "    box-shadow: 0 1px 2px rgba(60, 64, 67, 0.3), 0 1px 3px 1px rgba(60, 64, 67, 0.15);\n",
              "    fill: var(--button-hover-fill-color);\n",
              "  }\n",
              "\n",
              "  .colab-df-quickchart-complete:disabled,\n",
              "  .colab-df-quickchart-complete:disabled:hover {\n",
              "    background-color: var(--disabled-bg-color);\n",
              "    fill: var(--disabled-fill-color);\n",
              "    box-shadow: none;\n",
              "  }\n",
              "\n",
              "  .colab-df-spinner {\n",
              "    border: 2px solid var(--fill-color);\n",
              "    border-color: transparent;\n",
              "    border-bottom-color: var(--fill-color);\n",
              "    animation:\n",
              "      spin 1s steps(1) infinite;\n",
              "  }\n",
              "\n",
              "  @keyframes spin {\n",
              "    0% {\n",
              "      border-color: transparent;\n",
              "      border-bottom-color: var(--fill-color);\n",
              "      border-left-color: var(--fill-color);\n",
              "    }\n",
              "    20% {\n",
              "      border-color: transparent;\n",
              "      border-left-color: var(--fill-color);\n",
              "      border-top-color: var(--fill-color);\n",
              "    }\n",
              "    30% {\n",
              "      border-color: transparent;\n",
              "      border-left-color: var(--fill-color);\n",
              "      border-top-color: var(--fill-color);\n",
              "      border-right-color: var(--fill-color);\n",
              "    }\n",
              "    40% {\n",
              "      border-color: transparent;\n",
              "      border-right-color: var(--fill-color);\n",
              "      border-top-color: var(--fill-color);\n",
              "    }\n",
              "    60% {\n",
              "      border-color: transparent;\n",
              "      border-right-color: var(--fill-color);\n",
              "    }\n",
              "    80% {\n",
              "      border-color: transparent;\n",
              "      border-right-color: var(--fill-color);\n",
              "      border-bottom-color: var(--fill-color);\n",
              "    }\n",
              "    90% {\n",
              "      border-color: transparent;\n",
              "      border-bottom-color: var(--fill-color);\n",
              "    }\n",
              "  }\n",
              "</style>\n",
              "\n",
              "  <script>\n",
              "    async function quickchart(key) {\n",
              "      const quickchartButtonEl =\n",
              "        document.querySelector('#' + key + ' button');\n",
              "      quickchartButtonEl.disabled = true;  // To prevent multiple clicks.\n",
              "      quickchartButtonEl.classList.add('colab-df-spinner');\n",
              "      try {\n",
              "        const charts = await google.colab.kernel.invokeFunction(\n",
              "            'suggestCharts', [key], {});\n",
              "      } catch (error) {\n",
              "        console.error('Error during call to suggestCharts:', error);\n",
              "      }\n",
              "      quickchartButtonEl.classList.remove('colab-df-spinner');\n",
              "      quickchartButtonEl.classList.add('colab-df-quickchart-complete');\n",
              "    }\n",
              "    (() => {\n",
              "      let quickchartButtonEl =\n",
              "        document.querySelector('#df-589b905b-3020-407a-9207-87cd83376306 button');\n",
              "      quickchartButtonEl.style.display =\n",
              "        google.colab.kernel.accessAllowed ? 'block' : 'none';\n",
              "    })();\n",
              "  </script>\n",
              "</div>\n",
              "    </div>\n",
              "  </div>\n"
            ],
            "application/vnd.google.colaboratory.intrinsic+json": {
              "type": "dataframe",
              "repr_error": "0"
            }
          },
          "metadata": {},
          "execution_count": 15
        }
      ],
      "source": [
        "df.query('To == \"Barcelona\"')"
      ]
    },
    {
      "cell_type": "markdown",
      "metadata": {
        "id": "wstpyBwVs5JA"
      },
      "source": [
        "Условия, указанные в параметре **query()**:\n",
        "\n",
        "•\tподдерживают разные операции сравнения: !=, >, >=, <, <=\n",
        "\n",
        "•\tпроверяют, входят ли конкретные значения в список, конструкцией: **Date_To in (\"07.07.19\", \"09.07.2019\")**. Если нужно узнать, нет ли в списке определённых значений, пишут так: **Date_To not in (\"07.07.19\", \"09.07.2019\")**.\n",
        "\n",
        "•\tработают с логическими операторами в привычном виде, где «или» — or , «и» — and, «не» — not. Указывать условия в скобках необязательно. Без скобок операции выполняются в следующем порядке: сначала not, потом and и, наконец, or.\n",
        "\n",
        "Обратите внимание, что значение \"Barcelona\" в коде задачи заключено в двойные кавычки. Это нужно, чтобы различать одинарные кавычки, оформляющие строку, и кавычки для элемента \"Barcelona\".\n",
        "\n",
        "Условия для среза данных можно объединять. Например, чтобы отыскать прямые рейсы или билеты с включённым в стоимость багажом — мало кому нравится летать со множеством пересадок, да ещё и без вещей.\n"
      ]
    },
    {
      "cell_type": "code",
      "execution_count": null,
      "metadata": {
        "colab": {
          "base_uri": "https://localhost:8080/",
          "height": 175
        },
        "id": "y7edHMNBs5JA",
        "outputId": "6238dd0a-a9e0-43a3-f9ce-ef63cc6de927"
      },
      "outputs": [
        {
          "output_type": "execute_result",
          "data": {
            "text/plain": [
              "             From         To  Is_Direct  Has_luggage  Price   Date_From  \\\n",
              "0          Moscow       Rome      False         True  21032    01.07.19   \n",
              "1          Moscow       Rome       True        False  19250    01.07.19   \n",
              "3  St. Petersburg  Barcelona      False         True  20168  03.07.2019   \n",
              "4  St. Petersburg  Barcelona       True        False  31425  05.07.2019   \n",
              "\n",
              "      Date_To  Airline  Travel_time_from  Travel_time_to  \n",
              "0    07.07.19  Belavia               995             350  \n",
              "1    07.07.19       S7               230             225  \n",
              "3  09.07.2019    Swiss               365             355  \n",
              "4  11.07.2019  Rossiya               255             250  "
            ],
            "text/html": [
              "\n",
              "  <div id=\"df-1867ea57-35be-4faf-bff4-1e1e652c42e3\" class=\"colab-df-container\">\n",
              "    <div>\n",
              "<style scoped>\n",
              "    .dataframe tbody tr th:only-of-type {\n",
              "        vertical-align: middle;\n",
              "    }\n",
              "\n",
              "    .dataframe tbody tr th {\n",
              "        vertical-align: top;\n",
              "    }\n",
              "\n",
              "    .dataframe thead th {\n",
              "        text-align: right;\n",
              "    }\n",
              "</style>\n",
              "<table border=\"1\" class=\"dataframe\">\n",
              "  <thead>\n",
              "    <tr style=\"text-align: right;\">\n",
              "      <th></th>\n",
              "      <th>From</th>\n",
              "      <th>To</th>\n",
              "      <th>Is_Direct</th>\n",
              "      <th>Has_luggage</th>\n",
              "      <th>Price</th>\n",
              "      <th>Date_From</th>\n",
              "      <th>Date_To</th>\n",
              "      <th>Airline</th>\n",
              "      <th>Travel_time_from</th>\n",
              "      <th>Travel_time_to</th>\n",
              "    </tr>\n",
              "  </thead>\n",
              "  <tbody>\n",
              "    <tr>\n",
              "      <th>0</th>\n",
              "      <td>Moscow</td>\n",
              "      <td>Rome</td>\n",
              "      <td>False</td>\n",
              "      <td>True</td>\n",
              "      <td>21032</td>\n",
              "      <td>01.07.19</td>\n",
              "      <td>07.07.19</td>\n",
              "      <td>Belavia</td>\n",
              "      <td>995</td>\n",
              "      <td>350</td>\n",
              "    </tr>\n",
              "    <tr>\n",
              "      <th>1</th>\n",
              "      <td>Moscow</td>\n",
              "      <td>Rome</td>\n",
              "      <td>True</td>\n",
              "      <td>False</td>\n",
              "      <td>19250</td>\n",
              "      <td>01.07.19</td>\n",
              "      <td>07.07.19</td>\n",
              "      <td>S7</td>\n",
              "      <td>230</td>\n",
              "      <td>225</td>\n",
              "    </tr>\n",
              "    <tr>\n",
              "      <th>3</th>\n",
              "      <td>St. Petersburg</td>\n",
              "      <td>Barcelona</td>\n",
              "      <td>False</td>\n",
              "      <td>True</td>\n",
              "      <td>20168</td>\n",
              "      <td>03.07.2019</td>\n",
              "      <td>09.07.2019</td>\n",
              "      <td>Swiss</td>\n",
              "      <td>365</td>\n",
              "      <td>355</td>\n",
              "    </tr>\n",
              "    <tr>\n",
              "      <th>4</th>\n",
              "      <td>St. Petersburg</td>\n",
              "      <td>Barcelona</td>\n",
              "      <td>True</td>\n",
              "      <td>False</td>\n",
              "      <td>31425</td>\n",
              "      <td>05.07.2019</td>\n",
              "      <td>11.07.2019</td>\n",
              "      <td>Rossiya</td>\n",
              "      <td>255</td>\n",
              "      <td>250</td>\n",
              "    </tr>\n",
              "  </tbody>\n",
              "</table>\n",
              "</div>\n",
              "    <div class=\"colab-df-buttons\">\n",
              "\n",
              "  <div class=\"colab-df-container\">\n",
              "    <button class=\"colab-df-convert\" onclick=\"convertToInteractive('df-1867ea57-35be-4faf-bff4-1e1e652c42e3')\"\n",
              "            title=\"Convert this dataframe to an interactive table.\"\n",
              "            style=\"display:none;\">\n",
              "\n",
              "  <svg xmlns=\"http://www.w3.org/2000/svg\" height=\"24px\" viewBox=\"0 -960 960 960\">\n",
              "    <path d=\"M120-120v-720h720v720H120Zm60-500h600v-160H180v160Zm220 220h160v-160H400v160Zm0 220h160v-160H400v160ZM180-400h160v-160H180v160Zm440 0h160v-160H620v160ZM180-180h160v-160H180v160Zm440 0h160v-160H620v160Z\"/>\n",
              "  </svg>\n",
              "    </button>\n",
              "\n",
              "  <style>\n",
              "    .colab-df-container {\n",
              "      display:flex;\n",
              "      gap: 12px;\n",
              "    }\n",
              "\n",
              "    .colab-df-convert {\n",
              "      background-color: #E8F0FE;\n",
              "      border: none;\n",
              "      border-radius: 50%;\n",
              "      cursor: pointer;\n",
              "      display: none;\n",
              "      fill: #1967D2;\n",
              "      height: 32px;\n",
              "      padding: 0 0 0 0;\n",
              "      width: 32px;\n",
              "    }\n",
              "\n",
              "    .colab-df-convert:hover {\n",
              "      background-color: #E2EBFA;\n",
              "      box-shadow: 0px 1px 2px rgba(60, 64, 67, 0.3), 0px 1px 3px 1px rgba(60, 64, 67, 0.15);\n",
              "      fill: #174EA6;\n",
              "    }\n",
              "\n",
              "    .colab-df-buttons div {\n",
              "      margin-bottom: 4px;\n",
              "    }\n",
              "\n",
              "    [theme=dark] .colab-df-convert {\n",
              "      background-color: #3B4455;\n",
              "      fill: #D2E3FC;\n",
              "    }\n",
              "\n",
              "    [theme=dark] .colab-df-convert:hover {\n",
              "      background-color: #434B5C;\n",
              "      box-shadow: 0px 1px 3px 1px rgba(0, 0, 0, 0.15);\n",
              "      filter: drop-shadow(0px 1px 2px rgba(0, 0, 0, 0.3));\n",
              "      fill: #FFFFFF;\n",
              "    }\n",
              "  </style>\n",
              "\n",
              "    <script>\n",
              "      const buttonEl =\n",
              "        document.querySelector('#df-1867ea57-35be-4faf-bff4-1e1e652c42e3 button.colab-df-convert');\n",
              "      buttonEl.style.display =\n",
              "        google.colab.kernel.accessAllowed ? 'block' : 'none';\n",
              "\n",
              "      async function convertToInteractive(key) {\n",
              "        const element = document.querySelector('#df-1867ea57-35be-4faf-bff4-1e1e652c42e3');\n",
              "        const dataTable =\n",
              "          await google.colab.kernel.invokeFunction('convertToInteractive',\n",
              "                                                    [key], {});\n",
              "        if (!dataTable) return;\n",
              "\n",
              "        const docLinkHtml = 'Like what you see? Visit the ' +\n",
              "          '<a target=\"_blank\" href=https://colab.research.google.com/notebooks/data_table.ipynb>data table notebook</a>'\n",
              "          + ' to learn more about interactive tables.';\n",
              "        element.innerHTML = '';\n",
              "        dataTable['output_type'] = 'display_data';\n",
              "        await google.colab.output.renderOutput(dataTable, element);\n",
              "        const docLink = document.createElement('div');\n",
              "        docLink.innerHTML = docLinkHtml;\n",
              "        element.appendChild(docLink);\n",
              "      }\n",
              "    </script>\n",
              "  </div>\n",
              "\n",
              "\n",
              "<div id=\"df-8f10e3a5-c5bb-43bd-984b-f319e90587d3\">\n",
              "  <button class=\"colab-df-quickchart\" onclick=\"quickchart('df-8f10e3a5-c5bb-43bd-984b-f319e90587d3')\"\n",
              "            title=\"Suggest charts\"\n",
              "            style=\"display:none;\">\n",
              "\n",
              "<svg xmlns=\"http://www.w3.org/2000/svg\" height=\"24px\"viewBox=\"0 0 24 24\"\n",
              "     width=\"24px\">\n",
              "    <g>\n",
              "        <path d=\"M19 3H5c-1.1 0-2 .9-2 2v14c0 1.1.9 2 2 2h14c1.1 0 2-.9 2-2V5c0-1.1-.9-2-2-2zM9 17H7v-7h2v7zm4 0h-2V7h2v10zm4 0h-2v-4h2v4z\"/>\n",
              "    </g>\n",
              "</svg>\n",
              "  </button>\n",
              "\n",
              "<style>\n",
              "  .colab-df-quickchart {\n",
              "      --bg-color: #E8F0FE;\n",
              "      --fill-color: #1967D2;\n",
              "      --hover-bg-color: #E2EBFA;\n",
              "      --hover-fill-color: #174EA6;\n",
              "      --disabled-fill-color: #AAA;\n",
              "      --disabled-bg-color: #DDD;\n",
              "  }\n",
              "\n",
              "  [theme=dark] .colab-df-quickchart {\n",
              "      --bg-color: #3B4455;\n",
              "      --fill-color: #D2E3FC;\n",
              "      --hover-bg-color: #434B5C;\n",
              "      --hover-fill-color: #FFFFFF;\n",
              "      --disabled-bg-color: #3B4455;\n",
              "      --disabled-fill-color: #666;\n",
              "  }\n",
              "\n",
              "  .colab-df-quickchart {\n",
              "    background-color: var(--bg-color);\n",
              "    border: none;\n",
              "    border-radius: 50%;\n",
              "    cursor: pointer;\n",
              "    display: none;\n",
              "    fill: var(--fill-color);\n",
              "    height: 32px;\n",
              "    padding: 0;\n",
              "    width: 32px;\n",
              "  }\n",
              "\n",
              "  .colab-df-quickchart:hover {\n",
              "    background-color: var(--hover-bg-color);\n",
              "    box-shadow: 0 1px 2px rgba(60, 64, 67, 0.3), 0 1px 3px 1px rgba(60, 64, 67, 0.15);\n",
              "    fill: var(--button-hover-fill-color);\n",
              "  }\n",
              "\n",
              "  .colab-df-quickchart-complete:disabled,\n",
              "  .colab-df-quickchart-complete:disabled:hover {\n",
              "    background-color: var(--disabled-bg-color);\n",
              "    fill: var(--disabled-fill-color);\n",
              "    box-shadow: none;\n",
              "  }\n",
              "\n",
              "  .colab-df-spinner {\n",
              "    border: 2px solid var(--fill-color);\n",
              "    border-color: transparent;\n",
              "    border-bottom-color: var(--fill-color);\n",
              "    animation:\n",
              "      spin 1s steps(1) infinite;\n",
              "  }\n",
              "\n",
              "  @keyframes spin {\n",
              "    0% {\n",
              "      border-color: transparent;\n",
              "      border-bottom-color: var(--fill-color);\n",
              "      border-left-color: var(--fill-color);\n",
              "    }\n",
              "    20% {\n",
              "      border-color: transparent;\n",
              "      border-left-color: var(--fill-color);\n",
              "      border-top-color: var(--fill-color);\n",
              "    }\n",
              "    30% {\n",
              "      border-color: transparent;\n",
              "      border-left-color: var(--fill-color);\n",
              "      border-top-color: var(--fill-color);\n",
              "      border-right-color: var(--fill-color);\n",
              "    }\n",
              "    40% {\n",
              "      border-color: transparent;\n",
              "      border-right-color: var(--fill-color);\n",
              "      border-top-color: var(--fill-color);\n",
              "    }\n",
              "    60% {\n",
              "      border-color: transparent;\n",
              "      border-right-color: var(--fill-color);\n",
              "    }\n",
              "    80% {\n",
              "      border-color: transparent;\n",
              "      border-right-color: var(--fill-color);\n",
              "      border-bottom-color: var(--fill-color);\n",
              "    }\n",
              "    90% {\n",
              "      border-color: transparent;\n",
              "      border-bottom-color: var(--fill-color);\n",
              "    }\n",
              "  }\n",
              "</style>\n",
              "\n",
              "  <script>\n",
              "    async function quickchart(key) {\n",
              "      const quickchartButtonEl =\n",
              "        document.querySelector('#' + key + ' button');\n",
              "      quickchartButtonEl.disabled = true;  // To prevent multiple clicks.\n",
              "      quickchartButtonEl.classList.add('colab-df-spinner');\n",
              "      try {\n",
              "        const charts = await google.colab.kernel.invokeFunction(\n",
              "            'suggestCharts', [key], {});\n",
              "      } catch (error) {\n",
              "        console.error('Error during call to suggestCharts:', error);\n",
              "      }\n",
              "      quickchartButtonEl.classList.remove('colab-df-spinner');\n",
              "      quickchartButtonEl.classList.add('colab-df-quickchart-complete');\n",
              "    }\n",
              "    (() => {\n",
              "      let quickchartButtonEl =\n",
              "        document.querySelector('#df-8f10e3a5-c5bb-43bd-984b-f319e90587d3 button');\n",
              "      quickchartButtonEl.style.display =\n",
              "        google.colab.kernel.accessAllowed ? 'block' : 'none';\n",
              "    })();\n",
              "  </script>\n",
              "</div>\n",
              "    </div>\n",
              "  </div>\n"
            ],
            "application/vnd.google.colaboratory.intrinsic+json": {
              "type": "dataframe",
              "summary": "{\n  \"name\": \"df\",\n  \"rows\": 4,\n  \"fields\": [\n    {\n      \"column\": \"From\",\n      \"properties\": {\n        \"dtype\": \"string\",\n        \"num_unique_values\": 2,\n        \"samples\": [\n          \"St. Petersburg\",\n          \"Moscow\"\n        ],\n        \"semantic_type\": \"\",\n        \"description\": \"\"\n      }\n    },\n    {\n      \"column\": \"To\",\n      \"properties\": {\n        \"dtype\": \"string\",\n        \"num_unique_values\": 2,\n        \"samples\": [\n          \"Barcelona\",\n          \"Rome\"\n        ],\n        \"semantic_type\": \"\",\n        \"description\": \"\"\n      }\n    },\n    {\n      \"column\": \"Is_Direct\",\n      \"properties\": {\n        \"dtype\": \"boolean\",\n        \"num_unique_values\": 2,\n        \"samples\": [\n          true,\n          false\n        ],\n        \"semantic_type\": \"\",\n        \"description\": \"\"\n      }\n    },\n    {\n      \"column\": \"Has_luggage\",\n      \"properties\": {\n        \"dtype\": \"boolean\",\n        \"num_unique_values\": 2,\n        \"samples\": [\n          false,\n          true\n        ],\n        \"semantic_type\": \"\",\n        \"description\": \"\"\n      }\n    },\n    {\n      \"column\": \"Price\",\n      \"properties\": {\n        \"dtype\": \"number\",\n        \"std\": 5684,\n        \"min\": 19250,\n        \"max\": 31425,\n        \"num_unique_values\": 4,\n        \"samples\": [\n          19250,\n          31425\n        ],\n        \"semantic_type\": \"\",\n        \"description\": \"\"\n      }\n    },\n    {\n      \"column\": \"Date_From\",\n      \"properties\": {\n        \"dtype\": \"object\",\n        \"num_unique_values\": 3,\n        \"samples\": [\n          \"01.07.19\",\n          \"03.07.2019\"\n        ],\n        \"semantic_type\": \"\",\n        \"description\": \"\"\n      }\n    },\n    {\n      \"column\": \"Date_To\",\n      \"properties\": {\n        \"dtype\": \"object\",\n        \"num_unique_values\": 3,\n        \"samples\": [\n          \"07.07.19\",\n          \"09.07.2019\"\n        ],\n        \"semantic_type\": \"\",\n        \"description\": \"\"\n      }\n    },\n    {\n      \"column\": \"Airline\",\n      \"properties\": {\n        \"dtype\": \"string\",\n        \"num_unique_values\": 4,\n        \"samples\": [\n          \"S7\",\n          \"Rossiya\"\n        ],\n        \"semantic_type\": \"\",\n        \"description\": \"\"\n      }\n    },\n    {\n      \"column\": \"Travel_time_from\",\n      \"properties\": {\n        \"dtype\": \"number\",\n        \"std\": 360,\n        \"min\": 230,\n        \"max\": 995,\n        \"num_unique_values\": 4,\n        \"samples\": [\n          230,\n          255\n        ],\n        \"semantic_type\": \"\",\n        \"description\": \"\"\n      }\n    },\n    {\n      \"column\": \"Travel_time_to\",\n      \"properties\": {\n        \"dtype\": \"number\",\n        \"std\": 67,\n        \"min\": 225,\n        \"max\": 355,\n        \"num_unique_values\": 4,\n        \"samples\": [\n          225,\n          250\n        ],\n        \"semantic_type\": \"\",\n        \"description\": \"\"\n      }\n    }\n  ]\n}"
            }
          },
          "metadata": {},
          "execution_count": 16
        }
      ],
      "source": [
        "df.query('Is_Direct == True or Has_luggage == True')"
      ]
    },
    {
      "cell_type": "markdown",
      "metadata": {
        "id": "qXULGWR5s5JA"
      },
      "source": [
        "## Возможности query()\n",
        "Кроме объединения условий, в **query()** можно проводить математические операции:\n"
      ]
    },
    {
      "cell_type": "code",
      "execution_count": null,
      "metadata": {
        "colab": {
          "base_uri": "https://localhost:8080/",
          "height": 175
        },
        "id": "DYrTOuqfs5JB",
        "outputId": "4aa1e08a-a071-40b7-ebc9-3647fcf77c58"
      },
      "outputs": [
        {
          "output_type": "execute_result",
          "data": {
            "text/plain": [
              "             From         To  Is_Direct  Has_luggage  Price   Date_From  \\\n",
              "1          Moscow       Rome       True        False  19250    01.07.19   \n",
              "2  St. Petersburg       Rome      False        False  19301  04.07.2019   \n",
              "3  St. Petersburg  Barcelona      False         True  20168  03.07.2019   \n",
              "4  St. Petersburg  Barcelona       True        False  31425  05.07.2019   \n",
              "\n",
              "      Date_To  Airline  Travel_time_from  Travel_time_to  \n",
              "1    07.07.19       S7               230             225  \n",
              "2  10.07.2019  Finnair               605             720  \n",
              "3  09.07.2019    Swiss               365             355  \n",
              "4  11.07.2019  Rossiya               255             250  "
            ],
            "text/html": [
              "\n",
              "  <div id=\"df-c05bec4b-c46d-4b6a-8b97-52872d0782a9\" class=\"colab-df-container\">\n",
              "    <div>\n",
              "<style scoped>\n",
              "    .dataframe tbody tr th:only-of-type {\n",
              "        vertical-align: middle;\n",
              "    }\n",
              "\n",
              "    .dataframe tbody tr th {\n",
              "        vertical-align: top;\n",
              "    }\n",
              "\n",
              "    .dataframe thead th {\n",
              "        text-align: right;\n",
              "    }\n",
              "</style>\n",
              "<table border=\"1\" class=\"dataframe\">\n",
              "  <thead>\n",
              "    <tr style=\"text-align: right;\">\n",
              "      <th></th>\n",
              "      <th>From</th>\n",
              "      <th>To</th>\n",
              "      <th>Is_Direct</th>\n",
              "      <th>Has_luggage</th>\n",
              "      <th>Price</th>\n",
              "      <th>Date_From</th>\n",
              "      <th>Date_To</th>\n",
              "      <th>Airline</th>\n",
              "      <th>Travel_time_from</th>\n",
              "      <th>Travel_time_to</th>\n",
              "    </tr>\n",
              "  </thead>\n",
              "  <tbody>\n",
              "    <tr>\n",
              "      <th>1</th>\n",
              "      <td>Moscow</td>\n",
              "      <td>Rome</td>\n",
              "      <td>True</td>\n",
              "      <td>False</td>\n",
              "      <td>19250</td>\n",
              "      <td>01.07.19</td>\n",
              "      <td>07.07.19</td>\n",
              "      <td>S7</td>\n",
              "      <td>230</td>\n",
              "      <td>225</td>\n",
              "    </tr>\n",
              "    <tr>\n",
              "      <th>2</th>\n",
              "      <td>St. Petersburg</td>\n",
              "      <td>Rome</td>\n",
              "      <td>False</td>\n",
              "      <td>False</td>\n",
              "      <td>19301</td>\n",
              "      <td>04.07.2019</td>\n",
              "      <td>10.07.2019</td>\n",
              "      <td>Finnair</td>\n",
              "      <td>605</td>\n",
              "      <td>720</td>\n",
              "    </tr>\n",
              "    <tr>\n",
              "      <th>3</th>\n",
              "      <td>St. Petersburg</td>\n",
              "      <td>Barcelona</td>\n",
              "      <td>False</td>\n",
              "      <td>True</td>\n",
              "      <td>20168</td>\n",
              "      <td>03.07.2019</td>\n",
              "      <td>09.07.2019</td>\n",
              "      <td>Swiss</td>\n",
              "      <td>365</td>\n",
              "      <td>355</td>\n",
              "    </tr>\n",
              "    <tr>\n",
              "      <th>4</th>\n",
              "      <td>St. Petersburg</td>\n",
              "      <td>Barcelona</td>\n",
              "      <td>True</td>\n",
              "      <td>False</td>\n",
              "      <td>31425</td>\n",
              "      <td>05.07.2019</td>\n",
              "      <td>11.07.2019</td>\n",
              "      <td>Rossiya</td>\n",
              "      <td>255</td>\n",
              "      <td>250</td>\n",
              "    </tr>\n",
              "  </tbody>\n",
              "</table>\n",
              "</div>\n",
              "    <div class=\"colab-df-buttons\">\n",
              "\n",
              "  <div class=\"colab-df-container\">\n",
              "    <button class=\"colab-df-convert\" onclick=\"convertToInteractive('df-c05bec4b-c46d-4b6a-8b97-52872d0782a9')\"\n",
              "            title=\"Convert this dataframe to an interactive table.\"\n",
              "            style=\"display:none;\">\n",
              "\n",
              "  <svg xmlns=\"http://www.w3.org/2000/svg\" height=\"24px\" viewBox=\"0 -960 960 960\">\n",
              "    <path d=\"M120-120v-720h720v720H120Zm60-500h600v-160H180v160Zm220 220h160v-160H400v160Zm0 220h160v-160H400v160ZM180-400h160v-160H180v160Zm440 0h160v-160H620v160ZM180-180h160v-160H180v160Zm440 0h160v-160H620v160Z\"/>\n",
              "  </svg>\n",
              "    </button>\n",
              "\n",
              "  <style>\n",
              "    .colab-df-container {\n",
              "      display:flex;\n",
              "      gap: 12px;\n",
              "    }\n",
              "\n",
              "    .colab-df-convert {\n",
              "      background-color: #E8F0FE;\n",
              "      border: none;\n",
              "      border-radius: 50%;\n",
              "      cursor: pointer;\n",
              "      display: none;\n",
              "      fill: #1967D2;\n",
              "      height: 32px;\n",
              "      padding: 0 0 0 0;\n",
              "      width: 32px;\n",
              "    }\n",
              "\n",
              "    .colab-df-convert:hover {\n",
              "      background-color: #E2EBFA;\n",
              "      box-shadow: 0px 1px 2px rgba(60, 64, 67, 0.3), 0px 1px 3px 1px rgba(60, 64, 67, 0.15);\n",
              "      fill: #174EA6;\n",
              "    }\n",
              "\n",
              "    .colab-df-buttons div {\n",
              "      margin-bottom: 4px;\n",
              "    }\n",
              "\n",
              "    [theme=dark] .colab-df-convert {\n",
              "      background-color: #3B4455;\n",
              "      fill: #D2E3FC;\n",
              "    }\n",
              "\n",
              "    [theme=dark] .colab-df-convert:hover {\n",
              "      background-color: #434B5C;\n",
              "      box-shadow: 0px 1px 3px 1px rgba(0, 0, 0, 0.15);\n",
              "      filter: drop-shadow(0px 1px 2px rgba(0, 0, 0, 0.3));\n",
              "      fill: #FFFFFF;\n",
              "    }\n",
              "  </style>\n",
              "\n",
              "    <script>\n",
              "      const buttonEl =\n",
              "        document.querySelector('#df-c05bec4b-c46d-4b6a-8b97-52872d0782a9 button.colab-df-convert');\n",
              "      buttonEl.style.display =\n",
              "        google.colab.kernel.accessAllowed ? 'block' : 'none';\n",
              "\n",
              "      async function convertToInteractive(key) {\n",
              "        const element = document.querySelector('#df-c05bec4b-c46d-4b6a-8b97-52872d0782a9');\n",
              "        const dataTable =\n",
              "          await google.colab.kernel.invokeFunction('convertToInteractive',\n",
              "                                                    [key], {});\n",
              "        if (!dataTable) return;\n",
              "\n",
              "        const docLinkHtml = 'Like what you see? Visit the ' +\n",
              "          '<a target=\"_blank\" href=https://colab.research.google.com/notebooks/data_table.ipynb>data table notebook</a>'\n",
              "          + ' to learn more about interactive tables.';\n",
              "        element.innerHTML = '';\n",
              "        dataTable['output_type'] = 'display_data';\n",
              "        await google.colab.output.renderOutput(dataTable, element);\n",
              "        const docLink = document.createElement('div');\n",
              "        docLink.innerHTML = docLinkHtml;\n",
              "        element.appendChild(docLink);\n",
              "      }\n",
              "    </script>\n",
              "  </div>\n",
              "\n",
              "\n",
              "<div id=\"df-19aebc6f-9b7a-4b3a-b047-788b4fa6dc98\">\n",
              "  <button class=\"colab-df-quickchart\" onclick=\"quickchart('df-19aebc6f-9b7a-4b3a-b047-788b4fa6dc98')\"\n",
              "            title=\"Suggest charts\"\n",
              "            style=\"display:none;\">\n",
              "\n",
              "<svg xmlns=\"http://www.w3.org/2000/svg\" height=\"24px\"viewBox=\"0 0 24 24\"\n",
              "     width=\"24px\">\n",
              "    <g>\n",
              "        <path d=\"M19 3H5c-1.1 0-2 .9-2 2v14c0 1.1.9 2 2 2h14c1.1 0 2-.9 2-2V5c0-1.1-.9-2-2-2zM9 17H7v-7h2v7zm4 0h-2V7h2v10zm4 0h-2v-4h2v4z\"/>\n",
              "    </g>\n",
              "</svg>\n",
              "  </button>\n",
              "\n",
              "<style>\n",
              "  .colab-df-quickchart {\n",
              "      --bg-color: #E8F0FE;\n",
              "      --fill-color: #1967D2;\n",
              "      --hover-bg-color: #E2EBFA;\n",
              "      --hover-fill-color: #174EA6;\n",
              "      --disabled-fill-color: #AAA;\n",
              "      --disabled-bg-color: #DDD;\n",
              "  }\n",
              "\n",
              "  [theme=dark] .colab-df-quickchart {\n",
              "      --bg-color: #3B4455;\n",
              "      --fill-color: #D2E3FC;\n",
              "      --hover-bg-color: #434B5C;\n",
              "      --hover-fill-color: #FFFFFF;\n",
              "      --disabled-bg-color: #3B4455;\n",
              "      --disabled-fill-color: #666;\n",
              "  }\n",
              "\n",
              "  .colab-df-quickchart {\n",
              "    background-color: var(--bg-color);\n",
              "    border: none;\n",
              "    border-radius: 50%;\n",
              "    cursor: pointer;\n",
              "    display: none;\n",
              "    fill: var(--fill-color);\n",
              "    height: 32px;\n",
              "    padding: 0;\n",
              "    width: 32px;\n",
              "  }\n",
              "\n",
              "  .colab-df-quickchart:hover {\n",
              "    background-color: var(--hover-bg-color);\n",
              "    box-shadow: 0 1px 2px rgba(60, 64, 67, 0.3), 0 1px 3px 1px rgba(60, 64, 67, 0.15);\n",
              "    fill: var(--button-hover-fill-color);\n",
              "  }\n",
              "\n",
              "  .colab-df-quickchart-complete:disabled,\n",
              "  .colab-df-quickchart-complete:disabled:hover {\n",
              "    background-color: var(--disabled-bg-color);\n",
              "    fill: var(--disabled-fill-color);\n",
              "    box-shadow: none;\n",
              "  }\n",
              "\n",
              "  .colab-df-spinner {\n",
              "    border: 2px solid var(--fill-color);\n",
              "    border-color: transparent;\n",
              "    border-bottom-color: var(--fill-color);\n",
              "    animation:\n",
              "      spin 1s steps(1) infinite;\n",
              "  }\n",
              "\n",
              "  @keyframes spin {\n",
              "    0% {\n",
              "      border-color: transparent;\n",
              "      border-bottom-color: var(--fill-color);\n",
              "      border-left-color: var(--fill-color);\n",
              "    }\n",
              "    20% {\n",
              "      border-color: transparent;\n",
              "      border-left-color: var(--fill-color);\n",
              "      border-top-color: var(--fill-color);\n",
              "    }\n",
              "    30% {\n",
              "      border-color: transparent;\n",
              "      border-left-color: var(--fill-color);\n",
              "      border-top-color: var(--fill-color);\n",
              "      border-right-color: var(--fill-color);\n",
              "    }\n",
              "    40% {\n",
              "      border-color: transparent;\n",
              "      border-right-color: var(--fill-color);\n",
              "      border-top-color: var(--fill-color);\n",
              "    }\n",
              "    60% {\n",
              "      border-color: transparent;\n",
              "      border-right-color: var(--fill-color);\n",
              "    }\n",
              "    80% {\n",
              "      border-color: transparent;\n",
              "      border-right-color: var(--fill-color);\n",
              "      border-bottom-color: var(--fill-color);\n",
              "    }\n",
              "    90% {\n",
              "      border-color: transparent;\n",
              "      border-bottom-color: var(--fill-color);\n",
              "    }\n",
              "  }\n",
              "</style>\n",
              "\n",
              "  <script>\n",
              "    async function quickchart(key) {\n",
              "      const quickchartButtonEl =\n",
              "        document.querySelector('#' + key + ' button');\n",
              "      quickchartButtonEl.disabled = true;  // To prevent multiple clicks.\n",
              "      quickchartButtonEl.classList.add('colab-df-spinner');\n",
              "      try {\n",
              "        const charts = await google.colab.kernel.invokeFunction(\n",
              "            'suggestCharts', [key], {});\n",
              "      } catch (error) {\n",
              "        console.error('Error during call to suggestCharts:', error);\n",
              "      }\n",
              "      quickchartButtonEl.classList.remove('colab-df-spinner');\n",
              "      quickchartButtonEl.classList.add('colab-df-quickchart-complete');\n",
              "    }\n",
              "    (() => {\n",
              "      let quickchartButtonEl =\n",
              "        document.querySelector('#df-19aebc6f-9b7a-4b3a-b047-788b4fa6dc98 button');\n",
              "      quickchartButtonEl.style.display =\n",
              "        google.colab.kernel.accessAllowed ? 'block' : 'none';\n",
              "    })();\n",
              "  </script>\n",
              "</div>\n",
              "    </div>\n",
              "  </div>\n"
            ],
            "application/vnd.google.colaboratory.intrinsic+json": {
              "type": "dataframe",
              "repr_error": "0"
            }
          },
          "metadata": {},
          "execution_count": 17
        }
      ],
      "source": [
        "df.query('Travel_time_from < 2 * Travel_time_to ')"
      ]
    },
    {
      "cell_type": "markdown",
      "metadata": {
        "id": "PUt3MLFss5JB"
      },
      "source": [
        "И даже вызывать методы:"
      ]
    },
    {
      "cell_type": "code",
      "execution_count": null,
      "metadata": {
        "colab": {
          "base_uri": "https://localhost:8080/",
          "height": 143
        },
        "id": "oD-33M7ps5JB",
        "outputId": "04d3d0d7-2b4b-4829-9a76-b3d5c5c7116b"
      },
      "outputs": [
        {
          "output_type": "execute_result",
          "data": {
            "text/plain": [
              "             From         To  Is_Direct  Has_luggage  Price   Date_From  \\\n",
              "1          Moscow       Rome       True        False  19250    01.07.19   \n",
              "3  St. Petersburg  Barcelona      False         True  20168  03.07.2019   \n",
              "4  St. Petersburg  Barcelona       True        False  31425  05.07.2019   \n",
              "\n",
              "      Date_To  Airline  Travel_time_from  Travel_time_to  \n",
              "1    07.07.19       S7               230             225  \n",
              "3  09.07.2019    Swiss               365             355  \n",
              "4  11.07.2019  Rossiya               255             250  "
            ],
            "text/html": [
              "\n",
              "  <div id=\"df-e6cd9cef-2782-45b1-8e5b-a3586c73dc26\" class=\"colab-df-container\">\n",
              "    <div>\n",
              "<style scoped>\n",
              "    .dataframe tbody tr th:only-of-type {\n",
              "        vertical-align: middle;\n",
              "    }\n",
              "\n",
              "    .dataframe tbody tr th {\n",
              "        vertical-align: top;\n",
              "    }\n",
              "\n",
              "    .dataframe thead th {\n",
              "        text-align: right;\n",
              "    }\n",
              "</style>\n",
              "<table border=\"1\" class=\"dataframe\">\n",
              "  <thead>\n",
              "    <tr style=\"text-align: right;\">\n",
              "      <th></th>\n",
              "      <th>From</th>\n",
              "      <th>To</th>\n",
              "      <th>Is_Direct</th>\n",
              "      <th>Has_luggage</th>\n",
              "      <th>Price</th>\n",
              "      <th>Date_From</th>\n",
              "      <th>Date_To</th>\n",
              "      <th>Airline</th>\n",
              "      <th>Travel_time_from</th>\n",
              "      <th>Travel_time_to</th>\n",
              "    </tr>\n",
              "  </thead>\n",
              "  <tbody>\n",
              "    <tr>\n",
              "      <th>1</th>\n",
              "      <td>Moscow</td>\n",
              "      <td>Rome</td>\n",
              "      <td>True</td>\n",
              "      <td>False</td>\n",
              "      <td>19250</td>\n",
              "      <td>01.07.19</td>\n",
              "      <td>07.07.19</td>\n",
              "      <td>S7</td>\n",
              "      <td>230</td>\n",
              "      <td>225</td>\n",
              "    </tr>\n",
              "    <tr>\n",
              "      <th>3</th>\n",
              "      <td>St. Petersburg</td>\n",
              "      <td>Barcelona</td>\n",
              "      <td>False</td>\n",
              "      <td>True</td>\n",
              "      <td>20168</td>\n",
              "      <td>03.07.2019</td>\n",
              "      <td>09.07.2019</td>\n",
              "      <td>Swiss</td>\n",
              "      <td>365</td>\n",
              "      <td>355</td>\n",
              "    </tr>\n",
              "    <tr>\n",
              "      <th>4</th>\n",
              "      <td>St. Petersburg</td>\n",
              "      <td>Barcelona</td>\n",
              "      <td>True</td>\n",
              "      <td>False</td>\n",
              "      <td>31425</td>\n",
              "      <td>05.07.2019</td>\n",
              "      <td>11.07.2019</td>\n",
              "      <td>Rossiya</td>\n",
              "      <td>255</td>\n",
              "      <td>250</td>\n",
              "    </tr>\n",
              "  </tbody>\n",
              "</table>\n",
              "</div>\n",
              "    <div class=\"colab-df-buttons\">\n",
              "\n",
              "  <div class=\"colab-df-container\">\n",
              "    <button class=\"colab-df-convert\" onclick=\"convertToInteractive('df-e6cd9cef-2782-45b1-8e5b-a3586c73dc26')\"\n",
              "            title=\"Convert this dataframe to an interactive table.\"\n",
              "            style=\"display:none;\">\n",
              "\n",
              "  <svg xmlns=\"http://www.w3.org/2000/svg\" height=\"24px\" viewBox=\"0 -960 960 960\">\n",
              "    <path d=\"M120-120v-720h720v720H120Zm60-500h600v-160H180v160Zm220 220h160v-160H400v160Zm0 220h160v-160H400v160ZM180-400h160v-160H180v160Zm440 0h160v-160H620v160ZM180-180h160v-160H180v160Zm440 0h160v-160H620v160Z\"/>\n",
              "  </svg>\n",
              "    </button>\n",
              "\n",
              "  <style>\n",
              "    .colab-df-container {\n",
              "      display:flex;\n",
              "      gap: 12px;\n",
              "    }\n",
              "\n",
              "    .colab-df-convert {\n",
              "      background-color: #E8F0FE;\n",
              "      border: none;\n",
              "      border-radius: 50%;\n",
              "      cursor: pointer;\n",
              "      display: none;\n",
              "      fill: #1967D2;\n",
              "      height: 32px;\n",
              "      padding: 0 0 0 0;\n",
              "      width: 32px;\n",
              "    }\n",
              "\n",
              "    .colab-df-convert:hover {\n",
              "      background-color: #E2EBFA;\n",
              "      box-shadow: 0px 1px 2px rgba(60, 64, 67, 0.3), 0px 1px 3px 1px rgba(60, 64, 67, 0.15);\n",
              "      fill: #174EA6;\n",
              "    }\n",
              "\n",
              "    .colab-df-buttons div {\n",
              "      margin-bottom: 4px;\n",
              "    }\n",
              "\n",
              "    [theme=dark] .colab-df-convert {\n",
              "      background-color: #3B4455;\n",
              "      fill: #D2E3FC;\n",
              "    }\n",
              "\n",
              "    [theme=dark] .colab-df-convert:hover {\n",
              "      background-color: #434B5C;\n",
              "      box-shadow: 0px 1px 3px 1px rgba(0, 0, 0, 0.15);\n",
              "      filter: drop-shadow(0px 1px 2px rgba(0, 0, 0, 0.3));\n",
              "      fill: #FFFFFF;\n",
              "    }\n",
              "  </style>\n",
              "\n",
              "    <script>\n",
              "      const buttonEl =\n",
              "        document.querySelector('#df-e6cd9cef-2782-45b1-8e5b-a3586c73dc26 button.colab-df-convert');\n",
              "      buttonEl.style.display =\n",
              "        google.colab.kernel.accessAllowed ? 'block' : 'none';\n",
              "\n",
              "      async function convertToInteractive(key) {\n",
              "        const element = document.querySelector('#df-e6cd9cef-2782-45b1-8e5b-a3586c73dc26');\n",
              "        const dataTable =\n",
              "          await google.colab.kernel.invokeFunction('convertToInteractive',\n",
              "                                                    [key], {});\n",
              "        if (!dataTable) return;\n",
              "\n",
              "        const docLinkHtml = 'Like what you see? Visit the ' +\n",
              "          '<a target=\"_blank\" href=https://colab.research.google.com/notebooks/data_table.ipynb>data table notebook</a>'\n",
              "          + ' to learn more about interactive tables.';\n",
              "        element.innerHTML = '';\n",
              "        dataTable['output_type'] = 'display_data';\n",
              "        await google.colab.output.renderOutput(dataTable, element);\n",
              "        const docLink = document.createElement('div');\n",
              "        docLink.innerHTML = docLinkHtml;\n",
              "        element.appendChild(docLink);\n",
              "      }\n",
              "    </script>\n",
              "  </div>\n",
              "\n",
              "\n",
              "<div id=\"df-5c94af97-f501-4f8a-80fc-7c16a49d2308\">\n",
              "  <button class=\"colab-df-quickchart\" onclick=\"quickchart('df-5c94af97-f501-4f8a-80fc-7c16a49d2308')\"\n",
              "            title=\"Suggest charts\"\n",
              "            style=\"display:none;\">\n",
              "\n",
              "<svg xmlns=\"http://www.w3.org/2000/svg\" height=\"24px\"viewBox=\"0 0 24 24\"\n",
              "     width=\"24px\">\n",
              "    <g>\n",
              "        <path d=\"M19 3H5c-1.1 0-2 .9-2 2v14c0 1.1.9 2 2 2h14c1.1 0 2-.9 2-2V5c0-1.1-.9-2-2-2zM9 17H7v-7h2v7zm4 0h-2V7h2v10zm4 0h-2v-4h2v4z\"/>\n",
              "    </g>\n",
              "</svg>\n",
              "  </button>\n",
              "\n",
              "<style>\n",
              "  .colab-df-quickchart {\n",
              "      --bg-color: #E8F0FE;\n",
              "      --fill-color: #1967D2;\n",
              "      --hover-bg-color: #E2EBFA;\n",
              "      --hover-fill-color: #174EA6;\n",
              "      --disabled-fill-color: #AAA;\n",
              "      --disabled-bg-color: #DDD;\n",
              "  }\n",
              "\n",
              "  [theme=dark] .colab-df-quickchart {\n",
              "      --bg-color: #3B4455;\n",
              "      --fill-color: #D2E3FC;\n",
              "      --hover-bg-color: #434B5C;\n",
              "      --hover-fill-color: #FFFFFF;\n",
              "      --disabled-bg-color: #3B4455;\n",
              "      --disabled-fill-color: #666;\n",
              "  }\n",
              "\n",
              "  .colab-df-quickchart {\n",
              "    background-color: var(--bg-color);\n",
              "    border: none;\n",
              "    border-radius: 50%;\n",
              "    cursor: pointer;\n",
              "    display: none;\n",
              "    fill: var(--fill-color);\n",
              "    height: 32px;\n",
              "    padding: 0;\n",
              "    width: 32px;\n",
              "  }\n",
              "\n",
              "  .colab-df-quickchart:hover {\n",
              "    background-color: var(--hover-bg-color);\n",
              "    box-shadow: 0 1px 2px rgba(60, 64, 67, 0.3), 0 1px 3px 1px rgba(60, 64, 67, 0.15);\n",
              "    fill: var(--button-hover-fill-color);\n",
              "  }\n",
              "\n",
              "  .colab-df-quickchart-complete:disabled,\n",
              "  .colab-df-quickchart-complete:disabled:hover {\n",
              "    background-color: var(--disabled-bg-color);\n",
              "    fill: var(--disabled-fill-color);\n",
              "    box-shadow: none;\n",
              "  }\n",
              "\n",
              "  .colab-df-spinner {\n",
              "    border: 2px solid var(--fill-color);\n",
              "    border-color: transparent;\n",
              "    border-bottom-color: var(--fill-color);\n",
              "    animation:\n",
              "      spin 1s steps(1) infinite;\n",
              "  }\n",
              "\n",
              "  @keyframes spin {\n",
              "    0% {\n",
              "      border-color: transparent;\n",
              "      border-bottom-color: var(--fill-color);\n",
              "      border-left-color: var(--fill-color);\n",
              "    }\n",
              "    20% {\n",
              "      border-color: transparent;\n",
              "      border-left-color: var(--fill-color);\n",
              "      border-top-color: var(--fill-color);\n",
              "    }\n",
              "    30% {\n",
              "      border-color: transparent;\n",
              "      border-left-color: var(--fill-color);\n",
              "      border-top-color: var(--fill-color);\n",
              "      border-right-color: var(--fill-color);\n",
              "    }\n",
              "    40% {\n",
              "      border-color: transparent;\n",
              "      border-right-color: var(--fill-color);\n",
              "      border-top-color: var(--fill-color);\n",
              "    }\n",
              "    60% {\n",
              "      border-color: transparent;\n",
              "      border-right-color: var(--fill-color);\n",
              "    }\n",
              "    80% {\n",
              "      border-color: transparent;\n",
              "      border-right-color: var(--fill-color);\n",
              "      border-bottom-color: var(--fill-color);\n",
              "    }\n",
              "    90% {\n",
              "      border-color: transparent;\n",
              "      border-bottom-color: var(--fill-color);\n",
              "    }\n",
              "  }\n",
              "</style>\n",
              "\n",
              "  <script>\n",
              "    async function quickchart(key) {\n",
              "      const quickchartButtonEl =\n",
              "        document.querySelector('#' + key + ' button');\n",
              "      quickchartButtonEl.disabled = true;  // To prevent multiple clicks.\n",
              "      quickchartButtonEl.classList.add('colab-df-spinner');\n",
              "      try {\n",
              "        const charts = await google.colab.kernel.invokeFunction(\n",
              "            'suggestCharts', [key], {});\n",
              "      } catch (error) {\n",
              "        console.error('Error during call to suggestCharts:', error);\n",
              "      }\n",
              "      quickchartButtonEl.classList.remove('colab-df-spinner');\n",
              "      quickchartButtonEl.classList.add('colab-df-quickchart-complete');\n",
              "    }\n",
              "    (() => {\n",
              "      let quickchartButtonEl =\n",
              "        document.querySelector('#df-5c94af97-f501-4f8a-80fc-7c16a49d2308 button');\n",
              "      quickchartButtonEl.style.display =\n",
              "        google.colab.kernel.accessAllowed ? 'block' : 'none';\n",
              "    })();\n",
              "  </script>\n",
              "</div>\n",
              "    </div>\n",
              "  </div>\n"
            ],
            "application/vnd.google.colaboratory.intrinsic+json": {
              "type": "dataframe",
              "repr_error": "0"
            }
          },
          "metadata": {},
          "execution_count": 18
        }
      ],
      "source": [
        "df.query('Travel_time_from < Travel_time_to.mean()')"
      ]
    },
    {
      "cell_type": "markdown",
      "metadata": {
        "id": "DJ_xnIYes5JB"
      },
      "source": [
        "Ещё в **query()** можно включать внешние переменные (не из датафрейма). Когда упоминаете такую переменную, помечайте её знаком @:"
      ]
    },
    {
      "cell_type": "code",
      "execution_count": null,
      "metadata": {
        "colab": {
          "base_uri": "https://localhost:8080/",
          "height": 112
        },
        "id": "4H0NErsYs5JB",
        "outputId": "a09fc8e0-918b-40ec-efac-88fe884b9935"
      },
      "outputs": [
        {
          "output_type": "execute_result",
          "data": {
            "text/plain": [
              "             From    To  Is_Direct  Has_luggage  Price   Date_From  \\\n",
              "1          Moscow  Rome       True        False  19250    01.07.19   \n",
              "2  St. Petersburg  Rome      False        False  19301  04.07.2019   \n",
              "\n",
              "      Date_To  Airline  Travel_time_from  Travel_time_to  \n",
              "1    07.07.19       S7               230             225  \n",
              "2  10.07.2019  Finnair               605             720  "
            ],
            "text/html": [
              "\n",
              "  <div id=\"df-46c91177-647d-4a83-9450-337fa9c17d85\" class=\"colab-df-container\">\n",
              "    <div>\n",
              "<style scoped>\n",
              "    .dataframe tbody tr th:only-of-type {\n",
              "        vertical-align: middle;\n",
              "    }\n",
              "\n",
              "    .dataframe tbody tr th {\n",
              "        vertical-align: top;\n",
              "    }\n",
              "\n",
              "    .dataframe thead th {\n",
              "        text-align: right;\n",
              "    }\n",
              "</style>\n",
              "<table border=\"1\" class=\"dataframe\">\n",
              "  <thead>\n",
              "    <tr style=\"text-align: right;\">\n",
              "      <th></th>\n",
              "      <th>From</th>\n",
              "      <th>To</th>\n",
              "      <th>Is_Direct</th>\n",
              "      <th>Has_luggage</th>\n",
              "      <th>Price</th>\n",
              "      <th>Date_From</th>\n",
              "      <th>Date_To</th>\n",
              "      <th>Airline</th>\n",
              "      <th>Travel_time_from</th>\n",
              "      <th>Travel_time_to</th>\n",
              "    </tr>\n",
              "  </thead>\n",
              "  <tbody>\n",
              "    <tr>\n",
              "      <th>1</th>\n",
              "      <td>Moscow</td>\n",
              "      <td>Rome</td>\n",
              "      <td>True</td>\n",
              "      <td>False</td>\n",
              "      <td>19250</td>\n",
              "      <td>01.07.19</td>\n",
              "      <td>07.07.19</td>\n",
              "      <td>S7</td>\n",
              "      <td>230</td>\n",
              "      <td>225</td>\n",
              "    </tr>\n",
              "    <tr>\n",
              "      <th>2</th>\n",
              "      <td>St. Petersburg</td>\n",
              "      <td>Rome</td>\n",
              "      <td>False</td>\n",
              "      <td>False</td>\n",
              "      <td>19301</td>\n",
              "      <td>04.07.2019</td>\n",
              "      <td>10.07.2019</td>\n",
              "      <td>Finnair</td>\n",
              "      <td>605</td>\n",
              "      <td>720</td>\n",
              "    </tr>\n",
              "  </tbody>\n",
              "</table>\n",
              "</div>\n",
              "    <div class=\"colab-df-buttons\">\n",
              "\n",
              "  <div class=\"colab-df-container\">\n",
              "    <button class=\"colab-df-convert\" onclick=\"convertToInteractive('df-46c91177-647d-4a83-9450-337fa9c17d85')\"\n",
              "            title=\"Convert this dataframe to an interactive table.\"\n",
              "            style=\"display:none;\">\n",
              "\n",
              "  <svg xmlns=\"http://www.w3.org/2000/svg\" height=\"24px\" viewBox=\"0 -960 960 960\">\n",
              "    <path d=\"M120-120v-720h720v720H120Zm60-500h600v-160H180v160Zm220 220h160v-160H400v160Zm0 220h160v-160H400v160ZM180-400h160v-160H180v160Zm440 0h160v-160H620v160ZM180-180h160v-160H180v160Zm440 0h160v-160H620v160Z\"/>\n",
              "  </svg>\n",
              "    </button>\n",
              "\n",
              "  <style>\n",
              "    .colab-df-container {\n",
              "      display:flex;\n",
              "      gap: 12px;\n",
              "    }\n",
              "\n",
              "    .colab-df-convert {\n",
              "      background-color: #E8F0FE;\n",
              "      border: none;\n",
              "      border-radius: 50%;\n",
              "      cursor: pointer;\n",
              "      display: none;\n",
              "      fill: #1967D2;\n",
              "      height: 32px;\n",
              "      padding: 0 0 0 0;\n",
              "      width: 32px;\n",
              "    }\n",
              "\n",
              "    .colab-df-convert:hover {\n",
              "      background-color: #E2EBFA;\n",
              "      box-shadow: 0px 1px 2px rgba(60, 64, 67, 0.3), 0px 1px 3px 1px rgba(60, 64, 67, 0.15);\n",
              "      fill: #174EA6;\n",
              "    }\n",
              "\n",
              "    .colab-df-buttons div {\n",
              "      margin-bottom: 4px;\n",
              "    }\n",
              "\n",
              "    [theme=dark] .colab-df-convert {\n",
              "      background-color: #3B4455;\n",
              "      fill: #D2E3FC;\n",
              "    }\n",
              "\n",
              "    [theme=dark] .colab-df-convert:hover {\n",
              "      background-color: #434B5C;\n",
              "      box-shadow: 0px 1px 3px 1px rgba(0, 0, 0, 0.15);\n",
              "      filter: drop-shadow(0px 1px 2px rgba(0, 0, 0, 0.3));\n",
              "      fill: #FFFFFF;\n",
              "    }\n",
              "  </style>\n",
              "\n",
              "    <script>\n",
              "      const buttonEl =\n",
              "        document.querySelector('#df-46c91177-647d-4a83-9450-337fa9c17d85 button.colab-df-convert');\n",
              "      buttonEl.style.display =\n",
              "        google.colab.kernel.accessAllowed ? 'block' : 'none';\n",
              "\n",
              "      async function convertToInteractive(key) {\n",
              "        const element = document.querySelector('#df-46c91177-647d-4a83-9450-337fa9c17d85');\n",
              "        const dataTable =\n",
              "          await google.colab.kernel.invokeFunction('convertToInteractive',\n",
              "                                                    [key], {});\n",
              "        if (!dataTable) return;\n",
              "\n",
              "        const docLinkHtml = 'Like what you see? Visit the ' +\n",
              "          '<a target=\"_blank\" href=https://colab.research.google.com/notebooks/data_table.ipynb>data table notebook</a>'\n",
              "          + ' to learn more about interactive tables.';\n",
              "        element.innerHTML = '';\n",
              "        dataTable['output_type'] = 'display_data';\n",
              "        await google.colab.output.renderOutput(dataTable, element);\n",
              "        const docLink = document.createElement('div');\n",
              "        docLink.innerHTML = docLinkHtml;\n",
              "        element.appendChild(docLink);\n",
              "      }\n",
              "    </script>\n",
              "  </div>\n",
              "\n",
              "\n",
              "<div id=\"df-228ffe6d-67bc-4db6-bee5-3be2ba8fd5b1\">\n",
              "  <button class=\"colab-df-quickchart\" onclick=\"quickchart('df-228ffe6d-67bc-4db6-bee5-3be2ba8fd5b1')\"\n",
              "            title=\"Suggest charts\"\n",
              "            style=\"display:none;\">\n",
              "\n",
              "<svg xmlns=\"http://www.w3.org/2000/svg\" height=\"24px\"viewBox=\"0 0 24 24\"\n",
              "     width=\"24px\">\n",
              "    <g>\n",
              "        <path d=\"M19 3H5c-1.1 0-2 .9-2 2v14c0 1.1.9 2 2 2h14c1.1 0 2-.9 2-2V5c0-1.1-.9-2-2-2zM9 17H7v-7h2v7zm4 0h-2V7h2v10zm4 0h-2v-4h2v4z\"/>\n",
              "    </g>\n",
              "</svg>\n",
              "  </button>\n",
              "\n",
              "<style>\n",
              "  .colab-df-quickchart {\n",
              "      --bg-color: #E8F0FE;\n",
              "      --fill-color: #1967D2;\n",
              "      --hover-bg-color: #E2EBFA;\n",
              "      --hover-fill-color: #174EA6;\n",
              "      --disabled-fill-color: #AAA;\n",
              "      --disabled-bg-color: #DDD;\n",
              "  }\n",
              "\n",
              "  [theme=dark] .colab-df-quickchart {\n",
              "      --bg-color: #3B4455;\n",
              "      --fill-color: #D2E3FC;\n",
              "      --hover-bg-color: #434B5C;\n",
              "      --hover-fill-color: #FFFFFF;\n",
              "      --disabled-bg-color: #3B4455;\n",
              "      --disabled-fill-color: #666;\n",
              "  }\n",
              "\n",
              "  .colab-df-quickchart {\n",
              "    background-color: var(--bg-color);\n",
              "    border: none;\n",
              "    border-radius: 50%;\n",
              "    cursor: pointer;\n",
              "    display: none;\n",
              "    fill: var(--fill-color);\n",
              "    height: 32px;\n",
              "    padding: 0;\n",
              "    width: 32px;\n",
              "  }\n",
              "\n",
              "  .colab-df-quickchart:hover {\n",
              "    background-color: var(--hover-bg-color);\n",
              "    box-shadow: 0 1px 2px rgba(60, 64, 67, 0.3), 0 1px 3px 1px rgba(60, 64, 67, 0.15);\n",
              "    fill: var(--button-hover-fill-color);\n",
              "  }\n",
              "\n",
              "  .colab-df-quickchart-complete:disabled,\n",
              "  .colab-df-quickchart-complete:disabled:hover {\n",
              "    background-color: var(--disabled-bg-color);\n",
              "    fill: var(--disabled-fill-color);\n",
              "    box-shadow: none;\n",
              "  }\n",
              "\n",
              "  .colab-df-spinner {\n",
              "    border: 2px solid var(--fill-color);\n",
              "    border-color: transparent;\n",
              "    border-bottom-color: var(--fill-color);\n",
              "    animation:\n",
              "      spin 1s steps(1) infinite;\n",
              "  }\n",
              "\n",
              "  @keyframes spin {\n",
              "    0% {\n",
              "      border-color: transparent;\n",
              "      border-bottom-color: var(--fill-color);\n",
              "      border-left-color: var(--fill-color);\n",
              "    }\n",
              "    20% {\n",
              "      border-color: transparent;\n",
              "      border-left-color: var(--fill-color);\n",
              "      border-top-color: var(--fill-color);\n",
              "    }\n",
              "    30% {\n",
              "      border-color: transparent;\n",
              "      border-left-color: var(--fill-color);\n",
              "      border-top-color: var(--fill-color);\n",
              "      border-right-color: var(--fill-color);\n",
              "    }\n",
              "    40% {\n",
              "      border-color: transparent;\n",
              "      border-right-color: var(--fill-color);\n",
              "      border-top-color: var(--fill-color);\n",
              "    }\n",
              "    60% {\n",
              "      border-color: transparent;\n",
              "      border-right-color: var(--fill-color);\n",
              "    }\n",
              "    80% {\n",
              "      border-color: transparent;\n",
              "      border-right-color: var(--fill-color);\n",
              "      border-bottom-color: var(--fill-color);\n",
              "    }\n",
              "    90% {\n",
              "      border-color: transparent;\n",
              "      border-bottom-color: var(--fill-color);\n",
              "    }\n",
              "  }\n",
              "</style>\n",
              "\n",
              "  <script>\n",
              "    async function quickchart(key) {\n",
              "      const quickchartButtonEl =\n",
              "        document.querySelector('#' + key + ' button');\n",
              "      quickchartButtonEl.disabled = true;  // To prevent multiple clicks.\n",
              "      quickchartButtonEl.classList.add('colab-df-spinner');\n",
              "      try {\n",
              "        const charts = await google.colab.kernel.invokeFunction(\n",
              "            'suggestCharts', [key], {});\n",
              "      } catch (error) {\n",
              "        console.error('Error during call to suggestCharts:', error);\n",
              "      }\n",
              "      quickchartButtonEl.classList.remove('colab-df-spinner');\n",
              "      quickchartButtonEl.classList.add('colab-df-quickchart-complete');\n",
              "    }\n",
              "    (() => {\n",
              "      let quickchartButtonEl =\n",
              "        document.querySelector('#df-228ffe6d-67bc-4db6-bee5-3be2ba8fd5b1 button');\n",
              "      quickchartButtonEl.style.display =\n",
              "        google.colab.kernel.accessAllowed ? 'block' : 'none';\n",
              "    })();\n",
              "  </script>\n",
              "</div>\n",
              "    </div>\n",
              "  </div>\n"
            ],
            "application/vnd.google.colaboratory.intrinsic+json": {
              "type": "dataframe",
              "repr_error": "0"
            }
          },
          "metadata": {},
          "execution_count": 19
        }
      ],
      "source": [
        "maximum_price = 20000\n",
        "df.query('Price <= @maximum_price')\n"
      ]
    },
    {
      "cell_type": "markdown",
      "metadata": {
        "id": "s8Mjlu3Ns5JI"
      },
      "source": [
        "### Задача 2   \n",
        "1.Выберите строки, где: Has_luggage равно False и Airline не равно ни S7, ни Rossiya. Напечатайте полученную выборку на экране."
      ]
    },
    {
      "cell_type": "code",
      "execution_count": null,
      "metadata": {
        "colab": {
          "base_uri": "https://localhost:8080/",
          "height": 81
        },
        "id": "H6hd_SAHs5JI",
        "outputId": "b4b657e4-a429-4822-e7e3-d3e2c2606a30"
      },
      "outputs": [
        {
          "output_type": "execute_result",
          "data": {
            "text/plain": [
              "             From    To  Is_Direct  Has_luggage  Price   Date_From  \\\n",
              "2  St. Petersburg  Rome      False        False  19301  04.07.2019   \n",
              "\n",
              "      Date_To  Airline  Travel_time_from  Travel_time_to  \n",
              "2  10.07.2019  Finnair               605             720  "
            ],
            "text/html": [
              "\n",
              "  <div id=\"df-ceda9ae6-4a70-4cde-a202-4006e3f7255b\" class=\"colab-df-container\">\n",
              "    <div>\n",
              "<style scoped>\n",
              "    .dataframe tbody tr th:only-of-type {\n",
              "        vertical-align: middle;\n",
              "    }\n",
              "\n",
              "    .dataframe tbody tr th {\n",
              "        vertical-align: top;\n",
              "    }\n",
              "\n",
              "    .dataframe thead th {\n",
              "        text-align: right;\n",
              "    }\n",
              "</style>\n",
              "<table border=\"1\" class=\"dataframe\">\n",
              "  <thead>\n",
              "    <tr style=\"text-align: right;\">\n",
              "      <th></th>\n",
              "      <th>From</th>\n",
              "      <th>To</th>\n",
              "      <th>Is_Direct</th>\n",
              "      <th>Has_luggage</th>\n",
              "      <th>Price</th>\n",
              "      <th>Date_From</th>\n",
              "      <th>Date_To</th>\n",
              "      <th>Airline</th>\n",
              "      <th>Travel_time_from</th>\n",
              "      <th>Travel_time_to</th>\n",
              "    </tr>\n",
              "  </thead>\n",
              "  <tbody>\n",
              "    <tr>\n",
              "      <th>2</th>\n",
              "      <td>St. Petersburg</td>\n",
              "      <td>Rome</td>\n",
              "      <td>False</td>\n",
              "      <td>False</td>\n",
              "      <td>19301</td>\n",
              "      <td>04.07.2019</td>\n",
              "      <td>10.07.2019</td>\n",
              "      <td>Finnair</td>\n",
              "      <td>605</td>\n",
              "      <td>720</td>\n",
              "    </tr>\n",
              "  </tbody>\n",
              "</table>\n",
              "</div>\n",
              "    <div class=\"colab-df-buttons\">\n",
              "\n",
              "  <div class=\"colab-df-container\">\n",
              "    <button class=\"colab-df-convert\" onclick=\"convertToInteractive('df-ceda9ae6-4a70-4cde-a202-4006e3f7255b')\"\n",
              "            title=\"Convert this dataframe to an interactive table.\"\n",
              "            style=\"display:none;\">\n",
              "\n",
              "  <svg xmlns=\"http://www.w3.org/2000/svg\" height=\"24px\" viewBox=\"0 -960 960 960\">\n",
              "    <path d=\"M120-120v-720h720v720H120Zm60-500h600v-160H180v160Zm220 220h160v-160H400v160Zm0 220h160v-160H400v160ZM180-400h160v-160H180v160Zm440 0h160v-160H620v160ZM180-180h160v-160H180v160Zm440 0h160v-160H620v160Z\"/>\n",
              "  </svg>\n",
              "    </button>\n",
              "\n",
              "  <style>\n",
              "    .colab-df-container {\n",
              "      display:flex;\n",
              "      gap: 12px;\n",
              "    }\n",
              "\n",
              "    .colab-df-convert {\n",
              "      background-color: #E8F0FE;\n",
              "      border: none;\n",
              "      border-radius: 50%;\n",
              "      cursor: pointer;\n",
              "      display: none;\n",
              "      fill: #1967D2;\n",
              "      height: 32px;\n",
              "      padding: 0 0 0 0;\n",
              "      width: 32px;\n",
              "    }\n",
              "\n",
              "    .colab-df-convert:hover {\n",
              "      background-color: #E2EBFA;\n",
              "      box-shadow: 0px 1px 2px rgba(60, 64, 67, 0.3), 0px 1px 3px 1px rgba(60, 64, 67, 0.15);\n",
              "      fill: #174EA6;\n",
              "    }\n",
              "\n",
              "    .colab-df-buttons div {\n",
              "      margin-bottom: 4px;\n",
              "    }\n",
              "\n",
              "    [theme=dark] .colab-df-convert {\n",
              "      background-color: #3B4455;\n",
              "      fill: #D2E3FC;\n",
              "    }\n",
              "\n",
              "    [theme=dark] .colab-df-convert:hover {\n",
              "      background-color: #434B5C;\n",
              "      box-shadow: 0px 1px 3px 1px rgba(0, 0, 0, 0.15);\n",
              "      filter: drop-shadow(0px 1px 2px rgba(0, 0, 0, 0.3));\n",
              "      fill: #FFFFFF;\n",
              "    }\n",
              "  </style>\n",
              "\n",
              "    <script>\n",
              "      const buttonEl =\n",
              "        document.querySelector('#df-ceda9ae6-4a70-4cde-a202-4006e3f7255b button.colab-df-convert');\n",
              "      buttonEl.style.display =\n",
              "        google.colab.kernel.accessAllowed ? 'block' : 'none';\n",
              "\n",
              "      async function convertToInteractive(key) {\n",
              "        const element = document.querySelector('#df-ceda9ae6-4a70-4cde-a202-4006e3f7255b');\n",
              "        const dataTable =\n",
              "          await google.colab.kernel.invokeFunction('convertToInteractive',\n",
              "                                                    [key], {});\n",
              "        if (!dataTable) return;\n",
              "\n",
              "        const docLinkHtml = 'Like what you see? Visit the ' +\n",
              "          '<a target=\"_blank\" href=https://colab.research.google.com/notebooks/data_table.ipynb>data table notebook</a>'\n",
              "          + ' to learn more about interactive tables.';\n",
              "        element.innerHTML = '';\n",
              "        dataTable['output_type'] = 'display_data';\n",
              "        await google.colab.output.renderOutput(dataTable, element);\n",
              "        const docLink = document.createElement('div');\n",
              "        docLink.innerHTML = docLinkHtml;\n",
              "        element.appendChild(docLink);\n",
              "      }\n",
              "    </script>\n",
              "  </div>\n",
              "\n",
              "    </div>\n",
              "  </div>\n"
            ],
            "application/vnd.google.colaboratory.intrinsic+json": {
              "type": "dataframe",
              "repr_error": "0"
            }
          },
          "metadata": {},
          "execution_count": 37
        }
      ],
      "source": [
        "import pandas as pd\n",
        "\n",
        "df.query('Has_luggage == False and Airline != \"S7\" and Airline != \"Rossiya\"')"
      ]
    },
    {
      "cell_type": "markdown",
      "metadata": {
        "id": "qUxmC-NGs5JI"
      },
      "source": [
        "### Задача 3\n",
        "Выберите строки, где Airline равно \"Belavia\", \"S7\" или \"Rossiya\", при этом 'Travel_time_from' меньше переменной под названием max_time. Напечатайте полученную выборку на экране."
      ]
    },
    {
      "cell_type": "code",
      "execution_count": null,
      "metadata": {
        "colab": {
          "base_uri": "https://localhost:8080/",
          "height": 81
        },
        "id": "QVytoYYOs5JI",
        "outputId": "00353bbc-c623-48ff-aaea-cf541730552b"
      },
      "outputs": [
        {
          "output_type": "execute_result",
          "data": {
            "text/plain": [
              "     From    To  Is_Direct  Has_luggage  Price Date_From   Date_To  Airline  \\\n",
              "0  Moscow  Rome      False         True  21032  01.07.19  07.07.19  Belavia   \n",
              "\n",
              "   Travel_time_from  Travel_time_to  \n",
              "0               995             350  "
            ],
            "text/html": [
              "\n",
              "  <div id=\"df-71b42be0-c954-4146-a720-c92405f4df6b\" class=\"colab-df-container\">\n",
              "    <div>\n",
              "<style scoped>\n",
              "    .dataframe tbody tr th:only-of-type {\n",
              "        vertical-align: middle;\n",
              "    }\n",
              "\n",
              "    .dataframe tbody tr th {\n",
              "        vertical-align: top;\n",
              "    }\n",
              "\n",
              "    .dataframe thead th {\n",
              "        text-align: right;\n",
              "    }\n",
              "</style>\n",
              "<table border=\"1\" class=\"dataframe\">\n",
              "  <thead>\n",
              "    <tr style=\"text-align: right;\">\n",
              "      <th></th>\n",
              "      <th>From</th>\n",
              "      <th>To</th>\n",
              "      <th>Is_Direct</th>\n",
              "      <th>Has_luggage</th>\n",
              "      <th>Price</th>\n",
              "      <th>Date_From</th>\n",
              "      <th>Date_To</th>\n",
              "      <th>Airline</th>\n",
              "      <th>Travel_time_from</th>\n",
              "      <th>Travel_time_to</th>\n",
              "    </tr>\n",
              "  </thead>\n",
              "  <tbody>\n",
              "    <tr>\n",
              "      <th>0</th>\n",
              "      <td>Moscow</td>\n",
              "      <td>Rome</td>\n",
              "      <td>False</td>\n",
              "      <td>True</td>\n",
              "      <td>21032</td>\n",
              "      <td>01.07.19</td>\n",
              "      <td>07.07.19</td>\n",
              "      <td>Belavia</td>\n",
              "      <td>995</td>\n",
              "      <td>350</td>\n",
              "    </tr>\n",
              "  </tbody>\n",
              "</table>\n",
              "</div>\n",
              "    <div class=\"colab-df-buttons\">\n",
              "\n",
              "  <div class=\"colab-df-container\">\n",
              "    <button class=\"colab-df-convert\" onclick=\"convertToInteractive('df-71b42be0-c954-4146-a720-c92405f4df6b')\"\n",
              "            title=\"Convert this dataframe to an interactive table.\"\n",
              "            style=\"display:none;\">\n",
              "\n",
              "  <svg xmlns=\"http://www.w3.org/2000/svg\" height=\"24px\" viewBox=\"0 -960 960 960\">\n",
              "    <path d=\"M120-120v-720h720v720H120Zm60-500h600v-160H180v160Zm220 220h160v-160H400v160Zm0 220h160v-160H400v160ZM180-400h160v-160H180v160Zm440 0h160v-160H620v160ZM180-180h160v-160H180v160Zm440 0h160v-160H620v160Z\"/>\n",
              "  </svg>\n",
              "    </button>\n",
              "\n",
              "  <style>\n",
              "    .colab-df-container {\n",
              "      display:flex;\n",
              "      gap: 12px;\n",
              "    }\n",
              "\n",
              "    .colab-df-convert {\n",
              "      background-color: #E8F0FE;\n",
              "      border: none;\n",
              "      border-radius: 50%;\n",
              "      cursor: pointer;\n",
              "      display: none;\n",
              "      fill: #1967D2;\n",
              "      height: 32px;\n",
              "      padding: 0 0 0 0;\n",
              "      width: 32px;\n",
              "    }\n",
              "\n",
              "    .colab-df-convert:hover {\n",
              "      background-color: #E2EBFA;\n",
              "      box-shadow: 0px 1px 2px rgba(60, 64, 67, 0.3), 0px 1px 3px 1px rgba(60, 64, 67, 0.15);\n",
              "      fill: #174EA6;\n",
              "    }\n",
              "\n",
              "    .colab-df-buttons div {\n",
              "      margin-bottom: 4px;\n",
              "    }\n",
              "\n",
              "    [theme=dark] .colab-df-convert {\n",
              "      background-color: #3B4455;\n",
              "      fill: #D2E3FC;\n",
              "    }\n",
              "\n",
              "    [theme=dark] .colab-df-convert:hover {\n",
              "      background-color: #434B5C;\n",
              "      box-shadow: 0px 1px 3px 1px rgba(0, 0, 0, 0.15);\n",
              "      filter: drop-shadow(0px 1px 2px rgba(0, 0, 0, 0.3));\n",
              "      fill: #FFFFFF;\n",
              "    }\n",
              "  </style>\n",
              "\n",
              "    <script>\n",
              "      const buttonEl =\n",
              "        document.querySelector('#df-71b42be0-c954-4146-a720-c92405f4df6b button.colab-df-convert');\n",
              "      buttonEl.style.display =\n",
              "        google.colab.kernel.accessAllowed ? 'block' : 'none';\n",
              "\n",
              "      async function convertToInteractive(key) {\n",
              "        const element = document.querySelector('#df-71b42be0-c954-4146-a720-c92405f4df6b');\n",
              "        const dataTable =\n",
              "          await google.colab.kernel.invokeFunction('convertToInteractive',\n",
              "                                                    [key], {});\n",
              "        if (!dataTable) return;\n",
              "\n",
              "        const docLinkHtml = 'Like what you see? Visit the ' +\n",
              "          '<a target=\"_blank\" href=https://colab.research.google.com/notebooks/data_table.ipynb>data table notebook</a>'\n",
              "          + ' to learn more about interactive tables.';\n",
              "        element.innerHTML = '';\n",
              "        dataTable['output_type'] = 'display_data';\n",
              "        await google.colab.output.renderOutput(dataTable, element);\n",
              "        const docLink = document.createElement('div');\n",
              "        docLink.innerHTML = docLinkHtml;\n",
              "        element.appendChild(docLink);\n",
              "      }\n",
              "    </script>\n",
              "  </div>\n",
              "\n",
              "    </div>\n",
              "  </div>\n"
            ],
            "application/vnd.google.colaboratory.intrinsic+json": {
              "type": "dataframe",
              "summary": "{\n  \"name\": \"df\",\n  \"rows\": 1,\n  \"fields\": [\n    {\n      \"column\": \"From\",\n      \"properties\": {\n        \"dtype\": \"string\",\n        \"num_unique_values\": 1,\n        \"samples\": [\n          \"Moscow\"\n        ],\n        \"semantic_type\": \"\",\n        \"description\": \"\"\n      }\n    },\n    {\n      \"column\": \"To\",\n      \"properties\": {\n        \"dtype\": \"string\",\n        \"num_unique_values\": 1,\n        \"samples\": [\n          \"Rome\"\n        ],\n        \"semantic_type\": \"\",\n        \"description\": \"\"\n      }\n    },\n    {\n      \"column\": \"Is_Direct\",\n      \"properties\": {\n        \"dtype\": \"boolean\",\n        \"num_unique_values\": 1,\n        \"samples\": [\n          false\n        ],\n        \"semantic_type\": \"\",\n        \"description\": \"\"\n      }\n    },\n    {\n      \"column\": \"Has_luggage\",\n      \"properties\": {\n        \"dtype\": \"boolean\",\n        \"num_unique_values\": 1,\n        \"samples\": [\n          true\n        ],\n        \"semantic_type\": \"\",\n        \"description\": \"\"\n      }\n    },\n    {\n      \"column\": \"Price\",\n      \"properties\": {\n        \"dtype\": \"number\",\n        \"std\": null,\n        \"min\": 21032,\n        \"max\": 21032,\n        \"num_unique_values\": 1,\n        \"samples\": [\n          21032\n        ],\n        \"semantic_type\": \"\",\n        \"description\": \"\"\n      }\n    },\n    {\n      \"column\": \"Date_From\",\n      \"properties\": {\n        \"dtype\": \"object\",\n        \"num_unique_values\": 1,\n        \"samples\": [\n          \"01.07.19\"\n        ],\n        \"semantic_type\": \"\",\n        \"description\": \"\"\n      }\n    },\n    {\n      \"column\": \"Date_To\",\n      \"properties\": {\n        \"dtype\": \"object\",\n        \"num_unique_values\": 1,\n        \"samples\": [\n          \"07.07.19\"\n        ],\n        \"semantic_type\": \"\",\n        \"description\": \"\"\n      }\n    },\n    {\n      \"column\": \"Airline\",\n      \"properties\": {\n        \"dtype\": \"string\",\n        \"num_unique_values\": 1,\n        \"samples\": [\n          \"Belavia\"\n        ],\n        \"semantic_type\": \"\",\n        \"description\": \"\"\n      }\n    },\n    {\n      \"column\": \"Travel_time_from\",\n      \"properties\": {\n        \"dtype\": \"number\",\n        \"std\": null,\n        \"min\": 995,\n        \"max\": 995,\n        \"num_unique_values\": 1,\n        \"samples\": [\n          995\n        ],\n        \"semantic_type\": \"\",\n        \"description\": \"\"\n      }\n    },\n    {\n      \"column\": \"Travel_time_to\",\n      \"properties\": {\n        \"dtype\": \"number\",\n        \"std\": null,\n        \"min\": 350,\n        \"max\": 350,\n        \"num_unique_values\": 1,\n        \"samples\": [\n          350\n        ],\n        \"semantic_type\": \"\",\n        \"description\": \"\"\n      }\n    }\n  ]\n}"
            }
          },
          "metadata": {},
          "execution_count": 35
        }
      ],
      "source": [
        "import pandas as pd\n",
        "\n",
        "max_time = 360\n",
        "df.query('Airline == [\"S7\",\"Rossiya\",\"Belavia\"] and Travel_time_from >= @max_time')"
      ]
    },
    {
      "cell_type": "markdown",
      "metadata": {
        "id": "6UYurcrUs5JI"
      },
      "source": [
        "# Срезы в действии\n",
        "\n",
        "Наконец-то вы готовы строить срезы на практике.\n",
        "Вспомним, как выглядела диаграмма размаха времени заезда на АЗС:\n"
      ]
    },
    {
      "cell_type": "code",
      "execution_count": null,
      "metadata": {
        "colab": {
          "base_uri": "https://localhost:8080/",
          "height": 431
        },
        "id": "iykZZRhJs5JI",
        "outputId": "449dd402-375c-4ae5-b2c1-e7c5b6165754"
      },
      "outputs": [
        {
          "output_type": "display_data",
          "data": {
            "text/plain": [
              "<Figure size 640x480 with 1 Axes>"
            ],
            "image/png": "[encoded data removed]"
          },
          "metadata": {}
        }
      ],
      "source": [
        "data.boxplot();"
      ]
    },
    {
      "cell_type": "markdown",
      "metadata": {
        "id": "GZqV9ewds5JI"
      },
      "source": [
        "Есть несколько заездов со временем около 30 000 секунд (это около 8 часов). Крайне маловероятно, что водители заправляются так долго. Они повстречали свою любовь или случайно вырвали заправочный пистолет? А может, всё одновременно?\n",
        "\n",
        "У вас есть всё необходимое, чтобы с этим разобраться.\n",
        "\n",
        "Чтобы построить графики, обращаются к библиотеке **matplotlib** (от англ. mathematical plotting library, «библиотека математических построений»). Точнее к её модулю — **pyplot:**\n"
      ]
    },
    {
      "cell_type": "markdown",
      "metadata": {
        "id": "bZWDqWuKs5JI"
      },
      "source": [
        "Для простейших графиков импортировать её не обязательно. Однако вызов библиотеки может помочь, когда вывод графиков нужно разделить. После команды вывода графика вызывают метод **show()**. Он позволяет посмотреть, как отличаются гистограммы с разным числом корзин:"
      ]
    },
    {
      "cell_type": "code",
      "execution_count": null,
      "metadata": {
        "colab": {
          "base_uri": "https://localhost:8080/",
          "height": 887
        },
        "id": "zKstFnCls5JI",
        "outputId": "9a12efcf-5205-4f98-c9f8-00238c13d820"
      },
      "outputs": [
        {
          "output_type": "display_data",
          "data": {
            "text/plain": [
              "<Figure size 640x480 with 1 Axes>"
            ],
            "image/png": "[encoded data removed]"
          },
          "metadata": {}
        },
        {
          "output_type": "display_data",
          "data": {
            "text/plain": [
              "<Figure size 640x480 with 1 Axes>"
            ],
            "image/png": "[encoded data removed]"
          },
          "metadata": {}
        }
      ],
      "source": [
        "data.hist(bins=10)\n",
        "plt.show()\n",
        "\n",
        "data.hist(bins=100)\n",
        "plt.show()\n"
      ]
    },
    {
      "cell_type": "markdown",
      "metadata": {
        "id": "hFoot1Zks5JJ"
      },
      "source": [
        "### Задача 4\n",
        "Узнайте, на каких АЗС водители проводят больше всего времени. Выведите топ-10 строк с самой долгой заправкой.\n"
      ]
    },
    {
      "cell_type": "code",
      "execution_count": null,
      "metadata": {
        "colab": {
          "base_uri": "https://localhost:8080/"
        },
        "id": "txqDOt_ts5JJ",
        "outputId": "02c4e0e9-c46f-4ec3-fcb5-a70d39adec0f"
      },
      "outputs": [
        {
          "output_type": "stream",
          "name": "stdout",
          "text": [
            "           name  time_spent\n",
            "9       Василек  21240755.0\n",
            "21    Календула  17759740.0\n",
            "16     Георгина   5724244.0\n",
            "34      Немезия   3756446.0\n",
            "30       Мальва   2374271.0\n",
            "14      Гейхера   2365174.0\n",
            "22  Колокольчик   2243843.0\n",
            "19  Доротеантус   1663647.0\n",
            "25     Лаватера    663731.0\n",
            "39         Роза    573669.0\n"
          ]
        }
      ],
      "source": [
        "import pandas as pd\n",
        "\n",
        "gas_station_time = data.groupby('name')['time_spent'].sum().reset_index()\n",
        "\n",
        "top_10 = gas_station_time.sort_values('time_spent', ascending=False).head(10)\n",
        "\n",
        "print(top_10)"
      ]
    },
    {
      "cell_type": "markdown",
      "metadata": {
        "id": "xDxDLAZYs5JJ"
      },
      "source": [
        "### Задача 5\n",
        "Сохраните срез данных с id == \"3c1e4c52\" в переменной sample (англ. «выборка, проба»). Выведите количество заездов на эту АЗС."
      ]
    },
    {
      "cell_type": "code",
      "execution_count": null,
      "metadata": {
        "colab": {
          "base_uri": "https://localhost:8080/"
        },
        "id": "m88zwxqHs5JJ",
        "outputId": "3d155fc5-4cf4-4abe-85d1-3863994d553c"
      },
      "outputs": [
        {
          "output_type": "stream",
          "name": "stdout",
          "text": [
            "Количество заездов на эту АЗС: 5814\n"
          ]
        }
      ],
      "source": [
        "sample = data[data['id'] == '3c1e4c52']\n",
        "\n",
        "print(\"Количество заездов на эту АЗС:\", len(sample))"
      ]
    },
    {
      "cell_type": "markdown",
      "metadata": {
        "id": "PCBM7uBVs5JJ"
      },
      "source": [
        "### Задача 6\n",
        "Посмотрим, как они распределены, отличаются ли от остальных данных. Вспомните, как выглядела гистограмма по всему набору данных.\n",
        "Постройте гистограмму времён заезда на все АЗС. И аналогичную гистограмму для выбранной АЗС (мы уже сохранили данные в переменную sample). Для обеих гистограмм задайте диапазон 0-1500 секунд и 100 корзин.\n"
      ]
    },
    {
      "cell_type": "code",
      "execution_count": null,
      "metadata": {
        "colab": {
          "base_uri": "https://localhost:8080/",
          "height": 927
        },
        "id": "W-PDxTKFs5JJ",
        "outputId": "78ce5ae6-fda0-44b7-ce12-f3069583c8a6"
      },
      "outputs": [
        {
          "output_type": "display_data",
          "data": {
            "text/plain": [
              "<Figure size 640x480 with 1 Axes>"
            ],
            "image/png": "[encoded data removed]"
          },
          "metadata": {}
        },
        {
          "output_type": "display_data",
          "data": {
            "text/plain": [
              "<Figure size 640x480 with 1 Axes>"
            ],
            "image/png": "[encoded data removed]"
          },
          "metadata": {}
        }
      ],
      "source": [
        "import matplotlib.pyplot as plt\n",
        "\n",
        "plt.hist(data['time_spent'], bins=100, range=(0, 1500))\n",
        "\n",
        "plt.xlabel('Время заезда (сек)')\n",
        "plt.ylabel('Количество заездов')\n",
        "\n",
        "plt.title('Гистограмма времён заезда на все АЗС')\n",
        "plt.show()\n",
        "\n",
        "plt.hist(sample[\"time_spent\"], bins=100, range=(0, 1500))\n",
        "\n",
        "plt.xlabel('Время заезда (сек)')\n",
        "plt.ylabel('Количество заездов')\n",
        "\n",
        "plt.title('Гистограмма времён заезда на выбранную АЗС')\n",
        "plt.show()"
      ]
    },
    {
      "cell_type": "markdown",
      "metadata": {
        "id": "1JjcR0rGs5JJ"
      },
      "source": [
        "## «Слишком долгая» заправка — это сколько?\n",
        "Нетипично долгие заезды признаем выбросами и отбросим. Почему так можно?\n",
        "Во-первых, их немного. Во-вторых, скорее всего, такие заезды — не заправки. Например, водитель мог отдыхать, есть или заниматься чем-то ещё. Раз это не заправки в чистом виде, значит в рамках нашего исследования такие заезды не интересны.\n",
        "Как определить, что заправка «слишком долгая»? Где провести границу между заправкой автомобиля и прочими занятиями на АЗС?\n",
        "Обратимся к гистограмме:\n",
        "![image.png](attachment:image.png)"
      ]
    },
    {
      "cell_type": "markdown",
      "metadata": {
        "id": "o4GKVOPZs5JJ"
      },
      "source": [
        "Заправки продолжительностью 600 секунд — уже редки. Дольше 800 секунд почти не заправляются. А на участке более 1300 секунд гистограмма сливается с нулём (это не значит, что там ровно 0, но таких заправок единицы).\n",
        "\n",
        "Примем верхнюю границу в 1000 секунд. Это число кажется разумным: дольше заправляются редко. Отбросив значения больше 1000, мы не потеряем много данных. Да и вряд ли водители тратят на заправку больше 1000 секунд (16 минут).\n",
        "\n",
        "Решено. Продолжаем работать с наблюдениями, удовлетворяющими условию: **data.query('time_spent < 1000')**\n",
        "\n"
      ]
    },
    {
      "cell_type": "markdown",
      "metadata": {
        "id": "k_aNAWsCs5JJ"
      },
      "source": [
        "## Работа с датой и временем\n",
        "Мы посчитали подозрительно долгие заправки выбросами. Но что делать с чрезвычайно короткими заправками? Изучим их подробнее. Узнаем, связана ли их продолжительность со временем заезда на АЗС.\n"
      ]
    },
    {
      "cell_type": "code",
      "execution_count": null,
      "metadata": {
        "colab": {
          "base_uri": "https://localhost:8080/",
          "height": 206
        },
        "id": "nXjw4b9ks5JK",
        "outputId": "e71848ae-df0b-4e50-f424-f979979a5e1a"
      },
      "outputs": [
        {
          "output_type": "execute_result",
          "data": {
            "text/plain": [
              "         date_time        id  time_spent     name\n",
              "0  20180406T165358  76144fb2        98.0  Василек\n",
              "1  20180404T173913  76144fb2        15.0  Василек\n",
              "2  20180403T172824  76144fb2       220.0  Василек\n",
              "3  20180407T070441  76144fb2        19.0  Василек\n",
              "4  20180404T132049  76144fb2        14.0  Василек"
            ],
            "text/html": [
              "\n",
              "  <div id=\"df-de1f272c-2b9b-4546-abf3-75d54562cd79\" class=\"colab-df-container\">\n",
              "    <div>\n",
              "<style scoped>\n",
              "    .dataframe tbody tr th:only-of-type {\n",
              "        vertical-align: middle;\n",
              "    }\n",
              "\n",
              "    .dataframe tbody tr th {\n",
              "        vertical-align: top;\n",
              "    }\n",
              "\n",
              "    .dataframe thead th {\n",
              "        text-align: right;\n",
              "    }\n",
              "</style>\n",
              "<table border=\"1\" class=\"dataframe\">\n",
              "  <thead>\n",
              "    <tr style=\"text-align: right;\">\n",
              "      <th></th>\n",
              "      <th>date_time</th>\n",
              "      <th>id</th>\n",
              "      <th>time_spent</th>\n",
              "      <th>name</th>\n",
              "    </tr>\n",
              "  </thead>\n",
              "  <tbody>\n",
              "    <tr>\n",
              "      <th>0</th>\n",
              "      <td>20180406T165358</td>\n",
              "      <td>76144fb2</td>\n",
              "      <td>98.0</td>\n",
              "      <td>Василек</td>\n",
              "    </tr>\n",
              "    <tr>\n",
              "      <th>1</th>\n",
              "      <td>20180404T173913</td>\n",
              "      <td>76144fb2</td>\n",
              "      <td>15.0</td>\n",
              "      <td>Василек</td>\n",
              "    </tr>\n",
              "    <tr>\n",
              "      <th>2</th>\n",
              "      <td>20180403T172824</td>\n",
              "      <td>76144fb2</td>\n",
              "      <td>220.0</td>\n",
              "      <td>Василек</td>\n",
              "    </tr>\n",
              "    <tr>\n",
              "      <th>3</th>\n",
              "      <td>20180407T070441</td>\n",
              "      <td>76144fb2</td>\n",
              "      <td>19.0</td>\n",
              "      <td>Василек</td>\n",
              "    </tr>\n",
              "    <tr>\n",
              "      <th>4</th>\n",
              "      <td>20180404T132049</td>\n",
              "      <td>76144fb2</td>\n",
              "      <td>14.0</td>\n",
              "      <td>Василек</td>\n",
              "    </tr>\n",
              "  </tbody>\n",
              "</table>\n",
              "</div>\n",
              "    <div class=\"colab-df-buttons\">\n",
              "\n",
              "  <div class=\"colab-df-container\">\n",
              "    <button class=\"colab-df-convert\" onclick=\"convertToInteractive('df-de1f272c-2b9b-4546-abf3-75d54562cd79')\"\n",
              "            title=\"Convert this dataframe to an interactive table.\"\n",
              "            style=\"display:none;\">\n",
              "\n",
              "  <svg xmlns=\"http://www.w3.org/2000/svg\" height=\"24px\" viewBox=\"0 -960 960 960\">\n",
              "    <path d=\"M120-120v-720h720v720H120Zm60-500h600v-160H180v160Zm220 220h160v-160H400v160Zm0 220h160v-160H400v160ZM180-400h160v-160H180v160Zm440 0h160v-160H620v160ZM180-180h160v-160H180v160Zm440 0h160v-160H620v160Z\"/>\n",
              "  </svg>\n",
              "    </button>\n",
              "\n",
              "  <style>\n",
              "    .colab-df-container {\n",
              "      display:flex;\n",
              "      gap: 12px;\n",
              "    }\n",
              "\n",
              "    .colab-df-convert {\n",
              "      background-color: #E8F0FE;\n",
              "      border: none;\n",
              "      border-radius: 50%;\n",
              "      cursor: pointer;\n",
              "      display: none;\n",
              "      fill: #1967D2;\n",
              "      height: 32px;\n",
              "      padding: 0 0 0 0;\n",
              "      width: 32px;\n",
              "    }\n",
              "\n",
              "    .colab-df-convert:hover {\n",
              "      background-color: #E2EBFA;\n",
              "      box-shadow: 0px 1px 2px rgba(60, 64, 67, 0.3), 0px 1px 3px 1px rgba(60, 64, 67, 0.15);\n",
              "      fill: #174EA6;\n",
              "    }\n",
              "\n",
              "    .colab-df-buttons div {\n",
              "      margin-bottom: 4px;\n",
              "    }\n",
              "\n",
              "    [theme=dark] .colab-df-convert {\n",
              "      background-color: #3B4455;\n",
              "      fill: #D2E3FC;\n",
              "    }\n",
              "\n",
              "    [theme=dark] .colab-df-convert:hover {\n",
              "      background-color: #434B5C;\n",
              "      box-shadow: 0px 1px 3px 1px rgba(0, 0, 0, 0.15);\n",
              "      filter: drop-shadow(0px 1px 2px rgba(0, 0, 0, 0.3));\n",
              "      fill: #FFFFFF;\n",
              "    }\n",
              "  </style>\n",
              "\n",
              "    <script>\n",
              "      const buttonEl =\n",
              "        document.querySelector('#df-de1f272c-2b9b-4546-abf3-75d54562cd79 button.colab-df-convert');\n",
              "      buttonEl.style.display =\n",
              "        google.colab.kernel.accessAllowed ? 'block' : 'none';\n",
              "\n",
              "      async function convertToInteractive(key) {\n",
              "        const element = document.querySelector('#df-de1f272c-2b9b-4546-abf3-75d54562cd79');\n",
              "        const dataTable =\n",
              "          await google.colab.kernel.invokeFunction('convertToInteractive',\n",
              "                                                    [key], {});\n",
              "        if (!dataTable) return;\n",
              "\n",
              "        const docLinkHtml = 'Like what you see? Visit the ' +\n",
              "          '<a target=\"_blank\" href=https://colab.research.google.com/notebooks/data_table.ipynb>data table notebook</a>'\n",
              "          + ' to learn more about interactive tables.';\n",
              "        element.innerHTML = '';\n",
              "        dataTable['output_type'] = 'display_data';\n",
              "        await google.colab.output.renderOutput(dataTable, element);\n",
              "        const docLink = document.createElement('div');\n",
              "        docLink.innerHTML = docLinkHtml;\n",
              "        element.appendChild(docLink);\n",
              "      }\n",
              "    </script>\n",
              "  </div>\n",
              "\n",
              "\n",
              "<div id=\"df-eb646a3a-2f97-4f08-992d-811bb5d6a207\">\n",
              "  <button class=\"colab-df-quickchart\" onclick=\"quickchart('df-eb646a3a-2f97-4f08-992d-811bb5d6a207')\"\n",
              "            title=\"Suggest charts\"\n",
              "            style=\"display:none;\">\n",
              "\n",
              "<svg xmlns=\"http://www.w3.org/2000/svg\" height=\"24px\"viewBox=\"0 0 24 24\"\n",
              "     width=\"24px\">\n",
              "    <g>\n",
              "        <path d=\"M19 3H5c-1.1 0-2 .9-2 2v14c0 1.1.9 2 2 2h14c1.1 0 2-.9 2-2V5c0-1.1-.9-2-2-2zM9 17H7v-7h2v7zm4 0h-2V7h2v10zm4 0h-2v-4h2v4z\"/>\n",
              "    </g>\n",
              "</svg>\n",
              "  </button>\n",
              "\n",
              "<style>\n",
              "  .colab-df-quickchart {\n",
              "      --bg-color: #E8F0FE;\n",
              "      --fill-color: #1967D2;\n",
              "      --hover-bg-color: #E2EBFA;\n",
              "      --hover-fill-color: #174EA6;\n",
              "      --disabled-fill-color: #AAA;\n",
              "      --disabled-bg-color: #DDD;\n",
              "  }\n",
              "\n",
              "  [theme=dark] .colab-df-quickchart {\n",
              "      --bg-color: #3B4455;\n",
              "      --fill-color: #D2E3FC;\n",
              "      --hover-bg-color: #434B5C;\n",
              "      --hover-fill-color: #FFFFFF;\n",
              "      --disabled-bg-color: #3B4455;\n",
              "      --disabled-fill-color: #666;\n",
              "  }\n",
              "\n",
              "  .colab-df-quickchart {\n",
              "    background-color: var(--bg-color);\n",
              "    border: none;\n",
              "    border-radius: 50%;\n",
              "    cursor: pointer;\n",
              "    display: none;\n",
              "    fill: var(--fill-color);\n",
              "    height: 32px;\n",
              "    padding: 0;\n",
              "    width: 32px;\n",
              "  }\n",
              "\n",
              "  .colab-df-quickchart:hover {\n",
              "    background-color: var(--hover-bg-color);\n",
              "    box-shadow: 0 1px 2px rgba(60, 64, 67, 0.3), 0 1px 3px 1px rgba(60, 64, 67, 0.15);\n",
              "    fill: var(--button-hover-fill-color);\n",
              "  }\n",
              "\n",
              "  .colab-df-quickchart-complete:disabled,\n",
              "  .colab-df-quickchart-complete:disabled:hover {\n",
              "    background-color: var(--disabled-bg-color);\n",
              "    fill: var(--disabled-fill-color);\n",
              "    box-shadow: none;\n",
              "  }\n",
              "\n",
              "  .colab-df-spinner {\n",
              "    border: 2px solid var(--fill-color);\n",
              "    border-color: transparent;\n",
              "    border-bottom-color: var(--fill-color);\n",
              "    animation:\n",
              "      spin 1s steps(1) infinite;\n",
              "  }\n",
              "\n",
              "  @keyframes spin {\n",
              "    0% {\n",
              "      border-color: transparent;\n",
              "      border-bottom-color: var(--fill-color);\n",
              "      border-left-color: var(--fill-color);\n",
              "    }\n",
              "    20% {\n",
              "      border-color: transparent;\n",
              "      border-left-color: var(--fill-color);\n",
              "      border-top-color: var(--fill-color);\n",
              "    }\n",
              "    30% {\n",
              "      border-color: transparent;\n",
              "      border-left-color: var(--fill-color);\n",
              "      border-top-color: var(--fill-color);\n",
              "      border-right-color: var(--fill-color);\n",
              "    }\n",
              "    40% {\n",
              "      border-color: transparent;\n",
              "      border-right-color: var(--fill-color);\n",
              "      border-top-color: var(--fill-color);\n",
              "    }\n",
              "    60% {\n",
              "      border-color: transparent;\n",
              "      border-right-color: var(--fill-color);\n",
              "    }\n",
              "    80% {\n",
              "      border-color: transparent;\n",
              "      border-right-color: var(--fill-color);\n",
              "      border-bottom-color: var(--fill-color);\n",
              "    }\n",
              "    90% {\n",
              "      border-color: transparent;\n",
              "      border-bottom-color: var(--fill-color);\n",
              "    }\n",
              "  }\n",
              "</style>\n",
              "\n",
              "  <script>\n",
              "    async function quickchart(key) {\n",
              "      const quickchartButtonEl =\n",
              "        document.querySelector('#' + key + ' button');\n",
              "      quickchartButtonEl.disabled = true;  // To prevent multiple clicks.\n",
              "      quickchartButtonEl.classList.add('colab-df-spinner');\n",
              "      try {\n",
              "        const charts = await google.colab.kernel.invokeFunction(\n",
              "            'suggestCharts', [key], {});\n",
              "      } catch (error) {\n",
              "        console.error('Error during call to suggestCharts:', error);\n",
              "      }\n",
              "      quickchartButtonEl.classList.remove('colab-df-spinner');\n",
              "      quickchartButtonEl.classList.add('colab-df-quickchart-complete');\n",
              "    }\n",
              "    (() => {\n",
              "      let quickchartButtonEl =\n",
              "        document.querySelector('#df-eb646a3a-2f97-4f08-992d-811bb5d6a207 button');\n",
              "      quickchartButtonEl.style.display =\n",
              "        google.colab.kernel.accessAllowed ? 'block' : 'none';\n",
              "    })();\n",
              "  </script>\n",
              "</div>\n",
              "    </div>\n",
              "  </div>\n"
            ],
            "application/vnd.google.colaboratory.intrinsic+json": {
              "type": "dataframe",
              "variable_name": "data"
            }
          },
          "metadata": {},
          "execution_count": 43
        }
      ],
      "source": [
        "data.head()"
      ]
    },
    {
      "cell_type": "markdown",
      "metadata": {
        "id": "JHYX7uqTs5JK"
      },
      "source": [
        "В столбце **'date_time'** дата и время заезда. Из описания данных известно, что время заезда указали в часовом поясе UTC+0, в формате ISO. Значит, сначала идут год, месяц, день; затем буквенный разделитель даты и времени; часы, минуты и секунды.\n",
        "\n",
        "Давайте познакомимся с методом **to_datetime()**, который переводит строки в даты.\n",
        "\n",
        "В аргументе **format метода to_datetime()** указывают специальные обозначения, порядок которых соответствует порядку чисел в строке с датой:\n",
        "\n",
        "•\t%d — день месяца (от 01 до 31)\n",
        "\n",
        "•\t%m — номер месяца (от 01 до 12)\n",
        "\n",
        "•\t%Y — четырёхзначный номер года (например, 2019)\n",
        "\n",
        "•\tZ или T — стандартный разделитель даты и времени\n",
        "\n",
        "•\t%H — номер часа в 24-часовом формате\n",
        "\n",
        "•\t%I — номер часа в 12-часовом формате\n",
        "\n",
        "•\t%M — минуты (от 00 до 59)\n",
        "\n",
        "•\t%S — секунды (от 00 до 59)\n",
        "\n",
        "Пора научиться:\n",
        "\n",
        "•\tОкруглять даты;\n",
        "\n",
        "•\tДобывать отдельные компоненты из дат, например, день недели;\n",
        "\n",
        "•\t«Сдвигать» даты в другие часовые пояса.\n",
        "\n",
        "О том, что операции предстоит выполнять именно с датами, аналитик сообщает Pandas отдельно, через атрибут **dt** (от англ. **date time**). Атрибут **dt** указывает, что тип данных, к которым будут применены методы, — **datetime**. А значит, **Pandas** не примет их за строки или числа.\n",
        "\n",
        "Чтобы округлить время, применяют метод **dt.round()** (англ. round, «округлять»). В качестве параметра ему передают строку с шагом округления в часах, днях, минутах или секундах:\n",
        "\n",
        "•\t'D' — day (от англ. «день»)\n",
        "\n",
        "•\t'H' — hour (от англ. «час»)\n",
        "\n",
        "•\t'min' или 'T' — minute (от англ. «минута»)\n",
        "\n",
        "•\t'S' — second (от англ. «секунда»)\n",
        "\n",
        "Чаще всего округляют с шагом в один час:\n"
      ]
    },
    {
      "cell_type": "code",
      "execution_count": null,
      "metadata": {
        "colab": {
          "base_uri": "https://localhost:8080/"
        },
        "id": "W89fPv3Cs5JK",
        "outputId": "99bc9db0-582b-4abb-cebe-1e0c83bb3a33"
      },
      "outputs": [
        {
          "output_type": "stream",
          "name": "stdout",
          "text": [
            "0   2011-03-01 18:00:00\n",
            "Name: time_rounded, dtype: datetime64[ns]\n"
          ]
        },
        {
          "output_type": "stream",
          "name": "stderr",
          "text": [
            "<ipython-input-44-e2040630a55f>:5: FutureWarning: 'H' is deprecated and will be removed in a future version, please use 'h' instead.\n",
            "  df['time_rounded'] = df['time'].dt.round('1H')\n"
          ]
        }
      ],
      "source": [
        "import pandas as pd\n",
        "\n",
        "df = pd.DataFrame({'time': ['11-03-01 17:34']})\n",
        "df['time'] = pd.to_datetime(df['time'], format='%y-%m-%d %H:%M')\n",
        "df['time_rounded'] = df['time'].dt.round('1H')\n",
        "print(df['time_rounded'])\n"
      ]
    },
    {
      "cell_type": "markdown",
      "metadata": {
        "id": "cGlW3LA5s5JK"
      },
      "source": [
        "**dt.round()** округляет до ближайшего значения — не всегда получается в бóльшую сторону. Четверть шестого после округления методом **dt.round()** станет пятью часами:"
      ]
    },
    {
      "cell_type": "code",
      "execution_count": null,
      "metadata": {
        "colab": {
          "base_uri": "https://localhost:8080/"
        },
        "id": "LwBYyzmzs5JK",
        "outputId": "51fd3056-1ba7-4270-a912-f3e64195e25d"
      },
      "outputs": [
        {
          "output_type": "stream",
          "name": "stdout",
          "text": [
            "0   2011-03-01 17:00:00\n",
            "Name: time_rounded, dtype: datetime64[ns]\n"
          ]
        },
        {
          "output_type": "stream",
          "name": "stderr",
          "text": [
            "<ipython-input-45-42221ef008fe>:3: FutureWarning: 'H' is deprecated and will be removed in a future version, please use 'h' instead.\n",
            "  df['time_rounded'] = df['time'].dt.round('1H')\n"
          ]
        }
      ],
      "source": [
        "df = pd.DataFrame({'time': ['11-03-01 17:15']})\n",
        "df['time'] = pd.to_datetime(df['time'], format='%y-%m-%d %H:%M')\n",
        "df['time_rounded'] = df['time'].dt.round('1H')\n",
        "print(df['time_rounded'])\n"
      ]
    },
    {
      "cell_type": "markdown",
      "metadata": {
        "id": "OQDKO03Xs5JK"
      },
      "source": [
        "Чтобы быть уверенными в том, что время будет округлено к бóльшему значению, обращаются к методу **dt.ceil()** (от англ. ceiling — «потолок»). К меньшему значению, «вниз», округляют методом **dt.floor()** (англ. floor, «пол»)."
      ]
    },
    {
      "cell_type": "code",
      "execution_count": null,
      "metadata": {
        "colab": {
          "base_uri": "https://localhost:8080/"
        },
        "id": "qTcvM0xQs5JK",
        "outputId": "ec11a15c-0e04-4d56-cc2c-a648883bac90"
      },
      "outputs": [
        {
          "output_type": "stream",
          "name": "stdout",
          "text": [
            "Время, округлённое вверх 0   2011-03-01 18:00:00\n",
            "Name: ceil, dtype: datetime64[ns]\n",
            "Время, округлённое вниз 0   2011-03-01 17:00:00\n",
            "Name: floor, dtype: datetime64[ns]\n"
          ]
        },
        {
          "output_type": "stream",
          "name": "stderr",
          "text": [
            "<ipython-input-46-1bac1c9e7f89>:3: FutureWarning: 'H' is deprecated and will be removed in a future version, please use 'h' instead.\n",
            "  df['ceil'] = df['time'].dt.ceil('1H')\n",
            "<ipython-input-46-1bac1c9e7f89>:4: FutureWarning: 'H' is deprecated and will be removed in a future version, please use 'h' instead.\n",
            "  df['floor'] = df['time'].dt.floor('1H')\n"
          ]
        }
      ],
      "source": [
        "df = pd.DataFrame({'time': ['11-03-01 17:15']})\n",
        "df['time'] = pd.to_datetime(df['time'], format='%y-%m-%d %H:%M')\n",
        "df['ceil'] = df['time'].dt.ceil('1H')\n",
        "df['floor'] = df['time'].dt.floor('1H')\n",
        "print('Время, округлённое вверх', df['ceil'])\n",
        "print('Время, округлённое вниз', df['floor'])\n"
      ]
    },
    {
      "cell_type": "markdown",
      "metadata": {
        "id": "kVCOKWvSs5JK"
      },
      "source": [
        "Номер дня в неделе находят методом **dt.weekday** (англ. weekday, «будний день»). Понедельник — день под номером 0, а воскресенье — шестой день."
      ]
    },
    {
      "cell_type": "code",
      "execution_count": null,
      "metadata": {
        "colab": {
          "base_uri": "https://localhost:8080/"
        },
        "id": "pO9JQB0Ls5JK",
        "outputId": "062539c6-8f4c-4846-8277-437d6a00bd7f"
      },
      "outputs": [
        {
          "output_type": "stream",
          "name": "stdout",
          "text": [
            "0    0\n",
            "1    5\n",
            "Name: weekday, dtype: int32\n"
          ]
        }
      ],
      "source": [
        "df = pd.DataFrame({'time': ['11-03-07 17:15', '11-04-02 17:15']})\n",
        "df['time'] = pd.to_datetime(df['time'], format='%y-%m-%d %H:%M')\n",
        "df['weekday'] = df['time'].dt.weekday\n",
        "print(df['weekday'])\n"
      ]
    },
    {
      "cell_type": "markdown",
      "metadata": {
        "id": "JhFjy9R7s5JK"
      },
      "source": [
        "Иногда нужно переводить время в другой часовой пояс. За временные сдвиги отвечает **pd.Timedelta()** (от англ. time delta — «дельта времени, перепад во времени»). Количество часов передают в параметре: **(hours=10)**.\n",
        "\n",
        "Прибавим 9 часов к московскому времени и узнаем, который час был в Петропавловске-Камчатском, когда в Москве происходили события датафрейма.\n",
        "\n",
        "Можно и наоборот: отнимать время, указав в параметре отрицательное количество часов.\n"
      ]
    },
    {
      "cell_type": "code",
      "execution_count": null,
      "metadata": {
        "colab": {
          "base_uri": "https://localhost:8080/"
        },
        "id": "3PvbMWkss5JK",
        "outputId": "8675cc47-d1c9-45bc-a156-21df17c49273"
      },
      "outputs": [
        {
          "output_type": "stream",
          "name": "stdout",
          "text": [
            "0   2011-03-08 02:15:00\n",
            "1   2011-05-02 19:20:00\n",
            "Name: petropavlovsk-kamchatsky_time, dtype: datetime64[ns]\n"
          ]
        }
      ],
      "source": [
        "df = pd.DataFrame({'time': ['11-03-07 17:15', '11-05-02 10:20']})\n",
        "df['moscow_time'] = pd.to_datetime(df['time'], format='%y-%m-%d %H:%M')\n",
        "df['petropavlovsk-kamchatsky_time'] = df['moscow_time'] + pd.Timedelta(hours=9)\n",
        "print(df['petropavlovsk-kamchatsky_time'])\n"
      ]
    },
    {
      "cell_type": "markdown",
      "metadata": {
        "id": "DBHBRJjYs5JL"
      },
      "source": [
        "### Задача   7\n",
        "Переведите значения в столбце **'date_time'** в формат даты.\n",
        "В аргументе **format** метода **to_datetime()** передайте строку со значениями года, месяца, дня и времени, чтобы получить запись вида: 2018-04-06T16:53:58. Результат сохраните в столбце **'date_time'**.\n",
        "Первые 5 строк таблицы data выведите на экран.\n"
      ]
    },
    {
      "cell_type": "code",
      "execution_count": null,
      "metadata": {
        "colab": {
          "base_uri": "https://localhost:8080/"
        },
        "id": "YFVDFgYts5JL",
        "outputId": "7d5af1e1-16e9-4286-b137-88f672e8fbf0"
      },
      "outputs": [
        {
          "output_type": "stream",
          "name": "stdout",
          "text": [
            "            date_time        id  time_spent     name\n",
            "0 2018-04-06 16:53:58  76144fb2        98.0  Василек\n",
            "1 2018-04-04 17:39:13  76144fb2        15.0  Василек\n",
            "2 2018-04-03 17:28:24  76144fb2       220.0  Василек\n",
            "3 2018-04-07 07:04:41  76144fb2        19.0  Василек\n",
            "4 2018-04-04 13:20:49  76144fb2        14.0  Василек\n"
          ]
        }
      ],
      "source": [
        "import pandas as pd\n",
        "\n",
        "data['date_time'] = pd.to_datetime(data['date_time'], format='%Y%m%dT%H%M%S')\n",
        "\n",
        "print(data.head(5))"
      ]
    },
    {
      "cell_type": "markdown",
      "metadata": {
        "id": "9dctr6oXs5JL"
      },
      "source": [
        "### Задача   8\n",
        "Напомним, что в датафрейме записано время UTC. Московское рассчитывают как UTC + 3 часа.\n",
        "Создайте столбец **data['local_time']** и сохраните в нём сдвинутую на +3 часа дату и время из столбца **data['date_time']**. Напечатайте первые 5 строк таблицы data.\n"
      ]
    },
    {
      "cell_type": "code",
      "execution_count": null,
      "metadata": {
        "colab": {
          "base_uri": "https://localhost:8080/"
        },
        "id": "oKuoxUofs5JL",
        "outputId": "be447f5a-7772-447a-9776-a038e6356e12"
      },
      "outputs": [
        {
          "output_type": "stream",
          "name": "stdout",
          "text": [
            "            date_time        id  time_spent     name          local_time\n",
            "0 2018-04-06 16:53:58  76144fb2        98.0  Василек 2018-04-06 19:53:58\n",
            "1 2018-04-04 17:39:13  76144fb2        15.0  Василек 2018-04-04 20:39:13\n",
            "2 2018-04-03 17:28:24  76144fb2       220.0  Василек 2018-04-03 20:28:24\n",
            "3 2018-04-07 07:04:41  76144fb2        19.0  Василек 2018-04-07 10:04:41\n",
            "4 2018-04-04 13:20:49  76144fb2        14.0  Василек 2018-04-04 16:20:49\n"
          ]
        }
      ],
      "source": [
        "import pandas as pd\n",
        "\n",
        "data['local_time'] = data['date_time'] + pd.Timedelta(hours=3)\n",
        "\n",
        "print(data.head(5))"
      ]
    },
    {
      "cell_type": "markdown",
      "metadata": {
        "id": "K5fndyDas5JL"
      },
      "source": [
        "### Задача   8\n",
        "Создайте столбец **data['date_hour']** с московским временем заезда на АЗС, округлённым до 1 часа методом dt.round(). Напечатайте первые 5 строк."
      ]
    },
    {
      "cell_type": "code",
      "execution_count": null,
      "metadata": {
        "colab": {
          "base_uri": "https://localhost:8080/"
        },
        "id": "dtmBZveDs5JL",
        "outputId": "31a5197b-6d9f-4fb8-dc70-68238a24408d"
      },
      "outputs": [
        {
          "output_type": "stream",
          "name": "stdout",
          "text": [
            "            date_time        id  time_spent     name          local_time  \\\n",
            "0 2018-04-06 16:53:58  76144fb2        98.0  Василек 2018-04-06 19:53:58   \n",
            "1 2018-04-04 17:39:13  76144fb2        15.0  Василек 2018-04-04 20:39:13   \n",
            "2 2018-04-03 17:28:24  76144fb2       220.0  Василек 2018-04-03 20:28:24   \n",
            "3 2018-04-07 07:04:41  76144fb2        19.0  Василек 2018-04-07 10:04:41   \n",
            "4 2018-04-04 13:20:49  76144fb2        14.0  Василек 2018-04-04 16:20:49   \n",
            "\n",
            "            date_hour  \n",
            "0 2018-04-06 20:00:00  \n",
            "1 2018-04-04 21:00:00  \n",
            "2 2018-04-03 20:00:00  \n",
            "3 2018-04-07 10:00:00  \n",
            "4 2018-04-04 16:00:00  \n"
          ]
        },
        {
          "output_type": "stream",
          "name": "stderr",
          "text": [
            "<ipython-input-51-1e92dca06d14>:3: FutureWarning: 'H' is deprecated and will be removed in a future version, please use 'h' instead.\n",
            "  data['date_hour'] = data['local_time'].dt.round('H')\n"
          ]
        }
      ],
      "source": [
        "import pandas as pd\n",
        "\n",
        "data['date_hour'] = data['local_time'].dt.round('H')\n",
        "\n",
        "print(data.head(5))"
      ]
    }
  ],
  "metadata": {
    "kernelspec": {
      "display_name": ".venv",
      "language": "python",
      "name": "python3"
    },
    "language_info": {
      "codemirror_mode": {
        "name": "ipython",
        "version": 3
      },
      "file_extension": ".py",
      "mimetype": "text/x-python",
      "name": "python",
      "nbconvert_exporter": "python",
      "pygments_lexer": "ipython3",
      "version": "3.12.2"
    },
    "colab": {
      "provenance": []
    }
  },
  "nbformat": 4,
  "nbformat_minor": 0
}