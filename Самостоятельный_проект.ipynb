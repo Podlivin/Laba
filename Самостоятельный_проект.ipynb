{
  "cells": [
    {
      "cell_type": "markdown",
      "metadata": {
        "id": "Mj_wSssFR4xD"
      },
      "source": [
        "# Добро пожаловать в самостоятельный проект\n",
        "\n",
        "Самостоятельный проект — это практическая проверка знаний, приобретённых вами на вводном курсе. Каждый раздел посвящён отдельной стадии анализа данных с экскурсом в основы Python.\n",
        "\n",
        "Проект выполняется в пять этапов:\n",
        "\n",
        "•\tПостановка задачи\n",
        "\n",
        "•\tПолучение данных\n",
        "\n",
        "•\tПредобработка данных\n",
        "\n",
        "•\tАнализ данных\n",
        "\n",
        "•\tОформление результатов\n",
        "\n",
        "Для каждой части описаны шаги выполнения c теоретическим приложением. В Jupyter Notebook эти шаги связаны между собой выводами и результатами.\n",
        "\n",
        "**Исследование: Музыка больших городов**\n",
        "\n",
        "Яндекс.Музыка — это крупный продукт с огромным запасом данных для исследований. Команды таких сервисов для поддержания интереса к продукту и привлечения новых пользователей часто проводят исследования про пользователей. Чтобы удержать клиентов и привлечь новых, сделать бренд более узнаваемым, команда сервиса проводит исследования аудитории, и публикует интересные результаты. Например, интересно сравнить тексты, сочинённые нейросетью, с произведениями настоящих рэперов.\n",
        "Есть исследование, которое напоминает наше: о музыкальных предпочтениях в разных городах России.\n",
        "Итак, вопрос вам: как музыка, которая звучит по дороге на работу в понедельник утром, отличается от той, что играет в среду или в конце рабочей недели? Возьмите данные для Москвы и Петербурга. Сравните, что и в каком режиме слушают их жители.\n",
        "\n",
        "План исследования\n",
        "\n",
        "1.\tПолучение данных. Прочитайте данные, ознакомьтесь с ними.\n",
        "\n",
        "2.\tПредобработка данных. Избавьтесь от дубликатов, проблем с названиями столбцов и пропусками.\n",
        "\n",
        "3.\tАнализ данных. Ответьте на основные вопросы исследования, подготовьте отчётную таблицу или опишите полученный результат.\n",
        "\n",
        "4.\tПодведение итогов. Просмотрите выполненную работу и сформулируйте выводы.\n"
      ]
    },
    {
      "cell_type": "markdown",
      "metadata": {
        "id": "fZLOvpVJR4xH"
      },
      "source": [
        "# Этап 1. Получение данных\n",
        "\n",
        "Изучим данные, предоставленные сервисом для проекта.\n",
        "\n",
        "Прочитайте файл music_project.csv и сохраните его в переменной df.\n",
        "\n",
        "Получите  первых 10 строк таблицы, а также общую информацию о данных таблицы df."
      ]
    },
    {
      "cell_type": "code",
      "execution_count": null,
      "metadata": {
        "colab": {
          "base_uri": "https://localhost:8080/"
        },
        "id": "9nrB79ZhR4xI",
        "outputId": "f342b59a-ccf0-4cc7-9ab5-39c8bbcba712"
      },
      "outputs": [
        {
          "output_type": "stream",
          "name": "stdout",
          "text": [
            "     userID                        Track            artist   genre  \\\n",
            "0  FFB692EC            Kamigata To Boots  The Mass Missile    rock   \n",
            "1  55204538  Delayed Because of Accident  Andreas Rönnberg    rock   \n",
            "2    20EC38            Funiculì funiculà       Mario Lanza     pop   \n",
            "3  A3DD03C9        Dragons in the Sunset        Fire + Ice    folk   \n",
            "4  E2DC1FAE                  Soul People        Space Echo   dance   \n",
            "5  842029A1                    Преданная         IMPERVTOR  rusrap   \n",
            "6  4CB90AA5                         True      Roman Messer   dance   \n",
            "7  F03E1C1F             Feeling This Way   Polina Griffith   dance   \n",
            "8  8FA1D3BE     И вновь продолжается бой               NaN  ruspop   \n",
            "9  E772D5C0                    Pessimist               NaN   dance   \n",
            "\n",
            "             City        time        Day  \n",
            "0  Saint-Petersburg  20:28:33  Wednesday  \n",
            "1            Moscow  14:07:09     Friday  \n",
            "2  Saint-Petersburg  20:58:07  Wednesday  \n",
            "3  Saint-Petersburg  08:37:09     Monday  \n",
            "4            Moscow  08:34:34     Monday  \n",
            "5  Saint-Petersburg  13:09:41     Friday  \n",
            "6            Moscow  13:00:07  Wednesday  \n",
            "7            Moscow  20:47:49  Wednesday  \n",
            "8            Moscow  09:17:40     Friday  \n",
            "9  Saint-Petersburg  21:20:49  Wednesday  \n"
          ]
        }
      ],
      "source": [
        "import pandas as pd\n",
        "\n",
        "df = pd.read_csv('/content/drive/MyDrive/Учеба/Lab5/yandex_music.csv')\n",
        "print(df.head(10))"
      ]
    },
    {
      "cell_type": "code",
      "source": [
        "from google.colab import drive\n",
        "drive.mount('/content/drive')"
      ],
      "metadata": {
        "colab": {
          "base_uri": "https://localhost:8080/"
        },
        "id": "uk81xYlZSnBv",
        "outputId": "3b60ada4-0a5f-441b-bba4-926277ea7451"
      },
      "execution_count": null,
      "outputs": [
        {
          "output_type": "stream",
          "name": "stdout",
          "text": [
            "Mounted at /content/drive\n"
          ]
        }
      ]
    },
    {
      "cell_type": "markdown",
      "metadata": {
        "id": "l7-wwgfSR4xJ"
      },
      "source": [
        "Рассмотрим полученную информацию подробнее.\n",
        "Всего в таблице 7 столбцов, тип данных у каждого столбца - строка.\n",
        "Подробно разберём, какие в df столбцы и какую информацию они содержат:\n",
        "•\tuserID — идентификатор пользователя;\n",
        "•\tTrack — название трека;\n",
        "•\tartist — имя исполнителя;\n",
        "•\tgenre — название жанра;\n",
        "•\tCity — город, в котором происходило прослушивание;\n",
        "•\ttime — время, в которое пользователь слушал трек;\n",
        "•\tDay — день недели.\n",
        "Количество значений в столбцах различается. Это говорит о том, что в данных есть пропущенные значения.\n"
      ]
    },
    {
      "cell_type": "markdown",
      "metadata": {
        "id": "prYQJrSIR4xK"
      },
      "source": [
        "## Выводы:\n",
        "\n",
        "Каждая строка таблицы содержит информацию о композициях определённого жанра в определённом исполнении, которые пользователи слушали в одном из городов в определённое время и день недели. Две проблемы, которые нужно решать: пропуски и некачественные названия столбцов. Для проверки рабочих гипотез особенно ценны столбцы (*вставьте сюда названия столбцов, наиболее существенных, на ва взгляд*. Данные из столбца *название столбца*  позволят узнать самые популярные жанры."
      ]
    },
    {
      "cell_type": "markdown",
      "metadata": {
        "id": "ed6--pwyR4xK"
      },
      "source": [
        "# Этап 2. Предобработка данных\n",
        "\n",
        "Исключим пропуски, переименуем столбцы, а также проверим данные на наличие дубликатов.\n",
        "\n",
        "Получаем перечень названий столбцов. Какая наблюдается проблема — кроме тех, что уже были названы ранее?\n"
      ]
    },
    {
      "cell_type": "code",
      "execution_count": null,
      "metadata": {
        "colab": {
          "base_uri": "https://localhost:8080/"
        },
        "id": "Hrv8J8_BR4xK",
        "outputId": "c733149e-cbc9-484a-e92b-17fa0ece2b52"
      },
      "outputs": [
        {
          "output_type": "stream",
          "name": "stdout",
          "text": [
            "Index(['  userID', 'Track', 'artist', 'genre', '  City  ', 'time', 'Day'], dtype='object')\n"
          ]
        }
      ],
      "source": [
        "print(df.columns)"
      ]
    },
    {
      "cell_type": "markdown",
      "metadata": {
        "id": "X-cOVnyRR4xL"
      },
      "source": [
        "В названиях столбцов есть пробелы, которые могут затруднять доступ к данным.\n",
        "\n",
        "Переименуем столбцы для удобства дальнейшей работы. Проверим результат.\n"
      ]
    },
    {
      "cell_type": "code",
      "execution_count": null,
      "metadata": {
        "id": "xG3PdY6wR4xL"
      },
      "outputs": [],
      "source": [
        "new_names = ['user_id', 'track_name', 'artist_name', 'genre_name','total_play_seconds','time','day']\n",
        "\n",
        "if len(new_names) == len(df.columns):\n",
        "    df = df.set_axis(new_names, axis='columns')\n",
        "else:\n",
        "    print(\"Ошибка: количество новых имен не совпадает с количеством столбцов.\")"
      ]
    },
    {
      "cell_type": "markdown",
      "metadata": {
        "id": "OMp1RHezR4xM"
      },
      "source": [
        "Проверим данные на наличие пропусков вызовом набора методов для суммирования пропущенных значений."
      ]
    },
    {
      "cell_type": "code",
      "execution_count": null,
      "metadata": {
        "colab": {
          "base_uri": "https://localhost:8080/"
        },
        "id": "lzHzqyc1R4xM",
        "outputId": "28ea11ac-927c-45e0-ad18-b825e744ffce"
      },
      "outputs": [
        {
          "output_type": "stream",
          "name": "stdout",
          "text": [
            "user_id                  0\n",
            "track_name            1231\n",
            "artist_name           7203\n",
            "genre_name            1198\n",
            "total_play_seconds       0\n",
            "time                     0\n",
            "day                      0\n",
            "dtype: int64\n"
          ]
        }
      ],
      "source": [
        "print(df.isnull().sum())"
      ]
    },
    {
      "cell_type": "markdown",
      "metadata": {
        "id": "n0f24S_5R4xM"
      },
      "source": [
        "Пустые значения свидетельствуют, что для некоторых треков доступна не вся информация. Причины могут быть разные: скажем, не назван конкретный исполнитель народной песни. Хуже, если проблемы с записью данных. Каждый отдельный случай необходимо разобрать и выявить причину.\n",
        "\n",
        "Заменяем пропущенные значения в столбцах с названием трека и исполнителя на строку 'unknown'. После этой операции нужно убедиться, что таблица больше не содержит пропусков.\n"
      ]
    },
    {
      "cell_type": "code",
      "execution_count": null,
      "metadata": {
        "id": "WcVG0XWsR4xM"
      },
      "outputs": [],
      "source": [
        "df['track_name']=df['track_name'].fillna('unknown')\n",
        "df['artist_name']=df['artist_name'].fillna('unknown')"
      ]
    },
    {
      "cell_type": "code",
      "execution_count": null,
      "metadata": {
        "colab": {
          "base_uri": "https://localhost:8080/"
        },
        "id": "LIvsGbggR4xM",
        "outputId": "edb9e68e-2f01-4be5-9037-de2d0ef1075c"
      },
      "outputs": [
        {
          "output_type": "stream",
          "name": "stdout",
          "text": [
            "user_id                  0\n",
            "track_name               0\n",
            "artist_name              0\n",
            "genre_name            1198\n",
            "total_play_seconds       0\n",
            "time                     0\n",
            "day                      0\n",
            "dtype: int64\n"
          ]
        }
      ],
      "source": [
        "print(df.isnull().sum())"
      ]
    },
    {
      "cell_type": "markdown",
      "metadata": {
        "id": "_eOlqpaWR4xM"
      },
      "source": [
        "Удаляем в столбце с жанрами пустые значения; убеждаемся, что их больше не осталось."
      ]
    },
    {
      "cell_type": "code",
      "execution_count": null,
      "metadata": {
        "colab": {
          "base_uri": "https://localhost:8080/"
        },
        "id": "apIUAMh6R4xM",
        "outputId": "3a59b1a1-8222-4420-99da-bd87aa2bd6af"
      },
      "outputs": [
        {
          "output_type": "stream",
          "name": "stdout",
          "text": [
            "user_id               0\n",
            "track_name            0\n",
            "artist_name           0\n",
            "genre_name            0\n",
            "total_play_seconds    0\n",
            "time                  0\n",
            "day                   0\n",
            "dtype: int64\n"
          ]
        }
      ],
      "source": [
        "df.dropna(subset=['genre_name'], inplace=True)\n",
        "print(df.isnull().sum())"
      ]
    },
    {
      "cell_type": "markdown",
      "metadata": {
        "id": "AGk2VrY_R4xM"
      },
      "source": [
        "Необходимо установить наличие дубликатов. Если найдутся, удаляем, и проверяем, все ли удалились."
      ]
    },
    {
      "cell_type": "code",
      "execution_count": null,
      "metadata": {
        "colab": {
          "base_uri": "https://localhost:8080/"
        },
        "id": "rUgWYK4QR4xN",
        "outputId": "ae00d358-1527-43de-aacc-025961f65d52"
      },
      "outputs": [
        {
          "output_type": "stream",
          "name": "stdout",
          "text": [
            "Количество дубликатов: 3755\n",
            "Количество дубликатов: 0\n"
          ]
        }
      ],
      "source": [
        "print('Количество дубликатов:',df.duplicated().sum())\n",
        "df.drop_duplicates(inplace = True)\n",
        "df.reset_index(inplace=True)\n",
        "print('Количество дубликатов:',df.duplicated().sum())"
      ]
    },
    {
      "cell_type": "markdown",
      "metadata": {
        "id": "U1NfBdVmR4xN"
      },
      "source": [
        "Дубликаты могли появиться вследствие сбоя в записи данных. Стоит обратить внимание и разобраться с причинами появления такого «информационного мусора».\n",
        "\n",
        "Сохраняем список уникальных значений столбца с жанрами в переменной genres_list.\n",
        "\n",
        "Объявим функцию find_genre() для поиска неявных дубликатов в столбце с жанрами. Например, когда название одного и того же жанра написано разными словами.\n"
      ]
    },
    {
      "cell_type": "code",
      "execution_count": null,
      "metadata": {
        "colab": {
          "base_uri": "https://localhost:8080/"
        },
        "id": "jTIIHI_4R4xN",
        "outputId": "ed98bea9-0e1c-4120-8253-3da10897a70e"
      },
      "outputs": [
        {
          "output_type": "stream",
          "name": "stdout",
          "text": [
            "['rock', 'pop', 'folk', 'dance', 'rusrap', 'ruspop', 'world', 'electronic', 'alternative', 'children', 'rnb', 'hip', 'jazz', 'postrock', 'latin', 'classical', 'metal', 'reggae', 'tatar', 'blues', 'instrumental', 'rusrock', 'dnb', 'türk', 'post', 'country', 'psychedelic', 'conjazz', 'indie', 'posthardcore', 'local', 'avantgarde', 'punk', 'videogame', 'techno', 'house', 'christmas', 'melodic', 'caucasian', 'reggaeton', 'soundtrack', 'singer', 'ska', 'shanson', 'ambient', 'film', 'western', 'rap', 'beats', \"hard'n'heavy\", 'progmetal', 'minimal', 'contemporary', 'new', 'soul', 'holiday', 'german', 'tropical', 'fairytail', 'spiritual', 'urban', 'gospel', 'nujazz', 'folkmetal', 'trance', 'miscellaneous', 'anime', 'hardcore', 'progressive', 'chanson', 'numetal', 'vocal', 'estrada', 'russian', 'classicmetal', 'dubstep', 'club', 'deep', 'southern', 'black', 'folkrock', 'fitness', 'french', 'disco', 'religious', 'hiphop', 'drum', 'extrememetal', 'türkçe', 'experimental', 'easy', 'metalcore', 'modern', 'argentinetango', 'old', 'breaks', 'eurofolk', 'stonerrock', 'industrial', 'funk', 'jpop', 'middle', 'variété', 'other', 'adult', 'christian', 'gothic', 'international', 'muslim', 'relax', 'schlager', 'caribbean', 'ukrrock', 'nu', 'breakbeat', 'comedy', 'chill', 'newage', 'specialty', 'uzbek', 'k-pop', 'balkan', 'chinese', 'meditative', 'dub', 'power', 'death', 'grime', 'arabesk', 'romance', 'flamenco', 'leftfield', 'european', 'tech', 'newwave', 'dancehall', 'mpb', 'piano', 'top', 'bigroom', 'opera', 'celtic', 'tradjazz', 'acoustic', 'epicmetal', 'hip-hop', 'historisch', 'downbeat', 'downtempo', 'africa', 'audiobook', 'jewish', 'sängerportrait', 'deutschrock', 'eastern', 'action', 'future', 'electropop', 'folklore', 'bollywood', 'marschmusik', 'rnr', 'karaoke', 'indian', 'rancheras', 'электроника', 'afrikaans', 'tango', 'rhythm', 'sound', 'deutschspr', 'trip', 'lovers', 'choral', 'dancepop', 'podcasts', 'retro', 'smooth', 'mexican', 'brazilian', 'ïîï', 'mood', 'surf', 'author', 'gangsta', 'triphop', 'inspirational', 'idm', 'ethnic', 'bluegrass', 'broadway', 'animated', 'americana', 'karadeniz', 'rockabilly', 'colombian', 'self', 'hop', 'synthrock', 'sertanejo', 'japanese', 'canzone', 'swing', 'lounge', 'sport', 'korean', 'ragga', 'traditional', 'gitarre', 'frankreich', 'alternativepunk', 'emo', 'laiko', 'cantopop', 'glitch', 'documentary', 'rockalternative', 'thrash', 'hymn', 'oceania', 'rockother', 'popeurodance', 'dark', 'vi', 'grunge', 'hardstyle', 'samba', 'garage', 'soft', 'art', 'folktronica', 'entehno', 'mediterranean', 'chamber', 'cuban', 'taraftar', 'rockindie', 'gypsy', 'hardtechno', 'shoegazing', 'skarock', 'bossa', 'salsa', 'latino', 'worldbeat', 'malaysian', 'baile', 'ghazal', 'loungeelectronic', 'arabic', 'popelectronic', 'acid', 'kayokyoku', 'neoklassik', 'tribal', 'tanzorchester', 'native', 'independent', 'cantautori', 'handsup', 'poprussian', 'punjabi', 'synthpop', 'rave', 'französisch', 'quebecois', 'speech', 'soulful', 'teen', 'jam', 'ram', 'horror', 'scenic', 'orchestral', 'neue', 'roots', 'slow', 'jungle', 'indipop', 'axé', 'fado', 'showtunes', 'arena', 'irish', 'mandopop', 'forró', 'popdance', 'dirty', 'regional']\n"
          ]
        }
      ],
      "source": [
        "genre_list = df['genre_name'].unique().tolist()\n",
        "print(genre_list)"
      ]
    },
    {
      "cell_type": "code",
      "execution_count": null,
      "metadata": {
        "id": "vYDIkutyR4xN"
      },
      "outputs": [],
      "source": [
        "# <создание функции find_genre()>\n",
        "# функция принимает как параметр строку с названием искомого жанра\n",
        "# в теле объявляется переменная-счётчик, ей присваивается значение 0,\n",
        "# затем цикл for проходит по списку уникальных значений\n",
        "# если очередной элемент списка равен параметру функции,\n",
        "# то значение счётчика увеличивается на 1\n",
        "# по окончании работы цикла функция возвращает значение счётчика\n",
        "def find_genre(stroka):\n",
        "  count = 0\n",
        "  for i in genre_list:\n",
        "    if i == stroka:\n",
        "      count += 1\n",
        "  return count"
      ]
    },
    {
      "cell_type": "markdown",
      "metadata": {
        "id": "q9bZxXh3R4xN"
      },
      "source": [
        "Вызов функции find_genre() для поиска различных вариантов названия жанра хип-хоп в таблице.\n",
        "\n",
        "Правильное название — hiphop. Поищем другие варианты:\n",
        "\n",
        "•\thip\n",
        "\n",
        "•\thop\n",
        "\n",
        "•\thip-hop\n"
      ]
    },
    {
      "cell_type": "code",
      "execution_count": null,
      "metadata": {
        "colab": {
          "base_uri": "https://localhost:8080/"
        },
        "id": "Ujl9qONYR4xN",
        "outputId": "dd7b1ead-3b6d-4267-ce55-60e27b0cea6c"
      },
      "outputs": [
        {
          "output_type": "execute_result",
          "data": {
            "text/plain": [
              "1"
            ]
          },
          "metadata": {},
          "execution_count": 373
        }
      ],
      "source": [
        "# <вызовом функции find_genre() проверяется наличие варианта 'hip'>\n",
        "def find_genre(stroka='hip'):\n",
        "  count = 0\n",
        "  for i in genre_list:\n",
        "    if i == stroka:\n",
        "      count += 1\n",
        "  return count\n",
        "\n",
        "find_genre()"
      ]
    },
    {
      "cell_type": "code",
      "execution_count": null,
      "metadata": {
        "colab": {
          "base_uri": "https://localhost:8080/"
        },
        "id": "1EEIBObXR4xN",
        "outputId": "5b0eb7c2-8297-457c-bba9-b97658dbc3aa"
      },
      "outputs": [
        {
          "output_type": "execute_result",
          "data": {
            "text/plain": [
              "1"
            ]
          },
          "metadata": {},
          "execution_count": 374
        }
      ],
      "source": [
        "# <проверяется наличие варианта 'hop'>\n",
        "def find_genre(stroka='hop'):\n",
        "  count = 0\n",
        "  for i in genre_list:\n",
        "    if i == stroka:\n",
        "      count += 1\n",
        "  return count\n",
        "\n",
        "find_genre()"
      ]
    },
    {
      "cell_type": "code",
      "execution_count": null,
      "metadata": {
        "colab": {
          "base_uri": "https://localhost:8080/"
        },
        "id": "eDWN_tcoR4xN",
        "outputId": "dcf32655-e2fb-4f5d-8acf-6e76f38eb710"
      },
      "outputs": [
        {
          "output_type": "execute_result",
          "data": {
            "text/plain": [
              "1"
            ]
          },
          "metadata": {},
          "execution_count": 375
        }
      ],
      "source": [
        "# <проверяется наличие варианта 'hip-hop'>\n",
        "def find_genre(stroka='hip-hop'):\n",
        "  count = 0\n",
        "  for i in genre_list:\n",
        "    if i == stroka:\n",
        "      count += 1\n",
        "  return count\n",
        "\n",
        "find_genre()"
      ]
    },
    {
      "cell_type": "markdown",
      "metadata": {
        "id": "IS7s4pLTR4xN"
      },
      "source": [
        "Объявим функцию find_hip_hop(), которая заменяет неправильное название этого жанра в столбце 'genre_name' на 'hiphop' и проверяет успешность выполнения замены.\n",
        "\n",
        "Так исправляем все варианты написания, которые выявила проверка.\n"
      ]
    },
    {
      "cell_type": "code",
      "execution_count": null,
      "metadata": {
        "id": "UYuZD5SwR4xN"
      },
      "outputs": [],
      "source": [
        "# <создание функции find_hip_hop()>\n",
        "# функция принимает как параметры таблицу df и неверное название\n",
        "# к столбцу 'genre_name' применяется специальный метод,\n",
        "# который заменяет второй параметр на строку 'hiphop'\n",
        "# результат работы равен подсчитанному методом count() числу\n",
        "#значений столбца,\n",
        "# которые равны второму параметру\n",
        "# функция возвращает результат\n",
        "\n",
        "\n",
        "def find_hip_hop(df, stroka):\n",
        "    df['genre_name'] = df['genre_name'].replace(stroka, 'hiphop')\n",
        "    return df['genre_name'].value_counts()['hiphop']\n"
      ]
    },
    {
      "cell_type": "code",
      "execution_count": null,
      "metadata": {
        "id": "vcUq79OnR4xN",
        "colab": {
          "base_uri": "https://localhost:8080/"
        },
        "outputId": "187e6786-b430-48fb-cc9b-3f28a8d6ec0c"
      },
      "outputs": [
        {
          "output_type": "execute_result",
          "data": {
            "text/plain": [
              "3054"
            ]
          },
          "metadata": {},
          "execution_count": 377
        }
      ],
      "source": [
        "# <замена одного неверного варианта на hiphop вызовом функции find_hip_hop()>\n",
        "def find_hip_hop(df, stroka = 'hip'):\n",
        "    df['genre_name'] = df['genre_name'].replace(stroka, 'hiphop')\n",
        "    return df['genre_name'].value_counts()['hiphop']\n",
        "find_hip_hop(df)"
      ]
    },
    {
      "cell_type": "markdown",
      "metadata": {
        "id": "vYWMX3g6R4xO"
      },
      "source": [
        "Получаем общую информацию о данных. Убеждаемся, что чистка выполнена успешно."
      ]
    },
    {
      "cell_type": "code",
      "execution_count": null,
      "metadata": {
        "id": "1BGHZdoZR4xO",
        "colab": {
          "base_uri": "https://localhost:8080/"
        },
        "outputId": "e8a1e85b-d4ee-4b75-bb7a-5ea5083b9242"
      },
      "outputs": [
        {
          "output_type": "stream",
          "name": "stdout",
          "text": [
            "       index   user_id                         track_name       artist_name  \\\n",
            "0          0  FFB692EC                  Kamigata To Boots  The Mass Missile   \n",
            "1          1  55204538        Delayed Because of Accident  Andreas Rönnberg   \n",
            "2          2    20EC38                  Funiculì funiculà       Mario Lanza   \n",
            "3          3  A3DD03C9              Dragons in the Sunset        Fire + Ice   \n",
            "4          4  E2DC1FAE                        Soul People        Space Echo   \n",
            "...      ...       ...                                ...               ...   \n",
            "60121  65074  729CBB09                            My Name            McLean   \n",
            "60122  65075  D08D4A55  Maybe One Day (feat. Black Spade)       Blu & Exile   \n",
            "60123  65076  C5E3A0D5                          Jalopiina           unknown   \n",
            "60124  65077  321D0506                      Freight Train     Chas McDevitt   \n",
            "60125  65078  3A64EF84          Tell Me Sweet Little Lies      Monica Lopez   \n",
            "\n",
            "       genre_name total_play_seconds      time        day  \n",
            "0            rock   Saint-Petersburg  20:28:33  Wednesday  \n",
            "1            rock             Moscow  14:07:09     Friday  \n",
            "2             pop   Saint-Petersburg  20:58:07  Wednesday  \n",
            "3            folk   Saint-Petersburg  08:37:09     Monday  \n",
            "4           dance             Moscow  08:34:34     Monday  \n",
            "...           ...                ...       ...        ...  \n",
            "60121         rnb             Moscow  13:32:28  Wednesday  \n",
            "60122      hiphop   Saint-Petersburg  10:00:00     Monday  \n",
            "60123  industrial             Moscow  20:09:26     Friday  \n",
            "60124        rock             Moscow  21:43:59     Friday  \n",
            "60125     country             Moscow  21:59:46     Friday  \n",
            "\n",
            "[60126 rows x 8 columns]\n"
          ]
        }
      ],
      "source": [
        "# <получение общей информации о данных таблицы df>\n",
        "print(df)"
      ]
    },
    {
      "cell_type": "markdown",
      "metadata": {
        "id": "tRcdK7lgR4xO"
      },
      "source": [
        "## Вывод\n",
        "\n",
        "На этапе предобработки в данных обнаружились не только пропуски и проблемы с названиями столбцов, но и всяческие виды дубликатов. Их удаление позволит провести анализ точнее. Поскольку сведения о жанрах важно сохранить для анализа, не просто удаляем все пропущенные значения, но заполним пропущенные имена исполнителей и названия треков. Имена столбцов теперь корректны и удобны для дальнейшей работы.\n"
      ]
    },
    {
      "cell_type": "code",
      "source": [],
      "metadata": {
        "id": "59JywXknprib"
      },
      "execution_count": null,
      "outputs": []
    },
    {
      "cell_type": "markdown",
      "metadata": {
        "id": "IT_0V6LDR4xO"
      },
      "source": [
        "# Действительно ли музыку в разных городах слушают по-разному?\n",
        "\n",
        "Была выдвинута гипотеза, что в Москве и Санкт-Петербурге пользователи слушают музыку по-разному. Проверяем это предположение по данным о трёх днях недели — понедельнике, среде и пятнице.\n",
        "\n",
        "Для каждого города устанавливаем количество прослушанных в эти дни композиций с известным жанром, и сравниваем результаты.\n",
        "Группируем данные по городу и вызовом метода count() подсчитываем композиции, для которых известен жанр.\n"
      ]
    },
    {
      "cell_type": "code",
      "execution_count": null,
      "metadata": {
        "id": "c5Lw2yXoR4xO",
        "colab": {
          "base_uri": "https://localhost:8080/"
        },
        "outputId": "4e0f1a70-b004-4338-8ac6-5048fc8b3a7a"
      },
      "outputs": [
        {
          "output_type": "stream",
          "name": "stdout",
          "text": [
            "total_play_seconds\n",
            "Moscow              41892\n",
            "Saint-Petersburg    18234\n",
            "Name: genre_name, dtype: int64\n"
          ]
        }
      ],
      "source": [
        "# <группировка данных таблицы df по столбцу 'city' и подсчёт количества значений столбца 'genre_name'>\n",
        "df_city = df.groupby('total_play_seconds')['genre_name'].count()\n",
        "print(df_city)"
      ]
    },
    {
      "cell_type": "markdown",
      "metadata": {
        "id": "gzgmAWRjR4xO"
      },
      "source": [
        "В *(вставьте название города)* прослушиваний больше, чем в *(вставьте название города)*, но это не значит, что *(вставьте название города)* более активна. У Яндекс.Музыки в целом больше пользователей в Москве, поэтому величины сопоставимы.\n",
        "Сгруппируем данные по дню недели и подсчитаем прослушанные в понедельник, среду и пятницу композиции, для которых известен жанр.\n"
      ]
    },
    {
      "cell_type": "code",
      "execution_count": null,
      "metadata": {
        "id": "jmDSLn7QR4xO",
        "colab": {
          "base_uri": "https://localhost:8080/"
        },
        "outputId": "b0e85acb-bb97-44aa-d2cb-b3f6d1d7bb02"
      },
      "outputs": [
        {
          "output_type": "stream",
          "name": "stdout",
          "text": [
            "day\n",
            "Friday       21482\n",
            "Monday       20866\n",
            "Wednesday    17778\n",
            "Name: genre_name, dtype: int64\n"
          ]
        }
      ],
      "source": [
        "# <группировка данных по столбцу 'weekday' и подсчёт количества значений столбца 'genre_name'>\n",
        "df_weekday = df.groupby('day')['genre_name'].count()\n",
        "print(df_weekday)"
      ]
    },
    {
      "cell_type": "markdown",
      "metadata": {
        "id": "qAOR9q4MR4xO"
      },
      "source": [
        "Понедельник и пятница — время для музыки; по средам пользователи немного больше вовлечены в работу.\n",
        "\n",
        "Создаём функцию number_tracks(), которая принимает как параметры таблицу, день недели и название города, а возвращает количество прослушанных композиций, для которых известен жанр. Проверяем количество прослушанных композиций для каждого города и понедельника, затем среды и пятницы.\n"
      ]
    },
    {
      "cell_type": "code",
      "execution_count": null,
      "metadata": {
        "id": "K6oB8QfyR4xO"
      },
      "outputs": [],
      "source": [
        "# <создание функции number_tracks()>\n",
        "# объявляется функция с тремя параметрами: df, day, city\n",
        "# в переменной track_list сохраняются те строки таблицы df, для которых\n",
        "# значение в столбце 'weekday' равно параметру day\n",
        "# и одновременно значение в столбце 'city' равно параметру city\n",
        "# в переменной track_list_count сохраняется число значений столбца 'genre_name',\n",
        "# рассчитанное методом count() для таблицы track_list\n",
        "# функция возвращает значение track_list_count\n",
        "def number_tracks(df, day, city):\n",
        "    track_list = df[(df['day'] == day) & (df['total_play_seconds'] ==city)]\n",
        "    track_list_count = track_list['genre_name'].count()\n",
        "    return track_list_count"
      ]
    },
    {
      "cell_type": "code",
      "execution_count": null,
      "metadata": {
        "id": "qW3aykLGR4xO",
        "colab": {
          "base_uri": "https://localhost:8080/"
        },
        "outputId": "4526bdd5-65f9-498e-916c-85d4f5823f37"
      },
      "outputs": [
        {
          "output_type": "stream",
          "name": "stdout",
          "text": [
            "15347\n"
          ]
        }
      ],
      "source": [
        "# <список композиций для Москвы в понедельник>\n",
        "def number_tracks(df, day, city):\n",
        "    track_list = df[(df['day'] == day) & (df['total_play_seconds'] ==city)]\n",
        "    track_list_count = track_list['genre_name'].count()\n",
        "    return track_list_count\n",
        "result_1 = number_tracks(df,'Monday','Moscow')\n",
        "print(result_1)"
      ]
    },
    {
      "cell_type": "code",
      "execution_count": null,
      "metadata": {
        "id": "Y1vAXoVUR4xO",
        "colab": {
          "base_uri": "https://localhost:8080/"
        },
        "outputId": "a4d7c1be-bb01-4b29-a9c3-d5ccff4c7f14"
      },
      "outputs": [
        {
          "output_type": "stream",
          "name": "stdout",
          "text": [
            "5519\n"
          ]
        }
      ],
      "source": [
        "# <список композиций для Санкт-Петербурга в понедельник>\n",
        "def number_tracks(df, day, city):\n",
        "    track_list = df[(df['day'] == day) & (df['total_play_seconds'] ==city)]\n",
        "    track_list_count = track_list['genre_name'].count()\n",
        "    return track_list_count\n",
        "result_2 = number_tracks(df,'Monday','Saint-Petersburg')\n",
        "print(result_2)"
      ]
    },
    {
      "cell_type": "code",
      "execution_count": null,
      "metadata": {
        "id": "ciCmhMX3R4xS",
        "colab": {
          "base_uri": "https://localhost:8080/"
        },
        "outputId": "c8df189b-998c-48a5-a3d4-a22274fbe5ed"
      },
      "outputs": [
        {
          "output_type": "stream",
          "name": "stdout",
          "text": [
            "10865\n"
          ]
        }
      ],
      "source": [
        "# <список композиций для Москвы в среду>\n",
        "def number_tracks(df, day, city):\n",
        "    track_list = df[(df['day'] == day) & (df['total_play_seconds'] ==city)]\n",
        "    track_list_count = track_list['genre_name'].count()\n",
        "    return track_list_count\n",
        "result_3 = number_tracks(df,'Wednesday','Moscow')\n",
        "print(result_3)"
      ]
    },
    {
      "cell_type": "code",
      "execution_count": null,
      "metadata": {
        "id": "e35Cm22pR4xS",
        "colab": {
          "base_uri": "https://localhost:8080/"
        },
        "outputId": "03206053-cf9b-4ba0-f0bf-6e499238795d"
      },
      "outputs": [
        {
          "output_type": "stream",
          "name": "stdout",
          "text": [
            "6913\n"
          ]
        }
      ],
      "source": [
        "# <список композиций для Санкт-Петербурга в среду>\n",
        "def number_tracks(df, day, city):\n",
        "    track_list = df[(df['day'] == day) & (df['total_play_seconds'] ==city)]\n",
        "    track_list_count = track_list['genre_name'].count()\n",
        "    return track_list_count\n",
        "result_4 = number_tracks(df,'Wednesday','Saint-Petersburg')\n",
        "print(result_4)"
      ]
    },
    {
      "cell_type": "code",
      "execution_count": null,
      "metadata": {
        "id": "KSLNXugpR4xS",
        "colab": {
          "base_uri": "https://localhost:8080/"
        },
        "outputId": "bd64e76a-52c8-418f-f959-373f2876bc44"
      },
      "outputs": [
        {
          "output_type": "stream",
          "name": "stdout",
          "text": [
            "15680\n"
          ]
        }
      ],
      "source": [
        "# <список композиций для Москвы в пятницу>\n",
        "def number_tracks(df, day, city):\n",
        "    track_list = df[(df['day'] == day) & (df['total_play_seconds'] ==city)]\n",
        "    track_list_count = track_list['genre_name'].count()\n",
        "    return track_list_count\n",
        "result_5 = number_tracks(df,'Friday','Moscow')\n",
        "print(result_5)"
      ]
    },
    {
      "cell_type": "code",
      "execution_count": null,
      "metadata": {
        "id": "b2cH0r8bR4xS",
        "colab": {
          "base_uri": "https://localhost:8080/"
        },
        "outputId": "efd0bae8-5cd2-4b72-8783-6820869d8ef0"
      },
      "outputs": [
        {
          "output_type": "stream",
          "name": "stdout",
          "text": [
            "5802\n"
          ]
        }
      ],
      "source": [
        "# <список композиций для Санкт-Петербурга в пятницу>\n",
        "def number_tracks(df, day, city):\n",
        "    track_list = df[(df['day'] == day) & (df['total_play_seconds'] ==city)]\n",
        "    track_list_count = track_list['genre_name'].count()\n",
        "    return track_list_count\n",
        "result_6 = number_tracks(df,'Friday','Saint-Petersburg')\n",
        "print(result_6)"
      ]
    },
    {
      "cell_type": "markdown",
      "metadata": {
        "id": "aW4pM7W1R4xS"
      },
      "source": [
        "Сведём полученную информацию в одну таблицу, где ['city', 'monday', 'wednesday', 'friday'] названия столбцов."
      ]
    },
    {
      "cell_type": "code",
      "execution_count": null,
      "metadata": {
        "id": "38ENvJtIR4xS",
        "colab": {
          "base_uri": "https://localhost:8080/"
        },
        "outputId": "0cbe1995-0bae-48c3-ec0a-ed5f6f634eb4"
      },
      "outputs": [
        {
          "output_type": "stream",
          "name": "stdout",
          "text": [
            "               city  monday  wednesday  friday\n",
            "0            Moscow   15347      10865   15680\n",
            "1  Saint-Petersburg    5519       6913    5802\n"
          ]
        }
      ],
      "source": [
        "# <таблица с полученными данными>\n",
        "result = [\n",
        "    ['Moscow', result_1, result_3, result_5],\n",
        "    ['Saint-Petersburg', result_2, result_4, result_6]\n",
        "]\n",
        "\n",
        "new_table = ['city', 'monday', 'wednesday', 'friday']\n",
        "table = pd.DataFrame(data=result, columns=new_table)\n",
        "print(table)"
      ]
    },
    {
      "cell_type": "markdown",
      "metadata": {
        "id": "v8Mdnj4KR4xS"
      },
      "source": [
        "## Вывод\n",
        "\n",
        "*Запишите здесь ваши выводы.Опишите закономерности, которые вы наблюдаете по дням недели и городам*"
      ]
    },
    {
      "cell_type": "markdown",
      "metadata": {
        "id": "SYKahh4kR4xS"
      },
      "source": [
        "# Утро понедельника и вечер пятницы — разная музыка или одна и та же?\n",
        "\n",
        "Ищем ответ на вопрос, какие жанры преобладают в разных городах в понедельник утром и в пятницу вечером. Есть предположение, что в понедельник утром пользователи слушают больше бодрящей музыки (например, жанра поп), а вечером пятницы — больше танцевальных (например, электронику).\n",
        "Получим таблицы данных по Москве moscow_general и по Санкт-Петербургу spb_general.\n"
      ]
    },
    {
      "cell_type": "code",
      "execution_count": null,
      "metadata": {
        "id": "e9ZqfXNyR4xT"
      },
      "outputs": [],
      "source": [
        "moscow_general = df[df['total_play_seconds'] == 'Moscow']\n",
        "spb_general = df[df['total_play_seconds'] == 'Saint-Petersburg']"
      ]
    },
    {
      "cell_type": "markdown",
      "metadata": {
        "id": "aSoW_mBmR4xT"
      },
      "source": [
        "Создаём функцию genre_weekday(), которая возвращает список жанров по запрошенному дню недели и времени суток с такого-то часа по такой-то."
      ]
    },
    {
      "cell_type": "code",
      "execution_count": null,
      "metadata": {
        "id": "G4iEP68HR4xT"
      },
      "outputs": [],
      "source": [
        "# объявление функции genre_weekday() с параметрами df, day, time1, time2\n",
        "# в переменной genre_list сохраняются те строки df, для которых одновременно:\n",
        "# 1) значение в столбце 'weekday' равно параметру day,\n",
        "# 2) значение в столбце 'time' больше time1 и\n",
        "# 3) меньше time2.\n",
        "# в переменной genre_list_sorted сохраняются в порядке убывания\n",
        "# первые 10 значений Series, полученной подсчётом числа значений 'genre_name'\n",
        "# сгруппированной по столбцу 'genre_name' таблицы genre_list\n",
        "# функция возвращает значение genre_list_sorted\n",
        "def genre_weekday(df, day, time1, time2):\n",
        "    genre_list = df[(df['day'] == day) & (df['time'] >time1) & (df['time'] < time2)]\n",
        "    genre_list_sorted = genre_list['genre_name'].value_counts(ascending=False).head(10)\n",
        "    return genre_list_sorted"
      ]
    },
    {
      "cell_type": "markdown",
      "metadata": {
        "id": "iL9BpEqaR4xT"
      },
      "source": [
        "Cравниваем полученные результаты по таблице для Москвы и Санкт-Петербурга в понедельник утром (с 7 до 11) и в пятницу вечером (с 17 до 23)."
      ]
    },
    {
      "cell_type": "code",
      "execution_count": null,
      "metadata": {
        "id": "oc0ZSrFUR4xT",
        "colab": {
          "base_uri": "https://localhost:8080/",
          "height": 429
        },
        "outputId": "ffbe1bb6-1177-49fa-ce27-2124a9fe69d9"
      },
      "outputs": [
        {
          "output_type": "execute_result",
          "data": {
            "text/plain": [
              "genre_name\n",
              "pop            713\n",
              "rock           517\n",
              "dance          495\n",
              "electronic     482\n",
              "hiphop         273\n",
              "world          208\n",
              "ruspop         170\n",
              "classical      163\n",
              "alternative    163\n",
              "rusrap         142\n",
              "Name: count, dtype: int64"
            ],
            "text/html": [
              "<div>\n",
              "<style scoped>\n",
              "    .dataframe tbody tr th:only-of-type {\n",
              "        vertical-align: middle;\n",
              "    }\n",
              "\n",
              "    .dataframe tbody tr th {\n",
              "        vertical-align: top;\n",
              "    }\n",
              "\n",
              "    .dataframe thead th {\n",
              "        text-align: right;\n",
              "    }\n",
              "</style>\n",
              "<table border=\"1\" class=\"dataframe\">\n",
              "  <thead>\n",
              "    <tr style=\"text-align: right;\">\n",
              "      <th></th>\n",
              "      <th>count</th>\n",
              "    </tr>\n",
              "    <tr>\n",
              "      <th>genre_name</th>\n",
              "      <th></th>\n",
              "    </tr>\n",
              "  </thead>\n",
              "  <tbody>\n",
              "    <tr>\n",
              "      <th>pop</th>\n",
              "      <td>713</td>\n",
              "    </tr>\n",
              "    <tr>\n",
              "      <th>rock</th>\n",
              "      <td>517</td>\n",
              "    </tr>\n",
              "    <tr>\n",
              "      <th>dance</th>\n",
              "      <td>495</td>\n",
              "    </tr>\n",
              "    <tr>\n",
              "      <th>electronic</th>\n",
              "      <td>482</td>\n",
              "    </tr>\n",
              "    <tr>\n",
              "      <th>hiphop</th>\n",
              "      <td>273</td>\n",
              "    </tr>\n",
              "    <tr>\n",
              "      <th>world</th>\n",
              "      <td>208</td>\n",
              "    </tr>\n",
              "    <tr>\n",
              "      <th>ruspop</th>\n",
              "      <td>170</td>\n",
              "    </tr>\n",
              "    <tr>\n",
              "      <th>classical</th>\n",
              "      <td>163</td>\n",
              "    </tr>\n",
              "    <tr>\n",
              "      <th>alternative</th>\n",
              "      <td>163</td>\n",
              "    </tr>\n",
              "    <tr>\n",
              "      <th>rusrap</th>\n",
              "      <td>142</td>\n",
              "    </tr>\n",
              "  </tbody>\n",
              "</table>\n",
              "</div><br><label><b>dtype:</b> int64</label>"
            ]
          },
          "metadata": {},
          "execution_count": 417
        }
      ],
      "source": [
        "# <вызов функции для вечера пятницы в Москве>\n",
        "genre_weekday(moscow_general,'Friday','17:00:00','23:00:00')"
      ]
    },
    {
      "cell_type": "code",
      "execution_count": null,
      "metadata": {
        "id": "XyG02lzeR4xT",
        "colab": {
          "base_uri": "https://localhost:8080/",
          "height": 429
        },
        "outputId": "7d028722-e1bf-4727-f960-3ecc5f350d8f"
      },
      "outputs": [
        {
          "output_type": "execute_result",
          "data": {
            "text/plain": [
              "genre_name\n",
              "pop            256\n",
              "rock           216\n",
              "electronic     216\n",
              "dance          210\n",
              "hiphop          97\n",
              "alternative     63\n",
              "jazz            61\n",
              "classical       60\n",
              "rusrap          59\n",
              "world           54\n",
              "Name: count, dtype: int64"
            ],
            "text/html": [
              "<div>\n",
              "<style scoped>\n",
              "    .dataframe tbody tr th:only-of-type {\n",
              "        vertical-align: middle;\n",
              "    }\n",
              "\n",
              "    .dataframe tbody tr th {\n",
              "        vertical-align: top;\n",
              "    }\n",
              "\n",
              "    .dataframe thead th {\n",
              "        text-align: right;\n",
              "    }\n",
              "</style>\n",
              "<table border=\"1\" class=\"dataframe\">\n",
              "  <thead>\n",
              "    <tr style=\"text-align: right;\">\n",
              "      <th></th>\n",
              "      <th>count</th>\n",
              "    </tr>\n",
              "    <tr>\n",
              "      <th>genre_name</th>\n",
              "      <th></th>\n",
              "    </tr>\n",
              "  </thead>\n",
              "  <tbody>\n",
              "    <tr>\n",
              "      <th>pop</th>\n",
              "      <td>256</td>\n",
              "    </tr>\n",
              "    <tr>\n",
              "      <th>rock</th>\n",
              "      <td>216</td>\n",
              "    </tr>\n",
              "    <tr>\n",
              "      <th>electronic</th>\n",
              "      <td>216</td>\n",
              "    </tr>\n",
              "    <tr>\n",
              "      <th>dance</th>\n",
              "      <td>210</td>\n",
              "    </tr>\n",
              "    <tr>\n",
              "      <th>hiphop</th>\n",
              "      <td>97</td>\n",
              "    </tr>\n",
              "    <tr>\n",
              "      <th>alternative</th>\n",
              "      <td>63</td>\n",
              "    </tr>\n",
              "    <tr>\n",
              "      <th>jazz</th>\n",
              "      <td>61</td>\n",
              "    </tr>\n",
              "    <tr>\n",
              "      <th>classical</th>\n",
              "      <td>60</td>\n",
              "    </tr>\n",
              "    <tr>\n",
              "      <th>rusrap</th>\n",
              "      <td>59</td>\n",
              "    </tr>\n",
              "    <tr>\n",
              "      <th>world</th>\n",
              "      <td>54</td>\n",
              "    </tr>\n",
              "  </tbody>\n",
              "</table>\n",
              "</div><br><label><b>dtype:</b> int64</label>"
            ]
          },
          "metadata": {},
          "execution_count": 418
        }
      ],
      "source": [
        "# <вызов функции для вечера пятницы в Питере>\n",
        "genre_weekday(spb_general,'Friday','17:00:00','23:00:00')"
      ]
    },
    {
      "cell_type": "markdown",
      "metadata": {
        "id": "cx9PT3pnR4xT"
      },
      "source": [
        "Популярные жанры в понедельник утром в Питере и Москве оказались похожи: везде, как и предполагалось, популярен *(вставьте сюда название жанра)*. Несмотря на это, концовка топ-10 для двух городов различается: в Питере в топ-10 входит джаз и русский рэп, а в Москве жанр world.\n",
        "\n",
        "*(Опишите здесь, меняется ли ситуация в музыкальными предпочтениями в конце недели, заметна ли разница в концовке ТОП-10)*\n",
        "\n",
        "## Вывод\n",
        "Жанр *(вставьте сюда название жанра)* безусловный лидер, а топ-5 в целом не различается в обеих столицах. При этом видно, что концовка списка более «живая»: для каждого города выделяются более характерные жанры, которые действительно меняют свои позиции в зависимости от дня недели и времени.\n"
      ]
    },
    {
      "cell_type": "markdown",
      "metadata": {
        "id": "IwY9lJSNR4xT"
      },
      "source": [
        "# Москва и Питер — две разные столицы, два разных направления в музыке. Правда?\n",
        "\n",
        "Гипотеза: Питер богат своей рэп-культурой, поэтому это направление там слушают чаще, а Москва — город контрастов, но основная масса пользователей слушает попсу.\n",
        "\n",
        "Сгруппируем таблицу moscow_general по жанру, сосчитаем численность композиций каждого жанра методом count(), отсортируем в порядке убывания и сохраним результат в таблице moscow_genres.\n",
        "\n",
        "Просмотрим первые 10 строк этой новой таблицы.\n"
      ]
    },
    {
      "cell_type": "code",
      "execution_count": null,
      "metadata": {
        "id": "EVE97jMYR4xT"
      },
      "outputs": [],
      "source": [
        "# одной строкой: группировка таблицы moscow_general по столбцу 'genre_name',\n",
        "# подсчёт числа значений 'genre_name' в этой группировке методом count(),\n",
        "# сортировка Series в порядке убывания и сохранение в moscow_genres\n",
        "moscow_genres = moscow_general.groupby('genre_name').size().reset_index(name='count')\n",
        "\n",
        "moscow_genres = moscow_genres.sort_values(by='count', ascending=False)\n"
      ]
    },
    {
      "cell_type": "code",
      "execution_count": null,
      "metadata": {
        "id": "wOf0oMzPR4xU",
        "colab": {
          "base_uri": "https://localhost:8080/"
        },
        "outputId": "999e6884-6f12-4b77-dc9a-e5862a1dd5b2"
      },
      "outputs": [
        {
          "output_type": "stream",
          "name": "stdout",
          "text": [
            "      genre_name  count\n",
            "177          pop   5892\n",
            "55         dance   4435\n",
            "202         rock   3965\n",
            "74    electronic   3786\n",
            "113       hiphop   2094\n",
            "46     classical   1616\n",
            "265        world   1432\n",
            "6    alternative   1379\n",
            "208       ruspop   1372\n",
            "209       rusrap   1161\n"
          ]
        }
      ],
      "source": [
        "# <просмотр первых 10 строк moscow_genres>\n",
        "print(moscow_genres.head(10))"
      ]
    },
    {
      "cell_type": "markdown",
      "metadata": {
        "id": "wgpmsc-7R4xU"
      },
      "source": [
        "Сгруппируем таблицу spb_general по жанру, сосчитаем численность композиций каждого жанра методом count(), отсортируем в порядке убывания и сохраним результат в таблице spb_genres.\n",
        "\n",
        "Просматриваем первые 10 строк этой таблицы. Теперь можно сравнивать два города.\n"
      ]
    },
    {
      "cell_type": "code",
      "execution_count": null,
      "metadata": {
        "id": "krRm_3bgR4xU"
      },
      "outputs": [],
      "source": [
        "# <группировка таблицы spb_general, расчёт, сохранение в spb_genres>\n",
        "# Группировка таблицы spb_general по столбцу 'genre_name'\n",
        "spb_genres = spb_general.groupby('genre_name').size().reset_index(name='count')\n",
        "spb_genres = spb_genres.sort_values(by='count', ascending=False)"
      ]
    },
    {
      "cell_type": "code",
      "execution_count": null,
      "metadata": {
        "id": "hdmbqqMXR4xU",
        "colab": {
          "base_uri": "https://localhost:8080/"
        },
        "outputId": "3f17baa9-70d7-491d-9d60-99e330a5465b"
      },
      "outputs": [
        {
          "output_type": "stream",
          "name": "stdout",
          "text": [
            "      genre_name  count\n",
            "140          pop   2431\n",
            "43         dance   1932\n",
            "162         rock   1879\n",
            "58    electronic   1736\n",
            "93        hiphop    960\n",
            "3    alternative    649\n",
            "35     classical    646\n",
            "167       rusrap    564\n",
            "166       ruspop    538\n",
            "207        world    515\n"
          ]
        }
      ],
      "source": [
        "# <просмотр первых 10 строк spb_genres>\n",
        "print(spb_genres.head(10))"
      ]
    },
    {
      "cell_type": "markdown",
      "metadata": {
        "id": "R-GRqTZER4xU"
      },
      "source": [
        "## Вывод\n",
        "В Москве, кроме абсолютно популярного жанра поп, есть направление русской популярной музыки. Значит, что интерес к этому жанру шире. А рэп, вопреки предположению, занимает в обоих городах близкие позиции.\n"
      ]
    },
    {
      "cell_type": "markdown",
      "metadata": {
        "id": "c_PF3BWmR4xU"
      },
      "source": [
        "# Результаты исследования\n",
        "\n",
        "Рабочие гипотезы:\n",
        "\n",
        "•\tмузыку в двух городах — Москве и Санкт-Петербурге — слушают в разном режиме;\n",
        "\n",
        "•\tсписки десяти самых популярных жанров утром в понедельник и вечером в пятницу имеют характерные отличия;\n",
        "\n",
        "•\tнаселение двух городов предпочитает разные музыкальные жанры.\n",
        "\n",
        "**Общие результаты**\n",
        "\n",
        "Москва и Петербург сходятся во вкусах: везде преобладает популярная музыка. При этом зависимости предпочтений от дня недели в каждом отдельном городе нет — люди постоянно слушают то, что им нравится. Но между городами в разрезе дней неделей наблюдается зеркальность относительно среды: Москва больше слушает в понедельник и пятницу, а Петербург наоборот - больше в среду, но меньше в понедельник и пятницу.\n",
        "В результате первая гипотеза *подтверждена / не подтверждена*, вторая гипотеза *подтверждена / не подтверждена* и третья не подтверждена >.*подтверждена / не подтверждена*\n"
      ]
    },
    {
      "cell_type": "code",
      "execution_count": null,
      "metadata": {
        "id": "x0tdqUpUR4xU"
      },
      "outputs": [],
      "source": []
    },
    {
      "cell_type": "code",
      "execution_count": null,
      "metadata": {
        "id": "8tVhmsYqR4xU"
      },
      "outputs": [],
      "source": []
    }
  ],
  "metadata": {
    "kernelspec": {
      "display_name": "Python 3 (ipykernel)",
      "language": "python",
      "name": "python3"
    },
    "language_info": {
      "codemirror_mode": {
        "name": "ipython",
        "version": 3
      },
      "file_extension": ".py",
      "mimetype": "text/x-python",
      "name": "python",
      "nbconvert_exporter": "python",
      "pygments_lexer": "ipython3",
      "version": "3.9.12"
    },
    "colab": {
      "provenance": []
    }
  },
  "nbformat": 4,
  "nbformat_minor": 0
}