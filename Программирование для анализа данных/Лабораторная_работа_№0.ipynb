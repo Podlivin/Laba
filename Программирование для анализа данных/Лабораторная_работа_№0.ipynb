{
  "cells": [
    {
      "cell_type": "markdown",
      "metadata": {
        "id": "1KuKdoUrvCW7"
      },
      "source": [
        "## **Задача 1. Приветствие**"
      ]
    },
    {
      "cell_type": "markdown",
      "metadata": {
        "id": "imPVogXGvT_u"
      },
      "source": [
        "На вход программе подается строка текста – имя человека.\n",
        "\n",
        " Напишите программу, которая выводит на экран приветствие в виде слова «Привет, » (без кавычек), после которого должна стоять запятая и пробел, а затем введенное имя.\n",
        "\n",
        " Для считывания текста используйте команду input(), для печати текста на экране используйте команду print().\n",
        "\n",
        "**Пример:**\n",
        "\n",
        " ввод данных: Екатерина\n",
        "\n",
        " вывод данных: Привет, Екатерина"
      ]
    },
    {
      "cell_type": "code",
      "execution_count": null,
      "metadata": {
        "id": "NqyhA4iJ3Vtt",
        "colab": {
          "base_uri": "https://localhost:8080/"
        },
        "outputId": "81644d86-b31b-4f40-c1d3-236a90bd897e"
      },
      "outputs": [
        {
          "output_type": "stream",
          "name": "stdout",
          "text": [
            "Юрий\n",
            "Привет, Юрий\n"
          ]
        }
      ],
      "source": [
        "name = input()\n",
        "print(\"Привет,\", name)"
      ]
    },
    {
      "cell_type": "markdown",
      "metadata": {
        "id": "8qENl25N1Y0x"
      },
      "source": [
        "## **Задача 2. Право доступа**"
      ]
    },
    {
      "cell_type": "markdown",
      "metadata": {
        "id": "qqqrqrZ34q7y"
      },
      "source": [
        "На вход программе подаётся целое число — возраст пользователя. Программа должна вывести текст:\n",
        "*   «Доступ разрешен», если возраст не менее 18;\n",
        "*   «Доступ ограничен», если возраст от 14 до 17 лет (включительно);\n",
        "*   «Доступ запрещен», если возраст менее 14 лет.\n",
        "\n",
        "Для считывания возраста используйте команду input(), не забыв преобразовать тип данных в числовой с помощью int(); для печати текста на экране используйте команду print(). Используйте условные операторы if-elif-else.\n",
        "\n",
        "**Пример:**\n",
        "\n",
        " ввод данных: 17\n",
        "\n",
        " вывод данных: Доступ ограничен"
      ]
    },
    {
      "cell_type": "code",
      "execution_count": null,
      "metadata": {
        "id": "rpLC73vi3WeU",
        "colab": {
          "base_uri": "https://localhost:8080/"
        },
        "outputId": "3ccf0057-6e3e-4366-88d2-88207a8d4c59"
      },
      "outputs": [
        {
          "output_type": "stream",
          "name": "stdout",
          "text": [
            "15\n",
            "Доступ ограничен\n"
          ]
        }
      ],
      "source": [
        "age = int(input())\n",
        "if age >= 18:\n",
        "  print(\"Доступ разрешен\")\n",
        "elif age >= 14 and age <= 17:\n",
        "  print(\"Доступ ограничен\")\n",
        "else:\n",
        "  print(\"Доступ запрещен\")"
      ]
    },
    {
      "cell_type": "markdown",
      "metadata": {
        "id": "37D1iZ-46T9f"
      },
      "source": [
        "## **Задача 3. Повторение**"
      ]
    },
    {
      "cell_type": "markdown",
      "metadata": {
        "id": "kXRx-gtU6p2n"
      },
      "source": [
        "На вход программе подаётся:\n",
        "*   на первой строке - текстовое предложение;\n",
        "*   на второй строке - количество повторений (целое число).\n",
        "\n",
        "Напишите программу, которая выводит предложение нужное количество раз (каждое предложение должно начинаться с новой строки).\n",
        "\n",
        "Для считывания текста и числа повторений используйте команду input(), не забыв преобразовать тип данных в числовой с помощью int() для количества повторений; для печати текста на экране используйте команду print(). Используйте цикл for.\n",
        "\n",
        "**Пример:**\n",
        "\n",
        " ввод данных:\n",
        "*   Век живи - век учись!\n",
        "*   3\n",
        "\n",
        "вывод данных:\n",
        "\n",
        "Век живи - век учись!\n",
        "\n",
        "Век живи - век учись!\n",
        "\n",
        "Век живи - век учись!"
      ]
    },
    {
      "cell_type": "code",
      "execution_count": null,
      "metadata": {
        "id": "I3MQolV33Xb9",
        "colab": {
          "base_uri": "https://localhost:8080/"
        },
        "outputId": "7f8a1197-f3be-4f43-a374-1fb2a159abbc"
      },
      "outputs": [
        {
          "output_type": "stream",
          "name": "stdout",
          "text": [
            "Век живи - век учись!\n",
            "3\n",
            "Век живи - век учись!\n",
            "Век живи - век учись!\n",
            "Век живи - век учись!\n"
          ]
        }
      ],
      "source": [
        "text = input()\n",
        "rep = int(input())\n",
        "for i in range(rep):\n",
        "  print(text)"
      ]
    },
    {
      "cell_type": "markdown",
      "metadata": {
        "id": "hHKa8Y2j81kp"
      },
      "source": [
        "## **Задача 4. Повторение 2**"
      ]
    },
    {
      "cell_type": "markdown",
      "metadata": {
        "id": "vd60Ri5h-2d9"
      },
      "source": [
        "Реализуйте задачу 3 через цикл while."
      ]
    },
    {
      "cell_type": "code",
      "execution_count": null,
      "metadata": {
        "id": "xN1sosvL3X70",
        "colab": {
          "base_uri": "https://localhost:8080/"
        },
        "outputId": "0245e873-2a11-4b7f-9624-a4da9bf817ba"
      },
      "outputs": [
        {
          "output_type": "stream",
          "name": "stdout",
          "text": [
            "Век живи - век учись!\n",
            "3\n",
            "Век живи - век учись!\n",
            "Век живи - век учись!\n",
            "Век живи - век учись!\n"
          ]
        }
      ],
      "source": [
        "text = input()\n",
        "rep = int(input())\n",
        "i = 0\n",
        "while i < rep:\n",
        "  print(text)\n",
        "  i+=1"
      ]
    },
    {
      "cell_type": "markdown",
      "metadata": {
        "id": "wFjCdbAQBCSg"
      },
      "source": [
        "## **Задача 5. ФИО**"
      ]
    },
    {
      "cell_type": "markdown",
      "metadata": {
        "id": "pkaL_HadBH3z"
      },
      "source": [
        "Напишите функцию print_fio(name, surname, patronymic), которая принимает три параметра:\n",
        "*   name – имя человека;\n",
        "*   surname – фамилия человека;\n",
        "*   patronymic – отчество человека;\n",
        "\n",
        "а затем выводит на печать ФИО человека (на одной строке, только первые буквы в порядке surname-name-patronymic).\n",
        "\n",
        "Добавьте комментарий перед каждым этапом:\n",
        "\n",
        "*   #объявление функции\n",
        "> def print_fio(name, surname, patronymic)\n",
        "*   #ввод данных\n",
        "> name, surname, patronymic =\n",
        "*   #вызов функции\n",
        "> print_fio(name, surname, patronymic)\n",
        "\n",
        "Для считывания текста используйте команду input(); для печати текста на экране используйте команду print(), добавив параметр sep='' для печати на одной строке. Используйте def для объявления функции.\n",
        "\n",
        "**Пример:**\n",
        "\n",
        " ввод данных:\n",
        "*   Иван\n",
        "*   Сидоров\n",
        "*   Петрович\n",
        "\n",
        "вывод данных: СИП"
      ]
    },
    {
      "cell_type": "code",
      "execution_count": null,
      "metadata": {
        "id": "OsNHQU6K3Y3E",
        "colab": {
          "base_uri": "https://localhost:8080/"
        },
        "outputId": "818c558b-6d47-4127-afc2-3ebe80799fcd"
      },
      "outputs": [
        {
          "output_type": "stream",
          "name": "stdout",
          "text": [
            "Юрий\n",
            "Завадин\n",
            "Сергеевич\n",
            "ЗЮС\n"
          ]
        }
      ],
      "source": [
        "#объявление функции\n",
        "def print_fio(name, surname, patronymic):\n",
        "  print(surname[:1],name[:1],patronymic[:1], sep=\"\")\n",
        "#ввод данных\n",
        "name, surname, patronymic = input(), input(), input()\n",
        "#вызов функции\n",
        "print_fio(name, surname, patronymic)\n"
      ]
    },
    {
      "cell_type": "markdown",
      "metadata": {
        "id": "cCeC21NMFM_w"
      },
      "source": [
        "## **Задача 6. Первая таблица**"
      ]
    },
    {
      "cell_type": "markdown",
      "metadata": {
        "id": "BFyYI5dtFUmf"
      },
      "source": [
        "Импортируйте библиотеку pandas с именем pd. Скопируйте словарь, у которого в качестве ключей - столбцы таблицы, а в качестве значений в списках - данные таблицы:\n",
        "> data = {'col 1': ['Я', 'Python', 'Буду'], 'col 2': ['люблю', 'мой', 'стараться'], 'col 3': ['анализ', 'лучший', 'хорошо'], 'col 4': ['данных', 'друг', 'учиться']}\n",
        "\n",
        "Создайте таблицу, скопировав следующий код:\n",
        "> df = pd.DataFrame(data)\n",
        "\n",
        "где df - имя таблицы, pd.DataFrame() - конструктор таблицы, data - словарь.\n",
        "\n",
        "Выведите таблицу через print() либо просто ее вызовом без print().\n",
        "\n",
        "\n"
      ]
    },
    {
      "cell_type": "code",
      "execution_count": null,
      "metadata": {
        "id": "NcORHQCE3ZSU",
        "colab": {
          "base_uri": "https://localhost:8080/",
          "height": 206
        },
        "outputId": "93387af6-61a0-4005-f105-1e68d2380121"
      },
      "outputs": [
        {
          "output_type": "execute_result",
          "data": {
            "text/plain": [
              "       artist                   track\n",
              "0       AC/DC          Back and black\n",
              "1  Руки Вверх              18 мне уже\n",
              "2        Лепс                  London\n",
              "3      Басков            Чаша золотая\n",
              "4    Киркоров  Цвет настроения черный"
            ],
            "text/html": [
              "\n",
              "  <div id=\"df-6fc2d027-b48a-45e7-9872-32108871fab2\" class=\"colab-df-container\">\n",
              "    <div>\n",
              "<style scoped>\n",
              "    .dataframe tbody tr th:only-of-type {\n",
              "        vertical-align: middle;\n",
              "    }\n",
              "\n",
              "    .dataframe tbody tr th {\n",
              "        vertical-align: top;\n",
              "    }\n",
              "\n",
              "    .dataframe thead th {\n",
              "        text-align: right;\n",
              "    }\n",
              "</style>\n",
              "<table border=\"1\" class=\"dataframe\">\n",
              "  <thead>\n",
              "    <tr style=\"text-align: right;\">\n",
              "      <th></th>\n",
              "      <th>artist</th>\n",
              "      <th>track</th>\n",
              "    </tr>\n",
              "  </thead>\n",
              "  <tbody>\n",
              "    <tr>\n",
              "      <th>0</th>\n",
              "      <td>AC/DC</td>\n",
              "      <td>Back and black</td>\n",
              "    </tr>\n",
              "    <tr>\n",
              "      <th>1</th>\n",
              "      <td>Руки Вверх</td>\n",
              "      <td>18 мне уже</td>\n",
              "    </tr>\n",
              "    <tr>\n",
              "      <th>2</th>\n",
              "      <td>Лепс</td>\n",
              "      <td>London</td>\n",
              "    </tr>\n",
              "    <tr>\n",
              "      <th>3</th>\n",
              "      <td>Басков</td>\n",
              "      <td>Чаша золотая</td>\n",
              "    </tr>\n",
              "    <tr>\n",
              "      <th>4</th>\n",
              "      <td>Киркоров</td>\n",
              "      <td>Цвет настроения черный</td>\n",
              "    </tr>\n",
              "  </tbody>\n",
              "</table>\n",
              "</div>\n",
              "    <div class=\"colab-df-buttons\">\n",
              "\n",
              "  <div class=\"colab-df-container\">\n",
              "    <button class=\"colab-df-convert\" onclick=\"convertToInteractive('df-6fc2d027-b48a-45e7-9872-32108871fab2')\"\n",
              "            title=\"Convert this dataframe to an interactive table.\"\n",
              "            style=\"display:none;\">\n",
              "\n",
              "  <svg xmlns=\"http://www.w3.org/2000/svg\" height=\"24px\" viewBox=\"0 -960 960 960\">\n",
              "    <path d=\"M120-120v-720h720v720H120Zm60-500h600v-160H180v160Zm220 220h160v-160H400v160Zm0 220h160v-160H400v160ZM180-400h160v-160H180v160Zm440 0h160v-160H620v160ZM180-180h160v-160H180v160Zm440 0h160v-160H620v160Z\"/>\n",
              "  </svg>\n",
              "    </button>\n",
              "\n",
              "  <style>\n",
              "    .colab-df-container {\n",
              "      display:flex;\n",
              "      gap: 12px;\n",
              "    }\n",
              "\n",
              "    .colab-df-convert {\n",
              "      background-color: #E8F0FE;\n",
              "      border: none;\n",
              "      border-radius: 50%;\n",
              "      cursor: pointer;\n",
              "      display: none;\n",
              "      fill: #1967D2;\n",
              "      height: 32px;\n",
              "      padding: 0 0 0 0;\n",
              "      width: 32px;\n",
              "    }\n",
              "\n",
              "    .colab-df-convert:hover {\n",
              "      background-color: #E2EBFA;\n",
              "      box-shadow: 0px 1px 2px rgba(60, 64, 67, 0.3), 0px 1px 3px 1px rgba(60, 64, 67, 0.15);\n",
              "      fill: #174EA6;\n",
              "    }\n",
              "\n",
              "    .colab-df-buttons div {\n",
              "      margin-bottom: 4px;\n",
              "    }\n",
              "\n",
              "    [theme=dark] .colab-df-convert {\n",
              "      background-color: #3B4455;\n",
              "      fill: #D2E3FC;\n",
              "    }\n",
              "\n",
              "    [theme=dark] .colab-df-convert:hover {\n",
              "      background-color: #434B5C;\n",
              "      box-shadow: 0px 1px 3px 1px rgba(0, 0, 0, 0.15);\n",
              "      filter: drop-shadow(0px 1px 2px rgba(0, 0, 0, 0.3));\n",
              "      fill: #FFFFFF;\n",
              "    }\n",
              "  </style>\n",
              "\n",
              "    <script>\n",
              "      const buttonEl =\n",
              "        document.querySelector('#df-6fc2d027-b48a-45e7-9872-32108871fab2 button.colab-df-convert');\n",
              "      buttonEl.style.display =\n",
              "        google.colab.kernel.accessAllowed ? 'block' : 'none';\n",
              "\n",
              "      async function convertToInteractive(key) {\n",
              "        const element = document.querySelector('#df-6fc2d027-b48a-45e7-9872-32108871fab2');\n",
              "        const dataTable =\n",
              "          await google.colab.kernel.invokeFunction('convertToInteractive',\n",
              "                                                    [key], {});\n",
              "        if (!dataTable) return;\n",
              "\n",
              "        const docLinkHtml = 'Like what you see? Visit the ' +\n",
              "          '<a target=\"_blank\" href=https://colab.research.google.com/notebooks/data_table.ipynb>data table notebook</a>'\n",
              "          + ' to learn more about interactive tables.';\n",
              "        element.innerHTML = '';\n",
              "        dataTable['output_type'] = 'display_data';\n",
              "        await google.colab.output.renderOutput(dataTable, element);\n",
              "        const docLink = document.createElement('div');\n",
              "        docLink.innerHTML = docLinkHtml;\n",
              "        element.appendChild(docLink);\n",
              "      }\n",
              "    </script>\n",
              "  </div>\n",
              "\n",
              "\n",
              "<div id=\"df-409f72b9-0d83-4e87-9d40-276910ea2585\">\n",
              "  <button class=\"colab-df-quickchart\" onclick=\"quickchart('df-409f72b9-0d83-4e87-9d40-276910ea2585')\"\n",
              "            title=\"Suggest charts\"\n",
              "            style=\"display:none;\">\n",
              "\n",
              "<svg xmlns=\"http://www.w3.org/2000/svg\" height=\"24px\"viewBox=\"0 0 24 24\"\n",
              "     width=\"24px\">\n",
              "    <g>\n",
              "        <path d=\"M19 3H5c-1.1 0-2 .9-2 2v14c0 1.1.9 2 2 2h14c1.1 0 2-.9 2-2V5c0-1.1-.9-2-2-2zM9 17H7v-7h2v7zm4 0h-2V7h2v10zm4 0h-2v-4h2v4z\"/>\n",
              "    </g>\n",
              "</svg>\n",
              "  </button>\n",
              "\n",
              "<style>\n",
              "  .colab-df-quickchart {\n",
              "      --bg-color: #E8F0FE;\n",
              "      --fill-color: #1967D2;\n",
              "      --hover-bg-color: #E2EBFA;\n",
              "      --hover-fill-color: #174EA6;\n",
              "      --disabled-fill-color: #AAA;\n",
              "      --disabled-bg-color: #DDD;\n",
              "  }\n",
              "\n",
              "  [theme=dark] .colab-df-quickchart {\n",
              "      --bg-color: #3B4455;\n",
              "      --fill-color: #D2E3FC;\n",
              "      --hover-bg-color: #434B5C;\n",
              "      --hover-fill-color: #FFFFFF;\n",
              "      --disabled-bg-color: #3B4455;\n",
              "      --disabled-fill-color: #666;\n",
              "  }\n",
              "\n",
              "  .colab-df-quickchart {\n",
              "    background-color: var(--bg-color);\n",
              "    border: none;\n",
              "    border-radius: 50%;\n",
              "    cursor: pointer;\n",
              "    display: none;\n",
              "    fill: var(--fill-color);\n",
              "    height: 32px;\n",
              "    padding: 0;\n",
              "    width: 32px;\n",
              "  }\n",
              "\n",
              "  .colab-df-quickchart:hover {\n",
              "    background-color: var(--hover-bg-color);\n",
              "    box-shadow: 0 1px 2px rgba(60, 64, 67, 0.3), 0 1px 3px 1px rgba(60, 64, 67, 0.15);\n",
              "    fill: var(--button-hover-fill-color);\n",
              "  }\n",
              "\n",
              "  .colab-df-quickchart-complete:disabled,\n",
              "  .colab-df-quickchart-complete:disabled:hover {\n",
              "    background-color: var(--disabled-bg-color);\n",
              "    fill: var(--disabled-fill-color);\n",
              "    box-shadow: none;\n",
              "  }\n",
              "\n",
              "  .colab-df-spinner {\n",
              "    border: 2px solid var(--fill-color);\n",
              "    border-color: transparent;\n",
              "    border-bottom-color: var(--fill-color);\n",
              "    animation:\n",
              "      spin 1s steps(1) infinite;\n",
              "  }\n",
              "\n",
              "  @keyframes spin {\n",
              "    0% {\n",
              "      border-color: transparent;\n",
              "      border-bottom-color: var(--fill-color);\n",
              "      border-left-color: var(--fill-color);\n",
              "    }\n",
              "    20% {\n",
              "      border-color: transparent;\n",
              "      border-left-color: var(--fill-color);\n",
              "      border-top-color: var(--fill-color);\n",
              "    }\n",
              "    30% {\n",
              "      border-color: transparent;\n",
              "      border-left-color: var(--fill-color);\n",
              "      border-top-color: var(--fill-color);\n",
              "      border-right-color: var(--fill-color);\n",
              "    }\n",
              "    40% {\n",
              "      border-color: transparent;\n",
              "      border-right-color: var(--fill-color);\n",
              "      border-top-color: var(--fill-color);\n",
              "    }\n",
              "    60% {\n",
              "      border-color: transparent;\n",
              "      border-right-color: var(--fill-color);\n",
              "    }\n",
              "    80% {\n",
              "      border-color: transparent;\n",
              "      border-right-color: var(--fill-color);\n",
              "      border-bottom-color: var(--fill-color);\n",
              "    }\n",
              "    90% {\n",
              "      border-color: transparent;\n",
              "      border-bottom-color: var(--fill-color);\n",
              "    }\n",
              "  }\n",
              "</style>\n",
              "\n",
              "  <script>\n",
              "    async function quickchart(key) {\n",
              "      const quickchartButtonEl =\n",
              "        document.querySelector('#' + key + ' button');\n",
              "      quickchartButtonEl.disabled = true;  // To prevent multiple clicks.\n",
              "      quickchartButtonEl.classList.add('colab-df-spinner');\n",
              "      try {\n",
              "        const charts = await google.colab.kernel.invokeFunction(\n",
              "            'suggestCharts', [key], {});\n",
              "      } catch (error) {\n",
              "        console.error('Error during call to suggestCharts:', error);\n",
              "      }\n",
              "      quickchartButtonEl.classList.remove('colab-df-spinner');\n",
              "      quickchartButtonEl.classList.add('colab-df-quickchart-complete');\n",
              "    }\n",
              "    (() => {\n",
              "      let quickchartButtonEl =\n",
              "        document.querySelector('#df-409f72b9-0d83-4e87-9d40-276910ea2585 button');\n",
              "      quickchartButtonEl.style.display =\n",
              "        google.colab.kernel.accessAllowed ? 'block' : 'none';\n",
              "    })();\n",
              "  </script>\n",
              "</div>\n",
              "    </div>\n",
              "  </div>\n"
            ],
            "application/vnd.google.colaboratory.intrinsic+json": {
              "type": "dataframe",
              "variable_name": "playlist",
              "summary": "{\n  \"name\": \"playlist\",\n  \"rows\": 5,\n  \"fields\": [\n    {\n      \"column\": \"artist\",\n      \"properties\": {\n        \"dtype\": \"string\",\n        \"num_unique_values\": 5,\n        \"samples\": [\n          \"\\u0420\\u0443\\u043a\\u0438 \\u0412\\u0432\\u0435\\u0440\\u0445\",\n          \"\\u041a\\u0438\\u0440\\u043a\\u043e\\u0440\\u043e\\u0432\",\n          \"\\u041b\\u0435\\u043f\\u0441\"\n        ],\n        \"semantic_type\": \"\",\n        \"description\": \"\"\n      }\n    },\n    {\n      \"column\": \"track\",\n      \"properties\": {\n        \"dtype\": \"string\",\n        \"num_unique_values\": 5,\n        \"samples\": [\n          \"18 \\u043c\\u043d\\u0435 \\u0443\\u0436\\u0435\",\n          \"\\u0426\\u0432\\u0435\\u0442 \\u043d\\u0430\\u0441\\u0442\\u0440\\u043e\\u0435\\u043d\\u0438\\u044f \\u0447\\u0435\\u0440\\u043d\\u044b\\u0439\",\n          \"London\"\n        ],\n        \"semantic_type\": \"\",\n        \"description\": \"\"\n      }\n    }\n  ]\n}"
            }
          },
          "metadata": {},
          "execution_count": 28
        }
      ],
      "source": [
        "import pandas as pd\n",
        "music = [\n",
        "    ['AC/DC', 'Back and black'],\n",
        "    ['Руки Вверх', '18 мне уже'],\n",
        "    ['Лепс', 'London'],\n",
        "    ['Басков','Чаша золотая'],\n",
        "    ['Киркоров','Цвет настроения черный']\n",
        "]\n",
        "entries=['artist','track']\n",
        "playlist = pd.DataFrame(data=music,columns=entries)\n",
        "playlist"
      ]
    }
  ],
  "metadata": {
    "colab": {
      "provenance": []
    },
    "kernelspec": {
      "display_name": "Python 3 (ipykernel)",
      "language": "python",
      "name": "python3"
    },
    "language_info": {
      "codemirror_mode": {
        "name": "ipython",
        "version": 3
      },
      "file_extension": ".py",
      "mimetype": "text/x-python",
      "name": "python",
      "nbconvert_exporter": "python",
      "pygments_lexer": "ipython3",
      "version": "3.9.12"
    }
  },
  "nbformat": 4,
  "nbformat_minor": 0
}