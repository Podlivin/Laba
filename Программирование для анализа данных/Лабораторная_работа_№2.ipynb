{
  "cells": [
    {
      "cell_type": "markdown",
      "metadata": {
        "id": "kamPfcRPLCaH"
      },
      "source": [
        "## Охота на мусор\n",
        "Процесс подготовки данных для дальнейшего анализа называется предобработка. Заключается она в поиске проблем, которые могут быть в данных, и в решении этих проблем.\n",
        "В информатике работает принцип GIGO (от англ. garbage in — garbage out, буквально «мусор на входе — мусор на выходе»). Это значит, что при ошибках во входных данных даже правильный алгоритм работы выдаёт неверные результаты.\n",
        "Посмотрите на этот срез данных\n",
        "\n",
        "![image.png](attachment:image.png)\n",
        "В столбце genre для одного жанра есть два названия: джаз и jazz. Если принять всё как есть, подсчёт прослушанных джазовых композиций даст два ответа — для жанра джаз и для жанра jazz, которые представляют одну и ту же сущность. Это помешает сделать правильные выводы об интересе пользователей к джазу, и может повлечь неверные решения.\n",
        "Вообще сложности с данными бывают двух видов:\n",
        "\n",
        "•\tданные содержат мусор;\n",
        "\n",
        "•\tданные корректны, но представлены в такой форме, что малопригодны для анализа.\n",
        "\n",
        "В этой теме мы раскроем базовые механизмы борьбы с часто встречаемыми проблемами. Из них самые очевидные, но в то же время самые опасные:\n",
        "\n",
        "• некорректное именование столбцов\n",
        "\n",
        "• дублирование значений\n",
        "\n",
        "• отсутствующие значения (NaN)\n",
        "\n",
        "Механизмы борьбы с ними — основа, с которой вы можете начать своё развитие как специалист по предобработке данных.\n",
        "\n",
        "**Задача**\n",
        "1. Загрузите датасет с данными из Яндекс.Музыка Вызовите метод info(), чтобы просмотреть сводку по всему набору данных.\n",
        "\n"
      ]
    },
    {
      "cell_type": "code",
      "source": [
        "from google.colab import drive\n",
        "drive.mount('/content/drive')"
      ],
      "metadata": {
        "colab": {
          "base_uri": "https://localhost:8080/"
        },
        "id": "Dg6GeaAfLWXa",
        "outputId": "f92bbaae-80c2-4acf-9fc1-0e8a101c2d00"
      },
      "execution_count": null,
      "outputs": [
        {
          "output_type": "stream",
          "name": "stdout",
          "text": [
            "Mounted at /content/drive\n"
          ]
        }
      ]
    },
    {
      "cell_type": "code",
      "execution_count": null,
      "metadata": {
        "colab": {
          "base_uri": "https://localhost:8080/"
        },
        "id": "57DpStKhLCaJ",
        "outputId": "05d95da9-9ce4-4bb0-92fa-d8f33cbcca1a"
      },
      "outputs": [
        {
          "output_type": "stream",
          "name": "stdout",
          "text": [
            "<class 'pandas.core.frame.DataFrame'>\n",
            "RangeIndex: 65079 entries, 0 to 65078\n",
            "Data columns (total 7 columns):\n",
            " #   Column    Non-Null Count  Dtype \n",
            "---  ------    --------------  ----- \n",
            " 0     userID  65079 non-null  object\n",
            " 1   Track     63848 non-null  object\n",
            " 2   artist    57876 non-null  object\n",
            " 3   genre     63881 non-null  object\n",
            " 4     City    65079 non-null  object\n",
            " 5   time      65079 non-null  object\n",
            " 6   Day       65079 non-null  object\n",
            "dtypes: object(7)\n",
            "memory usage: 3.5+ MB\n",
            "None\n"
          ]
        }
      ],
      "source": [
        "import pandas as pd\n",
        "\n",
        "df = pd.read_csv('/content/drive/MyDrive/Учеба/Lab2/yandex_music.csv')\n",
        "print(df.info())"
      ]
    },
    {
      "cell_type": "markdown",
      "metadata": {
        "id": "vsrIG4jsLCaJ"
      },
      "source": [
        "Метод info() возвращает названия столбцов таблицы и сведения о типах данных в ней. Итак, наши проблемы:\n",
        "\n",
        "•\tВ начале названия одного столбца явно есть несколько лишних пробелов. От них нужно избавиться.\n",
        "\n",
        "•\tНазвание из двух слов содержит пробел, который необходимо заменить на символ нижнего подчёркивания.\n",
        "\n",
        "•\tНазвания должны быть на одном языке и набраны в одном регистре, чтобы не заучивать уникальный формат для каждого столбца.\n",
        "\n",
        "•\tКаждый столбец содержит определённый признак — крайне желательно, чтобы название столбца отражало в краткой форме, какая информация в нём содержится.\n",
        "\n",
        "Рассмотрим  таблицу с расстояниями (в миллионах километров) от Земли до небесных тел.\n"
      ]
    },
    {
      "cell_type": "code",
      "execution_count": null,
      "metadata": {
        "colab": {
          "base_uri": "https://localhost:8080/",
          "height": 363
        },
        "id": "qlZArjIzLCaK",
        "outputId": "96b8f83b-6835-431b-f557-e64376090977"
      },
      "outputs": [
        {
          "output_type": "execute_result",
          "data": {
            "text/plain": [
              "  Небесные тела       MIN      MAX\n",
              "0         Солнце   146.00   152.00\n",
              "1           Луна     0.36     0.41\n",
              "2       Меркурий    82.00   217.00\n",
              "3         Венера    38.00   261.00\n",
              "4           Марс    56.00   401.00\n",
              "5         Юпитер   588.00   968.00\n",
              "6         Сатурн  1195.00  1660.00\n",
              "7           Уран  2750.00  3150.00\n",
              "8         Нептун  4300.00  4700.00\n",
              "9  Комета Галлея     6.00  5400.00"
            ],
            "text/html": [
              "\n",
              "  <div id=\"df-73e881f0-27a9-4357-b02b-3ad78a8e0175\" class=\"colab-df-container\">\n",
              "    <div>\n",
              "<style scoped>\n",
              "    .dataframe tbody tr th:only-of-type {\n",
              "        vertical-align: middle;\n",
              "    }\n",
              "\n",
              "    .dataframe tbody tr th {\n",
              "        vertical-align: top;\n",
              "    }\n",
              "\n",
              "    .dataframe thead th {\n",
              "        text-align: right;\n",
              "    }\n",
              "</style>\n",
              "<table border=\"1\" class=\"dataframe\">\n",
              "  <thead>\n",
              "    <tr style=\"text-align: right;\">\n",
              "      <th></th>\n",
              "      <th>Небесные тела</th>\n",
              "      <th>MIN</th>\n",
              "      <th>MAX</th>\n",
              "    </tr>\n",
              "  </thead>\n",
              "  <tbody>\n",
              "    <tr>\n",
              "      <th>0</th>\n",
              "      <td>Солнце</td>\n",
              "      <td>146.00</td>\n",
              "      <td>152.00</td>\n",
              "    </tr>\n",
              "    <tr>\n",
              "      <th>1</th>\n",
              "      <td>Луна</td>\n",
              "      <td>0.36</td>\n",
              "      <td>0.41</td>\n",
              "    </tr>\n",
              "    <tr>\n",
              "      <th>2</th>\n",
              "      <td>Меркурий</td>\n",
              "      <td>82.00</td>\n",
              "      <td>217.00</td>\n",
              "    </tr>\n",
              "    <tr>\n",
              "      <th>3</th>\n",
              "      <td>Венера</td>\n",
              "      <td>38.00</td>\n",
              "      <td>261.00</td>\n",
              "    </tr>\n",
              "    <tr>\n",
              "      <th>4</th>\n",
              "      <td>Марс</td>\n",
              "      <td>56.00</td>\n",
              "      <td>401.00</td>\n",
              "    </tr>\n",
              "    <tr>\n",
              "      <th>5</th>\n",
              "      <td>Юпитер</td>\n",
              "      <td>588.00</td>\n",
              "      <td>968.00</td>\n",
              "    </tr>\n",
              "    <tr>\n",
              "      <th>6</th>\n",
              "      <td>Сатурн</td>\n",
              "      <td>1195.00</td>\n",
              "      <td>1660.00</td>\n",
              "    </tr>\n",
              "    <tr>\n",
              "      <th>7</th>\n",
              "      <td>Уран</td>\n",
              "      <td>2750.00</td>\n",
              "      <td>3150.00</td>\n",
              "    </tr>\n",
              "    <tr>\n",
              "      <th>8</th>\n",
              "      <td>Нептун</td>\n",
              "      <td>4300.00</td>\n",
              "      <td>4700.00</td>\n",
              "    </tr>\n",
              "    <tr>\n",
              "      <th>9</th>\n",
              "      <td>Комета Галлея</td>\n",
              "      <td>6.00</td>\n",
              "      <td>5400.00</td>\n",
              "    </tr>\n",
              "  </tbody>\n",
              "</table>\n",
              "</div>\n",
              "    <div class=\"colab-df-buttons\">\n",
              "\n",
              "  <div class=\"colab-df-container\">\n",
              "    <button class=\"colab-df-convert\" onclick=\"convertToInteractive('df-73e881f0-27a9-4357-b02b-3ad78a8e0175')\"\n",
              "            title=\"Convert this dataframe to an interactive table.\"\n",
              "            style=\"display:none;\">\n",
              "\n",
              "  <svg xmlns=\"http://www.w3.org/2000/svg\" height=\"24px\" viewBox=\"0 -960 960 960\">\n",
              "    <path d=\"M120-120v-720h720v720H120Zm60-500h600v-160H180v160Zm220 220h160v-160H400v160Zm0 220h160v-160H400v160ZM180-400h160v-160H180v160Zm440 0h160v-160H620v160ZM180-180h160v-160H180v160Zm440 0h160v-160H620v160Z\"/>\n",
              "  </svg>\n",
              "    </button>\n",
              "\n",
              "  <style>\n",
              "    .colab-df-container {\n",
              "      display:flex;\n",
              "      gap: 12px;\n",
              "    }\n",
              "\n",
              "    .colab-df-convert {\n",
              "      background-color: #E8F0FE;\n",
              "      border: none;\n",
              "      border-radius: 50%;\n",
              "      cursor: pointer;\n",
              "      display: none;\n",
              "      fill: #1967D2;\n",
              "      height: 32px;\n",
              "      padding: 0 0 0 0;\n",
              "      width: 32px;\n",
              "    }\n",
              "\n",
              "    .colab-df-convert:hover {\n",
              "      background-color: #E2EBFA;\n",
              "      box-shadow: 0px 1px 2px rgba(60, 64, 67, 0.3), 0px 1px 3px 1px rgba(60, 64, 67, 0.15);\n",
              "      fill: #174EA6;\n",
              "    }\n",
              "\n",
              "    .colab-df-buttons div {\n",
              "      margin-bottom: 4px;\n",
              "    }\n",
              "\n",
              "    [theme=dark] .colab-df-convert {\n",
              "      background-color: #3B4455;\n",
              "      fill: #D2E3FC;\n",
              "    }\n",
              "\n",
              "    [theme=dark] .colab-df-convert:hover {\n",
              "      background-color: #434B5C;\n",
              "      box-shadow: 0px 1px 3px 1px rgba(0, 0, 0, 0.15);\n",
              "      filter: drop-shadow(0px 1px 2px rgba(0, 0, 0, 0.3));\n",
              "      fill: #FFFFFF;\n",
              "    }\n",
              "  </style>\n",
              "\n",
              "    <script>\n",
              "      const buttonEl =\n",
              "        document.querySelector('#df-73e881f0-27a9-4357-b02b-3ad78a8e0175 button.colab-df-convert');\n",
              "      buttonEl.style.display =\n",
              "        google.colab.kernel.accessAllowed ? 'block' : 'none';\n",
              "\n",
              "      async function convertToInteractive(key) {\n",
              "        const element = document.querySelector('#df-73e881f0-27a9-4357-b02b-3ad78a8e0175');\n",
              "        const dataTable =\n",
              "          await google.colab.kernel.invokeFunction('convertToInteractive',\n",
              "                                                    [key], {});\n",
              "        if (!dataTable) return;\n",
              "\n",
              "        const docLinkHtml = 'Like what you see? Visit the ' +\n",
              "          '<a target=\"_blank\" href=https://colab.research.google.com/notebooks/data_table.ipynb>data table notebook</a>'\n",
              "          + ' to learn more about interactive tables.';\n",
              "        element.innerHTML = '';\n",
              "        dataTable['output_type'] = 'display_data';\n",
              "        await google.colab.output.renderOutput(dataTable, element);\n",
              "        const docLink = document.createElement('div');\n",
              "        docLink.innerHTML = docLinkHtml;\n",
              "        element.appendChild(docLink);\n",
              "      }\n",
              "    </script>\n",
              "  </div>\n",
              "\n",
              "\n",
              "<div id=\"df-8d4d6771-524b-4da8-a060-c049c5f48d66\">\n",
              "  <button class=\"colab-df-quickchart\" onclick=\"quickchart('df-8d4d6771-524b-4da8-a060-c049c5f48d66')\"\n",
              "            title=\"Suggest charts\"\n",
              "            style=\"display:none;\">\n",
              "\n",
              "<svg xmlns=\"http://www.w3.org/2000/svg\" height=\"24px\"viewBox=\"0 0 24 24\"\n",
              "     width=\"24px\">\n",
              "    <g>\n",
              "        <path d=\"M19 3H5c-1.1 0-2 .9-2 2v14c0 1.1.9 2 2 2h14c1.1 0 2-.9 2-2V5c0-1.1-.9-2-2-2zM9 17H7v-7h2v7zm4 0h-2V7h2v10zm4 0h-2v-4h2v4z\"/>\n",
              "    </g>\n",
              "</svg>\n",
              "  </button>\n",
              "\n",
              "<style>\n",
              "  .colab-df-quickchart {\n",
              "      --bg-color: #E8F0FE;\n",
              "      --fill-color: #1967D2;\n",
              "      --hover-bg-color: #E2EBFA;\n",
              "      --hover-fill-color: #174EA6;\n",
              "      --disabled-fill-color: #AAA;\n",
              "      --disabled-bg-color: #DDD;\n",
              "  }\n",
              "\n",
              "  [theme=dark] .colab-df-quickchart {\n",
              "      --bg-color: #3B4455;\n",
              "      --fill-color: #D2E3FC;\n",
              "      --hover-bg-color: #434B5C;\n",
              "      --hover-fill-color: #FFFFFF;\n",
              "      --disabled-bg-color: #3B4455;\n",
              "      --disabled-fill-color: #666;\n",
              "  }\n",
              "\n",
              "  .colab-df-quickchart {\n",
              "    background-color: var(--bg-color);\n",
              "    border: none;\n",
              "    border-radius: 50%;\n",
              "    cursor: pointer;\n",
              "    display: none;\n",
              "    fill: var(--fill-color);\n",
              "    height: 32px;\n",
              "    padding: 0;\n",
              "    width: 32px;\n",
              "  }\n",
              "\n",
              "  .colab-df-quickchart:hover {\n",
              "    background-color: var(--hover-bg-color);\n",
              "    box-shadow: 0 1px 2px rgba(60, 64, 67, 0.3), 0 1px 3px 1px rgba(60, 64, 67, 0.15);\n",
              "    fill: var(--button-hover-fill-color);\n",
              "  }\n",
              "\n",
              "  .colab-df-quickchart-complete:disabled,\n",
              "  .colab-df-quickchart-complete:disabled:hover {\n",
              "    background-color: var(--disabled-bg-color);\n",
              "    fill: var(--disabled-fill-color);\n",
              "    box-shadow: none;\n",
              "  }\n",
              "\n",
              "  .colab-df-spinner {\n",
              "    border: 2px solid var(--fill-color);\n",
              "    border-color: transparent;\n",
              "    border-bottom-color: var(--fill-color);\n",
              "    animation:\n",
              "      spin 1s steps(1) infinite;\n",
              "  }\n",
              "\n",
              "  @keyframes spin {\n",
              "    0% {\n",
              "      border-color: transparent;\n",
              "      border-bottom-color: var(--fill-color);\n",
              "      border-left-color: var(--fill-color);\n",
              "    }\n",
              "    20% {\n",
              "      border-color: transparent;\n",
              "      border-left-color: var(--fill-color);\n",
              "      border-top-color: var(--fill-color);\n",
              "    }\n",
              "    30% {\n",
              "      border-color: transparent;\n",
              "      border-left-color: var(--fill-color);\n",
              "      border-top-color: var(--fill-color);\n",
              "      border-right-color: var(--fill-color);\n",
              "    }\n",
              "    40% {\n",
              "      border-color: transparent;\n",
              "      border-right-color: var(--fill-color);\n",
              "      border-top-color: var(--fill-color);\n",
              "    }\n",
              "    60% {\n",
              "      border-color: transparent;\n",
              "      border-right-color: var(--fill-color);\n",
              "    }\n",
              "    80% {\n",
              "      border-color: transparent;\n",
              "      border-right-color: var(--fill-color);\n",
              "      border-bottom-color: var(--fill-color);\n",
              "    }\n",
              "    90% {\n",
              "      border-color: transparent;\n",
              "      border-bottom-color: var(--fill-color);\n",
              "    }\n",
              "  }\n",
              "</style>\n",
              "\n",
              "  <script>\n",
              "    async function quickchart(key) {\n",
              "      const quickchartButtonEl =\n",
              "        document.querySelector('#' + key + ' button');\n",
              "      quickchartButtonEl.disabled = true;  // To prevent multiple clicks.\n",
              "      quickchartButtonEl.classList.add('colab-df-spinner');\n",
              "      try {\n",
              "        const charts = await google.colab.kernel.invokeFunction(\n",
              "            'suggestCharts', [key], {});\n",
              "      } catch (error) {\n",
              "        console.error('Error during call to suggestCharts:', error);\n",
              "      }\n",
              "      quickchartButtonEl.classList.remove('colab-df-spinner');\n",
              "      quickchartButtonEl.classList.add('colab-df-quickchart-complete');\n",
              "    }\n",
              "    (() => {\n",
              "      let quickchartButtonEl =\n",
              "        document.querySelector('#df-8d4d6771-524b-4da8-a060-c049c5f48d66 button');\n",
              "      quickchartButtonEl.style.display =\n",
              "        google.colab.kernel.accessAllowed ? 'block' : 'none';\n",
              "    })();\n",
              "  </script>\n",
              "</div>\n",
              "    </div>\n",
              "  </div>\n"
            ],
            "application/vnd.google.colaboratory.intrinsic+json": {
              "type": "dataframe",
              "variable_name": "celestial",
              "summary": "{\n  \"name\": \"celestial\",\n  \"rows\": 10,\n  \"fields\": [\n    {\n      \"column\": \"\\u041d\\u0435\\u0431\\u0435\\u0441\\u043d\\u044b\\u0435 \\u0442\\u0435\\u043b\\u0430 \",\n      \"properties\": {\n        \"dtype\": \"string\",\n        \"num_unique_values\": 10,\n        \"samples\": [\n          \"\\u041d\\u0435\\u043f\\u0442\\u0443\\u043d\",\n          \"\\u041b\\u0443\\u043d\\u0430\",\n          \"\\u042e\\u043f\\u0438\\u0442\\u0435\\u0440\"\n        ],\n        \"semantic_type\": \"\",\n        \"description\": \"\"\n      }\n    },\n    {\n      \"column\": \"MIN\",\n      \"properties\": {\n        \"dtype\": \"number\",\n        \"std\": 1470.671555773076,\n        \"min\": 0.36,\n        \"max\": 4300.0,\n        \"num_unique_values\": 10,\n        \"samples\": [\n          4300.0,\n          0.36,\n          588.0\n        ],\n        \"semantic_type\": \"\",\n        \"description\": \"\"\n      }\n    },\n    {\n      \"column\": \"MAX\",\n      \"properties\": {\n        \"dtype\": \"number\",\n        \"std\": 2015.8104108739437,\n        \"min\": 0.41,\n        \"max\": 5400.0,\n        \"num_unique_values\": 10,\n        \"samples\": [\n          4700.0,\n          0.41,\n          968.0\n        ],\n        \"semantic_type\": \"\",\n        \"description\": \"\"\n      }\n    }\n  ]\n}"
            }
          },
          "metadata": {},
          "execution_count": 5
        }
      ],
      "source": [
        "import pandas as pd\n",
        "measurements = [['Солнце',146,152], # Измерения хранятся в списке списков\n",
        "              ['Луна',0.36, 0.41], # measurements (англ. measurement, «измерение»).\n",
        "              ['Меркурий',82, 217],\n",
        "              ['Венера',38, 261],\n",
        "              ['Марс',56,401],\n",
        "              ['Юпитер',588, 968],\n",
        "              ['Сатурн',1195, 1660],\n",
        "              ['Уран',2750, 3150],\n",
        "              ['Нептун', 4300, 4700],\n",
        "              ['Комета Галлея', 6, 5400]]\n",
        "# Названия столбцов хранятся в переменной header.\n",
        "header = ['Небесные тела ','MIN', 'MAX']\n",
        "# Сохраним структуру данных в переменной celestial (англ. celestial, «небесный»).\n",
        "celestial = pd.DataFrame(data = measurements, columns = header)\n",
        "celestial"
      ]
    },
    {
      "cell_type": "markdown",
      "metadata": {
        "id": "q5veSxCSLCaK"
      },
      "source": [
        "Заметно, что столбцы называются на разных языках. Название Небесные тела содержит опасный пробел в конце, и слова этого названия разделены пробелом.\n",
        "\n",
        "Символы за пределами базовой латиницы — недруги аналитика; от них надо избавляться в первую очередь. Правильно будет переименовать «Небесные тела» в celestial_bodies. MIN и MAX уже написаны латиницей, но эти сокращения мало говорят о том, что за цифры записаны в соответствующих столбцах. Хорошее решение — назвать их min_distance и max_distance. Так сразу понятно, что это минимальные и максимальные расстояния.\n",
        "\n",
        "Чтобы изменить названия столбцов, воспользуйтесь методом set_axis(). Он принимает три аргумента:\n",
        "\n",
        "•\tcписок с новыми названиями столбцов;\n",
        "\n",
        "•\taxis — ось, которой новые названия присваиваются: 'index', если они даются строкам, и 'columns', если это список новых названий столбцов;\n",
        "\n",
        "•\tinplace. Принимает значения True либо False. В первом случае метод set_axis() перестраивает структуру данных так, что она замещает прежнюю в переменной с тем же именем.\n",
        "\n",
        "![image.png](attachment:image.png)\n",
        "\n"
      ]
    },
    {
      "cell_type": "code",
      "execution_count": null,
      "metadata": {
        "colab": {
          "base_uri": "https://localhost:8080/"
        },
        "id": "RXyjhWAZLCaK",
        "outputId": "4ade25da-9ba9-4962-c1c2-2b183817060b"
      },
      "outputs": [
        {
          "output_type": "stream",
          "name": "stdout",
          "text": [
            "  celestial_bodies  min_distance  max_distance\n",
            "0           Солнце        146.00        152.00\n",
            "1             Луна          0.36          0.41\n",
            "2         Меркурий         82.00        217.00\n",
            "3           Венера         38.00        261.00\n",
            "4             Марс         56.00        401.00\n",
            "5           Юпитер        588.00        968.00\n",
            "6           Сатурн       1195.00       1660.00\n",
            "7             Уран       2750.00       3150.00\n",
            "8           Нептун       4300.00       4700.00\n",
            "9    Комета Галлея          6.00       5400.00\n"
          ]
        }
      ],
      "source": [
        "#Заменим названия столбцов таблицы с небесными телами.\n",
        "celestial = celestial.set_axis(['celestial_bodies','min_distance','max_distance'], axis = 'columns')\n",
        "#Проверим результат:\n",
        "\n",
        "print(celestial)\n"
      ]
    },
    {
      "cell_type": "markdown",
      "metadata": {
        "id": "AMo6JaJnLCaL"
      },
      "source": [
        "Готово! Теперь эта таблица годится для анализа. Давайте проверим названия столбцов в данных Яндекс.Музыки.\n",
        "\n",
        "**Задача**   \n",
        "1.\n",
        "Выведите список столбцов.\n",
        "\n",
        "2.\n",
        "Подготовьте список new_names с новыми именами для столбцов.\n",
        "\n",
        "•\tuser_id → user_id\n",
        "\n",
        "•\ttotal play → total_play_seconds\n",
        "\n",
        "•\tArtist → artist_name\n",
        "\n",
        "•\tgenre → genre_name\n",
        "\n",
        "•\ttrack → track_name\n",
        "\n",
        "3.\n",
        "Переименуем столбцы таблицы, которая хранится в переменной df.\n",
        "Вызовите метод set_axis() и передайте ему список new_names, а значением аргумента inplace установите True.\n",
        "\n",
        "4.\n",
        "Проверьте, что получилось, запросив для нашей структуры данных df атрибут columns.\n",
        "\n"
      ]
    },
    {
      "cell_type": "code",
      "execution_count": null,
      "metadata": {
        "colab": {
          "base_uri": "https://localhost:8080/"
        },
        "id": "-TNe6PyqLCaL",
        "outputId": "1f7a2d8f-6357-4187-e43a-3dbd0e104470"
      },
      "outputs": [
        {
          "output_type": "stream",
          "name": "stdout",
          "text": [
            "         userID                              Track            artist  \\\n",
            "0      FFB692EC                  Kamigata To Boots  The Mass Missile   \n",
            "1      55204538        Delayed Because of Accident  Andreas Rönnberg   \n",
            "2        20EC38                  Funiculì funiculà       Mario Lanza   \n",
            "3      A3DD03C9              Dragons in the Sunset        Fire + Ice   \n",
            "4      E2DC1FAE                        Soul People        Space Echo   \n",
            "...         ...                                ...               ...   \n",
            "65074  729CBB09                            My Name            McLean   \n",
            "65075  D08D4A55  Maybe One Day (feat. Black Spade)       Blu & Exile   \n",
            "65076  C5E3A0D5                          Jalopiina               NaN   \n",
            "65077  321D0506                      Freight Train     Chas McDevitt   \n",
            "65078  3A64EF84          Tell Me Sweet Little Lies      Monica Lopez   \n",
            "\n",
            "            genre            City        time        Day  \n",
            "0            rock  Saint-Petersburg  20:28:33  Wednesday  \n",
            "1            rock            Moscow  14:07:09     Friday  \n",
            "2             pop  Saint-Petersburg  20:58:07  Wednesday  \n",
            "3            folk  Saint-Petersburg  08:37:09     Monday  \n",
            "4           dance            Moscow  08:34:34     Monday  \n",
            "...           ...               ...       ...        ...  \n",
            "65074         rnb            Moscow  13:32:28  Wednesday  \n",
            "65075         hip  Saint-Petersburg  10:00:00     Monday  \n",
            "65076  industrial            Moscow  20:09:26     Friday  \n",
            "65077        rock            Moscow  21:43:59     Friday  \n",
            "65078     country            Moscow  21:59:46     Friday  \n",
            "\n",
            "[65079 rows x 7 columns]\n",
            "Текущие имена столбцов: Index(['  userID', 'Track', 'artist', 'genre', '  City  ', 'time', 'Day'], dtype='object')\n",
            "Новые имена столбцов: Index(['user_id', 'track_name', 'artist_name', 'genre_name',\n",
            "       'total_play_seconds', 'time', 'day'],\n",
            "      dtype='object')\n"
          ]
        }
      ],
      "source": [
        "import pandas as pd\n",
        "\n",
        "df = pd.read_csv('/content/drive/MyDrive/Учеба/Lab2/yandex_music.csv')\n",
        "print(df)\n",
        "\n",
        "print(\"Текущие имена столбцов:\", df.columns)\n",
        "\n",
        "new_names = ['user_id', 'track_name', 'artist_name', 'genre_name','total_play_seconds','time','day']\n",
        "\n",
        "if len(new_names) == len(df.columns):\n",
        "    df = df.set_axis(new_names, axis='columns')\n",
        "else:\n",
        "    print(\"Ошибка: количество новых имен не совпадает с количеством столбцов.\")\n",
        "\n",
        "print(\"Новые имена столбцов:\", df.columns)"
      ]
    },
    {
      "cell_type": "markdown",
      "metadata": {
        "id": "4B01Dkm7LCaL"
      },
      "source": [
        "## Обработка пропущенных значений\n",
        "\n",
        "Замены пропущенных значений в DataFrame бывают трёх видов:\n",
        "\n",
        "1) Ожидаемые: None или NaN. None — это эквивалент null в других языках программирования: особое значение, указывающее, что в этой ячейке таблицы никакого значения нет. None относится к NoneType. NaN говорит о том, что в ячейке находится «не число». Основное отличие NaN в том, что его можно использовать в математических операциях, так как по типу это число с плавающей запятой.\n",
        "\n",
        "2) Странные: плейсхолдеры (тексты-заполнители) какого-нибудь общепринятого стандарта, иногда неизвестного вам, но которого придерживаются составители. Чаще всего это n/a, na, NA, и N.N. либо NN.\n",
        "\n",
        "3) Неожиданные: например, разработчики решили, что пустые значения в таблице будут заполняться знаками вопроса или нулями. В лучшем случае этот факт укажут в документации, в худшем – придётся просматривать данные самостоятельно. Если какой-нибудь спецсимвол или число встречаются часто, и этому нет внятного объяснения, то высока вероятность, что так передаются пропущенные значения.\n",
        "\n",
        "Но будьте осторожны: иногда нули — это действительно нули, как в наборе данных Яндекс.Музыкка, где ноль показывает, что трек был пропущен (его слушали 0 секунд).\n"
      ]
    },
    {
      "cell_type": "markdown",
      "metadata": {
        "id": "eR7OFQOWLCaM"
      },
      "source": [
        "Рассмотрим методы борьбы с пропущенными значениями на примере данных ВОЗ о заболеваемости холерой в 2017 году:"
      ]
    },
    {
      "cell_type": "code",
      "execution_count": null,
      "metadata": {
        "id": "y_hIUozGLCaM"
      },
      "outputs": [],
      "source": [
        "cholera=pd.read_csv('/content/drive/MyDrive/Учеба/Lab2/сholera.csv', sep=';')"
      ]
    },
    {
      "cell_type": "code",
      "execution_count": null,
      "metadata": {
        "id": "1ybGFncSLCaM",
        "outputId": "c02a9a58-b75f-42c9-f86c-8c96938d62e4",
        "colab": {
          "base_uri": "https://localhost:8080/"
        }
      },
      "outputs": [
        {
          "output_type": "stream",
          "name": "stdout",
          "text": [
            "     region                   country  total_cases  imported_cases  deaths  \\\n",
            "0      Азия                Афганистан         33.0             0.0     1.0   \n",
            "1      Азия                     Индия        385.0             NaN     3.0   \n",
            "2      Азия                      Иран        634.0           625.0     4.0   \n",
            "3      Азия                     Йемен    1032481.0             0.0  2261.0   \n",
            "4      Азия                     Китай         14.0             NaN     0.0   \n",
            "5      Азия                     Катар          5.0             5.0     0.0   \n",
            "6      Азия                  Малайзия          2.0             0.0     0.0   \n",
            "7      Азия                     Непал          7.0             NaN     0.0   \n",
            "8      Азия                       ОАЭ         12.0            12.0     0.0   \n",
            "9      Азия         Саудовская Аравия          5.0             5.0     0.0   \n",
            "10     Азия                  Сингапур          3.0             3.0     0.0   \n",
            "11     Азия                   Таиланд          8.0             0.0     0.0   \n",
            "12     Азия                 Филиппины        134.0             NaN     2.0   \n",
            "13     Азия               Южная Корея          5.0             5.0     0.0   \n",
            "14     Азия                    Япония          7.0             5.0     0.0   \n",
            "15  Америка                     Гаити      13681.0             0.0   159.0   \n",
            "16  Америка  Доминиканская Республика        122.0             0.0     4.0   \n",
            "17  Америка                    Канада          4.0             3.0     0.0   \n",
            "18  Америка                       США         11.0             9.0     0.0   \n",
            "19   Африка                Все страны     179835.0             NaN  3220.0   \n",
            "20   Европа                Все страны          NaN             NaN     NaN   \n",
            "21  Океания                 Австралия          3.0             3.0     0.0   \n",
            "22      Мир                Все страны    1227391.0           675.0  5654.0   \n",
            "\n",
            "    case_fatality_rate                              notes  \n",
            "0                  3.0                                NaN  \n",
            "1                  0.7                                NaN  \n",
            "2                  0.6                                NaN  \n",
            "3                  0.2                                NaN  \n",
            "4                  0.0                                NaN  \n",
            "5                  0.0                                NaN  \n",
            "6                  0.0                                NaN  \n",
            "7                  0.0                                NaN  \n",
            "8                  0.0                                NaN  \n",
            "9                  0.0                                NaN  \n",
            "10                 0.0                                NaN  \n",
            "11                 0.0                                NaN  \n",
            "12                 1.5                                NaN  \n",
            "13                 0.0                                NaN  \n",
            "14                 0.0                                NaN  \n",
            "15                 1.2                                NaN  \n",
            "16                 3.3                                NaN  \n",
            "17                 0.0                                NaN  \n",
            "18                 0.0                                NaN  \n",
            "19                 1.8  нет информации о завозных случаях  \n",
            "20                 NaN          нет сообщений за 2017 год  \n",
            "21                 0.0                                NaN  \n",
            "22                 0.5                                NaN  \n"
          ]
        }
      ],
      "source": [
        "print(cholera)"
      ]
    },
    {
      "cell_type": "markdown",
      "metadata": {
        "id": "sAFPe-rhLCaM"
      },
      "source": [
        "Для разных регионов (столбец 'region') и стран ('country') указано общее число случаев заболевания холерой\n",
        "('total_cases'), в том числе завозные случаи ('imported_cases') и смертельные ('deaths').\n",
        "\n",
        "Всё это целые числа, поскольку данные приведены с точностью до человека.\n",
        "Источник: Всемирная организация здравоохранения, Weekly Epidemiological Record), 21 September 2018, vol. 93, 38, pp. 489–500.\n",
        "\n",
        "Посчитать в каждом столбце отсутствующие значения можно методом **.isnull()**.\n",
        "Если значение элемента не существует, **.isnull()** возвращает True, а иначе — False.\n",
        "Суммируют эти True вызовом метода **sum()**, который в этом случае возвращает общее число элементов без\n",
        "определённых значений.\n"
      ]
    },
    {
      "cell_type": "code",
      "execution_count": null,
      "metadata": {
        "id": "TvCasKdQLCaN",
        "outputId": "be86acf0-13a9-4740-9813-b5009b79fe48",
        "colab": {
          "base_uri": "https://localhost:8080/"
        }
      },
      "outputs": [
        {
          "output_type": "stream",
          "name": "stdout",
          "text": [
            "region                 0\n",
            "country                0\n",
            "total_cases            1\n",
            "imported_cases         6\n",
            "deaths                 1\n",
            "case_fatality_rate     1\n",
            "notes                 21\n",
            "dtype: int64\n"
          ]
        }
      ],
      "source": [
        "print(cholera.isnull().sum())"
      ]
    },
    {
      "cell_type": "markdown",
      "metadata": {
        "id": "QNYdRj0DLCaN"
      },
      "source": [
        "Также подойдёт метод **isna()**, подсчитывающий пустые значения. В таблице по холере пропущенные значения качественные, так что этот метод отыщет их все."
      ]
    },
    {
      "cell_type": "code",
      "execution_count": null,
      "metadata": {
        "id": "bWXECE64LCaN",
        "outputId": "1621f3eb-0487-4851-9dfd-67428b114af7",
        "colab": {
          "base_uri": "https://localhost:8080/"
        }
      },
      "outputs": [
        {
          "output_type": "stream",
          "name": "stdout",
          "text": [
            "region                 0\n",
            "country                0\n",
            "total_cases            1\n",
            "imported_cases         6\n",
            "deaths                 1\n",
            "case_fatality_rate     1\n",
            "notes                 21\n",
            "dtype: int64\n"
          ]
        }
      ],
      "source": [
        "print(cholera.isna().sum())"
      ]
    },
    {
      "cell_type": "markdown",
      "metadata": {
        "id": "154eNuxHLCaN"
      },
      "source": [
        "Метод борьбы с пропущенными значениями, который вы выберете, должен учитывать интересы решения конечной задачи бизнеса. В целом есть два пути: заполнить пропущенные значения на основе имеющихся данных или удалить все строки с пропущенными значениями."
      ]
    },
    {
      "cell_type": "markdown",
      "metadata": {
        "id": "j6N-boSdLCaN"
      },
      "source": [
        "Бизнес разрывается между двумя решениями: как потратить не слишком много времени и как не упустить данные, которые обычно чего-то стоят.\n",
        "\n",
        "Если сейчас пойти по пути удаления всех строк, где есть пропущенные значения, можно потерять важные данные, например, в Африке было зафиксировано 179835 случаев заболевания, но ни одного завозного случая (это сейчас отмечено NaN). Удалив эту строку, мы потеряем важные данные для статистики.\n",
        "\n",
        "Другая ситуация с Европой. Вся строка состоит из пропущенных значений. Примечание сообщает, что в 2017 году европейцы холерой не болели. Значит, строку можно удалить и это никак не повлияет на результат.\n",
        "Чтобы не лишиться строк с важными данными, заполним значения NaN в столбце **'imported_cases'** нулями.\n",
        "Для этого лучше всего использовать метод **fillna()**, где в качестве аргумента выступает заменитель отсутствующих значений.\n",
        "\n",
        "![image.png](attachment:image.png)\n",
        "\n",
        "\n"
      ]
    },
    {
      "cell_type": "code",
      "execution_count": null,
      "metadata": {
        "id": "KhEdxl1ILCaN",
        "outputId": "ebe65132-131c-4b2e-f44d-bdc846d2338b",
        "colab": {
          "base_uri": "https://localhost:8080/"
        }
      },
      "outputs": [
        {
          "output_type": "stream",
          "name": "stdout",
          "text": [
            "     region                   country  total_cases  imported_cases  deaths  \\\n",
            "0      Азия                Афганистан         33.0             0.0     1.0   \n",
            "1      Азия                     Индия        385.0             0.0     3.0   \n",
            "2      Азия                      Иран        634.0           625.0     4.0   \n",
            "3      Азия                     Йемен    1032481.0             0.0  2261.0   \n",
            "4      Азия                     Китай         14.0             0.0     0.0   \n",
            "5      Азия                     Катар          5.0             5.0     0.0   \n",
            "6      Азия                  Малайзия          2.0             0.0     0.0   \n",
            "7      Азия                     Непал          7.0             0.0     0.0   \n",
            "8      Азия                       ОАЭ         12.0            12.0     0.0   \n",
            "9      Азия         Саудовская Аравия          5.0             5.0     0.0   \n",
            "10     Азия                  Сингапур          3.0             3.0     0.0   \n",
            "11     Азия                   Таиланд          8.0             0.0     0.0   \n",
            "12     Азия                 Филиппины        134.0             0.0     2.0   \n",
            "13     Азия               Южная Корея          5.0             5.0     0.0   \n",
            "14     Азия                    Япония          7.0             5.0     0.0   \n",
            "15  Америка                     Гаити      13681.0             0.0   159.0   \n",
            "16  Америка  Доминиканская Республика        122.0             0.0     4.0   \n",
            "17  Америка                    Канада          4.0             3.0     0.0   \n",
            "18  Америка                       США         11.0             9.0     0.0   \n",
            "19   Африка                Все страны     179835.0             0.0  3220.0   \n",
            "20   Европа                Все страны          NaN             0.0     NaN   \n",
            "21  Океания                 Австралия          3.0             3.0     0.0   \n",
            "22      Мир                Все страны    1227391.0           675.0  5654.0   \n",
            "\n",
            "    case_fatality_rate                              notes  \n",
            "0                  3.0                                NaN  \n",
            "1                  0.7                                NaN  \n",
            "2                  0.6                                NaN  \n",
            "3                  0.2                                NaN  \n",
            "4                  0.0                                NaN  \n",
            "5                  0.0                                NaN  \n",
            "6                  0.0                                NaN  \n",
            "7                  0.0                                NaN  \n",
            "8                  0.0                                NaN  \n",
            "9                  0.0                                NaN  \n",
            "10                 0.0                                NaN  \n",
            "11                 0.0                                NaN  \n",
            "12                 1.5                                NaN  \n",
            "13                 0.0                                NaN  \n",
            "14                 0.0                                NaN  \n",
            "15                 1.2                                NaN  \n",
            "16                 3.3                                NaN  \n",
            "17                 0.0                                NaN  \n",
            "18                 0.0                                NaN  \n",
            "19                 1.8  нет информации о завозных случаях  \n",
            "20                 NaN          нет сообщений за 2017 год  \n",
            "21                 0.0                                NaN  \n",
            "22                 0.5                                NaN  \n"
          ]
        }
      ],
      "source": [
        "cholera['imported_cases']=cholera['imported_cases'].fillna(0)\n",
        "print(cholera)"
      ]
    },
    {
      "cell_type": "markdown",
      "metadata": {
        "id": "wWh_6sw2LCaO"
      },
      "source": [
        "От строк с нулевыми значениями избавляются методом **dropna()**. Он удаляет любую строку, где есть хоть одно отсутствующее значение.\n",
        "\n",
        "У этого метода есть аргументы:\n",
        "\n",
        "1.\t**subset = [ ]**. Его значением указывают названия столбцов, где нужно искать пропуски.\n",
        "\n",
        "2.\tУже знакомый нам **inplace**.\n",
        "\n",
        "![image.png](attachment:image.png)\n"
      ]
    },
    {
      "cell_type": "code",
      "execution_count": null,
      "metadata": {
        "id": "BC-CaaaWLCaO",
        "outputId": "cee6506f-d5a9-49bf-a744-ce052b3ced6e",
        "colab": {
          "base_uri": "https://localhost:8080/"
        }
      },
      "outputs": [
        {
          "output_type": "stream",
          "name": "stdout",
          "text": [
            "     region                   country  total_cases  imported_cases  deaths  \\\n",
            "0      Азия                Афганистан         33.0             0.0     1.0   \n",
            "1      Азия                     Индия        385.0             0.0     3.0   \n",
            "2      Азия                      Иран        634.0           625.0     4.0   \n",
            "3      Азия                     Йемен    1032481.0             0.0  2261.0   \n",
            "4      Азия                     Китай         14.0             0.0     0.0   \n",
            "5      Азия                     Катар          5.0             5.0     0.0   \n",
            "6      Азия                  Малайзия          2.0             0.0     0.0   \n",
            "7      Азия                     Непал          7.0             0.0     0.0   \n",
            "8      Азия                       ОАЭ         12.0            12.0     0.0   \n",
            "9      Азия         Саудовская Аравия          5.0             5.0     0.0   \n",
            "10     Азия                  Сингапур          3.0             3.0     0.0   \n",
            "11     Азия                   Таиланд          8.0             0.0     0.0   \n",
            "12     Азия                 Филиппины        134.0             0.0     2.0   \n",
            "13     Азия               Южная Корея          5.0             5.0     0.0   \n",
            "14     Азия                    Япония          7.0             5.0     0.0   \n",
            "15  Америка                     Гаити      13681.0             0.0   159.0   \n",
            "16  Америка  Доминиканская Республика        122.0             0.0     4.0   \n",
            "17  Америка                    Канада          4.0             3.0     0.0   \n",
            "18  Америка                       США         11.0             9.0     0.0   \n",
            "19   Африка                Все страны     179835.0             0.0  3220.0   \n",
            "21  Океания                 Австралия          3.0             3.0     0.0   \n",
            "22      Мир                Все страны    1227391.0           675.0  5654.0   \n",
            "\n",
            "    case_fatality_rate                              notes  \n",
            "0                  3.0                                NaN  \n",
            "1                  0.7                                NaN  \n",
            "2                  0.6                                NaN  \n",
            "3                  0.2                                NaN  \n",
            "4                  0.0                                NaN  \n",
            "5                  0.0                                NaN  \n",
            "6                  0.0                                NaN  \n",
            "7                  0.0                                NaN  \n",
            "8                  0.0                                NaN  \n",
            "9                  0.0                                NaN  \n",
            "10                 0.0                                NaN  \n",
            "11                 0.0                                NaN  \n",
            "12                 1.5                                NaN  \n",
            "13                 0.0                                NaN  \n",
            "14                 0.0                                NaN  \n",
            "15                 1.2                                NaN  \n",
            "16                 3.3                                NaN  \n",
            "17                 0.0                                NaN  \n",
            "18                 0.0                                NaN  \n",
            "19                 1.8  нет информации о завозных случаях  \n",
            "21                 0.0                                NaN  \n",
            "22                 0.5                                NaN  \n"
          ]
        }
      ],
      "source": [
        "cholera.dropna(subset=['total_cases', 'deaths'], inplace=True)\n",
        "print(cholera)"
      ]
    },
    {
      "cell_type": "markdown",
      "metadata": {
        "id": "Sk-OE_zVLCaO"
      },
      "source": [
        "Теперь удалим правый столбец с пропущенными значениями.\n",
        "\n",
        "Снова вызываем метод **dropna()**. Как и **set_axis()**, он имеет ещё и аргумент **axis**. Если этому аргументу присвоить значение **'columns'**, он удалит любой столбец, где есть хоть один пропуск.\n",
        "\n",
        "![image.png](attachment:image.png)\n"
      ]
    },
    {
      "cell_type": "code",
      "execution_count": null,
      "metadata": {
        "id": "g2m6COL5LCaO",
        "outputId": "be3a314a-f41a-4bd8-d7a6-b32fcab7fa15",
        "colab": {
          "base_uri": "https://localhost:8080/"
        }
      },
      "outputs": [
        {
          "output_type": "stream",
          "name": "stdout",
          "text": [
            "     region                   country  total_cases  imported_cases  deaths  \\\n",
            "0      Азия                Афганистан         33.0             0.0     1.0   \n",
            "1      Азия                     Индия        385.0             0.0     3.0   \n",
            "2      Азия                      Иран        634.0           625.0     4.0   \n",
            "3      Азия                     Йемен    1032481.0             0.0  2261.0   \n",
            "4      Азия                     Китай         14.0             0.0     0.0   \n",
            "5      Азия                     Катар          5.0             5.0     0.0   \n",
            "6      Азия                  Малайзия          2.0             0.0     0.0   \n",
            "7      Азия                     Непал          7.0             0.0     0.0   \n",
            "8      Азия                       ОАЭ         12.0            12.0     0.0   \n",
            "9      Азия         Саудовская Аравия          5.0             5.0     0.0   \n",
            "10     Азия                  Сингапур          3.0             3.0     0.0   \n",
            "11     Азия                   Таиланд          8.0             0.0     0.0   \n",
            "12     Азия                 Филиппины        134.0             0.0     2.0   \n",
            "13     Азия               Южная Корея          5.0             5.0     0.0   \n",
            "14     Азия                    Япония          7.0             5.0     0.0   \n",
            "15  Америка                     Гаити      13681.0             0.0   159.0   \n",
            "16  Америка  Доминиканская Республика        122.0             0.0     4.0   \n",
            "17  Америка                    Канада          4.0             3.0     0.0   \n",
            "18  Америка                       США         11.0             9.0     0.0   \n",
            "19   Африка                Все страны     179835.0             0.0  3220.0   \n",
            "21  Океания                 Австралия          3.0             3.0     0.0   \n",
            "22      Мир                Все страны    1227391.0           675.0  5654.0   \n",
            "\n",
            "    case_fatality_rate  \n",
            "0                  3.0  \n",
            "1                  0.7  \n",
            "2                  0.6  \n",
            "3                  0.2  \n",
            "4                  0.0  \n",
            "5                  0.0  \n",
            "6                  0.0  \n",
            "7                  0.0  \n",
            "8                  0.0  \n",
            "9                  0.0  \n",
            "10                 0.0  \n",
            "11                 0.0  \n",
            "12                 1.5  \n",
            "13                 0.0  \n",
            "14                 0.0  \n",
            "15                 1.2  \n",
            "16                 3.3  \n",
            "17                 0.0  \n",
            "18                 0.0  \n",
            "19                 1.8  \n",
            "21                 0.0  \n",
            "22                 0.5  \n"
          ]
        }
      ],
      "source": [
        "cholera.dropna(axis = 'columns', inplace = True)\n",
        "print(cholera)\n"
      ]
    },
    {
      "cell_type": "markdown",
      "metadata": {
        "id": "W2VQiRIQLCaO"
      },
      "source": [
        "Теперь таблица готова к дальнейшему изучению: ненужные пропуски удалены, но при этом сохранены важные данные.\n",
        "Пропуски в данных появляются разными путями. Например, пользователь не указал о себе какие-нибудь сведения или автоматизированная система сбора информации дала сбой. Иногда пропуски оставляют умышленно, рассчитывая на автозаполнение спецсимволами.\n",
        "\n",
        "\n",
        "Давайте разберёмся с пропущенными значениями в данных для задачи Яндекс.Музыки.\n",
        "\n",
        "# Задача\n",
        "\n",
        "1.Просмотрите информацию о наборе данных: воспользуйтесь методом info().\n",
        "\n",
        "2. Посчитайте количество пропущенных значений и выведите его на экран.\n",
        "\n",
        "3. Для решения поставленной менеджером задачи важно сохранить содержание столбца 'genre_name'. Если по какой-то причине имя исполнителя и название трека оказались упущены, а жанр композиции известен, эту строку надо сберечь.\n",
        "Заполните отсутствующие значения столбца 'track_name' строкой 'unknown'.\n",
        "\n",
        "4. Заполните отсутствующие значения столбца 'artist_name' словом unknown.\n",
        "\n",
        "5. Удалите пропущенные значения из столбца 'genre_name'.\n",
        "\n",
        "6. Проверьте полученный результат. Просмотрите информацию о наборе данных: воспользуйтесь методом info().\n",
        "\n"
      ]
    },
    {
      "cell_type": "code",
      "source": [
        "import pandas as pd\n",
        "\n",
        "df = pd.read_csv('/content/drive/MyDrive/Учеба/Lab2/yandex_music.csv')\n",
        "print(df)\n",
        "\n",
        "print(\"Текущие имена столбцов:\", df.columns)\n",
        "\n",
        "new_names = ['user_id', 'track_name', 'artist_name', 'genre_name','total_play_seconds','time','day']\n",
        "\n",
        "if len(new_names) == len(df.columns):\n",
        "    df = df.set_axis(new_names, axis='columns')\n",
        "else:\n",
        "    print(\"Ошибка: количество новых имен не совпадает с количеством столбцов.\")\n",
        "\n",
        "print(\"Новые имена столбцов:\", df.columns)\n",
        "\n",
        "print(df.info())\n",
        "\n",
        "print('Количество пропущенных значений\\n',df.isnull().sum())\n",
        "\n",
        "df['track_name']=df['track_name'].fillna('unknown')\n",
        "\n",
        "df['artist_name']=df['artist_name'].fillna('unknown')\n",
        "\n",
        "df.dropna(subset=['genre_name'], inplace=True)\n",
        "\n",
        "print('Количество пропущенных значений\\n',df.isnull().sum())\n",
        "print(df.info())\n",
        "print(df)"
      ],
      "metadata": {
        "colab": {
          "base_uri": "https://localhost:8080/"
        },
        "id": "6q8_wOX1f8cf",
        "outputId": "2774e86e-fc30-48ae-de3e-fc9fb47fff7e"
      },
      "execution_count": null,
      "outputs": [
        {
          "output_type": "stream",
          "name": "stdout",
          "text": [
            "         userID                              Track            artist  \\\n",
            "0      FFB692EC                  Kamigata To Boots  The Mass Missile   \n",
            "1      55204538        Delayed Because of Accident  Andreas Rönnberg   \n",
            "2        20EC38                  Funiculì funiculà       Mario Lanza   \n",
            "3      A3DD03C9              Dragons in the Sunset        Fire + Ice   \n",
            "4      E2DC1FAE                        Soul People        Space Echo   \n",
            "...         ...                                ...               ...   \n",
            "65074  729CBB09                            My Name            McLean   \n",
            "65075  D08D4A55  Maybe One Day (feat. Black Spade)       Blu & Exile   \n",
            "65076  C5E3A0D5                          Jalopiina               NaN   \n",
            "65077  321D0506                      Freight Train     Chas McDevitt   \n",
            "65078  3A64EF84          Tell Me Sweet Little Lies      Monica Lopez   \n",
            "\n",
            "            genre            City        time        Day  \n",
            "0            rock  Saint-Petersburg  20:28:33  Wednesday  \n",
            "1            rock            Moscow  14:07:09     Friday  \n",
            "2             pop  Saint-Petersburg  20:58:07  Wednesday  \n",
            "3            folk  Saint-Petersburg  08:37:09     Monday  \n",
            "4           dance            Moscow  08:34:34     Monday  \n",
            "...           ...               ...       ...        ...  \n",
            "65074         rnb            Moscow  13:32:28  Wednesday  \n",
            "65075         hip  Saint-Petersburg  10:00:00     Monday  \n",
            "65076  industrial            Moscow  20:09:26     Friday  \n",
            "65077        rock            Moscow  21:43:59     Friday  \n",
            "65078     country            Moscow  21:59:46     Friday  \n",
            "\n",
            "[65079 rows x 7 columns]\n",
            "Текущие имена столбцов: Index(['  userID', 'Track', 'artist', 'genre', '  City  ', 'time', 'Day'], dtype='object')\n",
            "Новые имена столбцов: Index(['user_id', 'track_name', 'artist_name', 'genre_name',\n",
            "       'total_play_seconds', 'time', 'day'],\n",
            "      dtype='object')\n",
            "<class 'pandas.core.frame.DataFrame'>\n",
            "RangeIndex: 65079 entries, 0 to 65078\n",
            "Data columns (total 7 columns):\n",
            " #   Column              Non-Null Count  Dtype \n",
            "---  ------              --------------  ----- \n",
            " 0   user_id             65079 non-null  object\n",
            " 1   track_name          63848 non-null  object\n",
            " 2   artist_name         57876 non-null  object\n",
            " 3   genre_name          63881 non-null  object\n",
            " 4   total_play_seconds  65079 non-null  object\n",
            " 5   time                65079 non-null  object\n",
            " 6   day                 65079 non-null  object\n",
            "dtypes: object(7)\n",
            "memory usage: 3.5+ MB\n",
            "None\n",
            "Количество пропущенных значений\n",
            " user_id                  0\n",
            "track_name            1231\n",
            "artist_name           7203\n",
            "genre_name            1198\n",
            "total_play_seconds       0\n",
            "time                     0\n",
            "day                      0\n",
            "dtype: int64\n",
            "Количество пропущенных значений\n",
            " user_id               0\n",
            "track_name            0\n",
            "artist_name           0\n",
            "genre_name            0\n",
            "total_play_seconds    0\n",
            "time                  0\n",
            "day                   0\n",
            "dtype: int64\n",
            "<class 'pandas.core.frame.DataFrame'>\n",
            "Index: 63881 entries, 0 to 65078\n",
            "Data columns (total 7 columns):\n",
            " #   Column              Non-Null Count  Dtype \n",
            "---  ------              --------------  ----- \n",
            " 0   user_id             63881 non-null  object\n",
            " 1   track_name          63881 non-null  object\n",
            " 2   artist_name         63881 non-null  object\n",
            " 3   genre_name          63881 non-null  object\n",
            " 4   total_play_seconds  63881 non-null  object\n",
            " 5   time                63881 non-null  object\n",
            " 6   day                 63881 non-null  object\n",
            "dtypes: object(7)\n",
            "memory usage: 3.9+ MB\n",
            "None\n",
            "        user_id                         track_name       artist_name  \\\n",
            "0      FFB692EC                  Kamigata To Boots  The Mass Missile   \n",
            "1      55204538        Delayed Because of Accident  Andreas Rönnberg   \n",
            "2        20EC38                  Funiculì funiculà       Mario Lanza   \n",
            "3      A3DD03C9              Dragons in the Sunset        Fire + Ice   \n",
            "4      E2DC1FAE                        Soul People        Space Echo   \n",
            "...         ...                                ...               ...   \n",
            "65074  729CBB09                            My Name            McLean   \n",
            "65075  D08D4A55  Maybe One Day (feat. Black Spade)       Blu & Exile   \n",
            "65076  C5E3A0D5                          Jalopiina           unknown   \n",
            "65077  321D0506                      Freight Train     Chas McDevitt   \n",
            "65078  3A64EF84          Tell Me Sweet Little Lies      Monica Lopez   \n",
            "\n",
            "       genre_name total_play_seconds      time        day  \n",
            "0            rock   Saint-Petersburg  20:28:33  Wednesday  \n",
            "1            rock             Moscow  14:07:09     Friday  \n",
            "2             pop   Saint-Petersburg  20:58:07  Wednesday  \n",
            "3            folk   Saint-Petersburg  08:37:09     Monday  \n",
            "4           dance             Moscow  08:34:34     Monday  \n",
            "...           ...                ...       ...        ...  \n",
            "65074         rnb             Moscow  13:32:28  Wednesday  \n",
            "65075         hip   Saint-Petersburg  10:00:00     Monday  \n",
            "65076  industrial             Moscow  20:09:26     Friday  \n",
            "65077        rock             Moscow  21:43:59     Friday  \n",
            "65078     country             Moscow  21:59:46     Friday  \n",
            "\n",
            "[63881 rows x 7 columns]\n"
          ]
        }
      ]
    },
    {
      "cell_type": "markdown",
      "metadata": {
        "id": "sceXe6EELCaO"
      },
      "source": [
        "## Обработка дубликатов\n",
        "\n",
        "Когда мы говорим о дубликатах (дублированных записях), то представляем себе две одинаковых строки с идентичной информацией. Действительно, это дубликаты, и мы ещё разберём, как от них избавляться.\n",
        "\n",
        "\n",
        "Но бывают и менее явные дубликаты: скажем, две якобы разные категории публикаций. К примеру, «Политика» и «Политическая ситуация». При агрегировании данных эти две категории будут отражены как разные подмножества набора данных, хотя на самом деле все публикации о политике нужно объединить в одну категорию. При всех возможностях Pandas важно изучать данные глазами и обдумывать их. Иначе вас ожидает масса неприятных сюрпризов.\n",
        "\n",
        "\n",
        "Помимо вредного влияния дубликатов на результат, их наличие затягивает процесс анализа. Большое количество повторов неоправданно раздувает размер таблицы, а значит, увеличивает время обработки данных.\n",
        "Грубые дубликаты — повторы — обнаруживают методом **duplicated()**. Он возвращает **Series** со значением **True** при наличии дубликатов, и **False**, когда их нет.\n",
        "\n",
        "**print(df.duplicated())**\n",
        "\n",
        "Чтобы посчитать количество дубликатов в наборе данных, нужно вызвать метод **sum()**:\n",
        "\n",
        "**print(df.duplicated().sum())**\n",
        "\n",
        "Для удаления дубликатов есть метод **drop_duplicates()**:\n",
        "\n",
        "**df.drop_duplicates(inplace = True)**\n",
        "\n",
        "При вызове метода **drop_duplicates()** вместе с повторяющимися строками удаляются их индексы.\n",
        "\n",
        "Последовательность индексов нарушается: после 0 следует 2 и т.д.\n",
        "\n",
        "Поэтому вызов **drop_duplicates()** соединяют в цепочку с вызовом метода **reset_index()**. Тогда создаётся новый **DataFrame**, где старые индексы превращаются в обычный столбец под названием **index**, а индексы всех строк снова следуют в естественном порядке.\n",
        "Если же мы не хотим создавать новый столбец **index**, то при вызове **reset_index()** передаётся аргумент **drop** со значением **True**. Все индексы переписываются в порядке возрастания, без пропусков.\n",
        "\n",
        "![image.png](attachment:image.png)\n",
        "\n"
      ]
    },
    {
      "cell_type": "markdown",
      "metadata": {
        "id": "0K8NL9fFLCaO"
      },
      "source": [
        "Дубликаты в названиях категорий отследить сложнее, но всё-таки можно. Для просмотра всех уникальных значений в столбце используется метод **unique()**.\n",
        "\n",
        "Рассмотрим таблицу с рейтингом первой ракетки мира.\n",
        "\n",
        "\n",
        "\n"
      ]
    },
    {
      "cell_type": "code",
      "execution_count": null,
      "metadata": {
        "id": "ykghPSj_LCaP",
        "outputId": "344e61c9-d34c-4404-e9e6-4ea58e9a61a0",
        "colab": {
          "base_uri": "https://localhost:8080/"
        }
      },
      "outputs": [
        {
          "output_type": "stream",
          "name": "stdout",
          "text": [
            "          date            name  points\n",
            "0   2018.01.01  Рафаэль Надаль   10645\n",
            "1   2018.01.08  Рафаэль Надаль   10600\n",
            "2   2018.01.29  Рафаэль Надаль    9760\n",
            "3   2018.02.19  Роджер Федерер   10105\n",
            "4   2018.03.05  Роджер Федерер   10060\n",
            "5   2018.03.19  Роджер Федерер    9660\n",
            "6   2018.04.02  Рафаэль Надаль    8770\n",
            "7   2018.06.18   Roger Federer    8920\n",
            "8   2018.06.25  Рафаэль Надаль    8770\n",
            "9   2018.07.16  Рафаэль Надаль    9310\n",
            "10  2018.08.13  Рафаэль Надаль   10220\n",
            "11  2018.08.20  Рафаэль Надаль   10040\n",
            "12  2018.09.10  Рафаэль Надаль    8760\n",
            "13  2018.10.08  Рафаэль Надаль    8260\n",
            "14  2018.10.15  Рафаэль Надаль    7660\n",
            "15  2018.11.05  Новак Джокович    8045\n",
            "16  2018.11.19  Новак Джокович    9045\n"
          ]
        }
      ],
      "source": [
        "rating = ['date','name','points']\n",
        "players = [\n",
        "['2018.01.01',    'Рафаэль Надаль',10645],\n",
        "['2018.01.08',    'Рафаэль Надаль',    10600],\n",
        "['2018.01.29',    'Рафаэль Надаль',    9760],\n",
        "['2018.02.19',    'Роджер Федерер',    10105],\n",
        "['2018.03.05',    'Роджер Федерер',    10060],\n",
        "['2018.03.19',    'Роджер Федерер',    9660],\n",
        "['2018.04.02',    'Рафаэль Надаль',    8770],\n",
        "['2018.06.18',    'Roger Federer',    8920],\n",
        "['2018.06.25',    'Рафаэль Надаль',    8770],\n",
        "['2018.07.16',    'Рафаэль Надаль',    9310],\n",
        "['2018.08.13',    'Рафаэль Надаль',    10220],\n",
        "['2018.08.20',    'Рафаэль Надаль',    10040],\n",
        "['2018.09.10',    'Рафаэль Надаль',    8760],\n",
        "['2018.10.08',    'Рафаэль Надаль',    8260],\n",
        "['2018.10.15',    'Рафаэль Надаль',    7660],\n",
        "['2018.11.05',    'Новак Джокович',    8045],\n",
        "['2018.11.19',    'Новак Джокович',    9045]\n",
        "]\n",
        "tennis = pd.DataFrame(data = players, columns= rating)\n",
        "print(tennis)\n"
      ]
    },
    {
      "cell_type": "markdown",
      "metadata": {
        "id": "NCJ8fiyWLCaP"
      },
      "source": [
        "В 2018 году рейтинг первой ракетки мира по версии ATP обновлялся 17 раз. Но спортсменов с самым большим в мире профессионального тенниса рейтингом гораздо меньше. Если применить ко второму столбцу метод **unique()**, возвращаются только три имени."
      ]
    },
    {
      "cell_type": "code",
      "execution_count": null,
      "metadata": {
        "id": "wN4zN6Y-LCaP",
        "outputId": "84e5bde9-a92f-478a-c0c9-e93d0edc026e",
        "colab": {
          "base_uri": "https://localhost:8080/"
        }
      },
      "outputs": [
        {
          "output_type": "stream",
          "name": "stdout",
          "text": [
            "['Рафаэль Надаль' 'Роджер Федерер' 'Новак Джокович']\n"
          ]
        }
      ],
      "source": [
        "print(tennis['name'].unique())"
      ]
    },
    {
      "cell_type": "markdown",
      "metadata": {
        "id": "GKl7ed0uLCaP"
      },
      "source": [
        "Кроме имени Роджера Федерера на русском языке, вернулось его же имя латиницей. Это тоже дубликат. Нужно заменить этот артефакт правильным именем на русском языке.\n",
        "Такие задачи решает метод **replace()**, где первый аргумент — текущее значение, а второй — новое, нужное.\n"
      ]
    },
    {
      "cell_type": "code",
      "execution_count": null,
      "metadata": {
        "id": "SrkTwf1gLCaP",
        "outputId": "c219829a-12d9-4ef1-c86c-78c770b2ada4",
        "colab": {
          "base_uri": "https://localhost:8080/"
        }
      },
      "outputs": [
        {
          "output_type": "stream",
          "name": "stdout",
          "text": [
            "0     Рафаэль Надаль\n",
            "1     Рафаэль Надаль\n",
            "2     Рафаэль Надаль\n",
            "3     Роджер Федерер\n",
            "4     Роджер Федерер\n",
            "5     Роджер Федерер\n",
            "6     Рафаэль Надаль\n",
            "7     Роджер Федерер\n",
            "8     Рафаэль Надаль\n",
            "9     Рафаэль Надаль\n",
            "10    Рафаэль Надаль\n",
            "11    Рафаэль Надаль\n",
            "12    Рафаэль Надаль\n",
            "13    Рафаэль Надаль\n",
            "14    Рафаэль Надаль\n",
            "15    Новак Джокович\n",
            "16    Новак Джокович\n",
            "Name: name, dtype: object\n"
          ]
        }
      ],
      "source": [
        "tennis['name'] = tennis['name'].replace('Roger Federer', 'Роджер Федерер')\n",
        "print(tennis['name'])"
      ]
    },
    {
      "cell_type": "markdown",
      "metadata": {
        "id": "JdkQhAMzLCaP"
      },
      "source": [
        "Теперь всё хорошо. Настало время разобраться с дубликатами в таблице данных Яндекс.Музыки.\n",
        "# Задача  \n",
        "\n",
        "1.Сохраните текущий размер таблицы в переменной shape_table.\n",
        "\n",
        "2. Посчитайте и выведите на экран суммарное количество дубликатов в таблице.\n",
        "\n",
        "3. Удалите дубликаты. Используйте метод reset_index() для сохранения порядка индексов.\n",
        "\n",
        "4. Сохраните в переменную shape_table_update размер таблицы после удаления дубликатов.\n",
        "\n",
        "5. Сравните переменные shape_table и shape_table_update. Если они равны, выведите сообщение 'Размер таблицы не изменился, текущий размер: ' и значение переменной shape_table_update.\n",
        "\n",
        "6. Получите уникальные значения столбца 'genre_name', используйте метод unique(). Просмотрите результат и найдите название жанра, которое выпадает из общего ряда.\n",
        "\n",
        "7. В столбце 'genre_name' замените значение 'электроника' на 'electronic' .\n",
        "\n",
        "8. Оцените изменения: пересчитайте количество значений 'электроника' в столбце 'genre_name'. Если удалось всё заменить, результат должен быть равен 0. Сохраните этот результат в переменной genre_final_count, выведите на экран.\n",
        "\n"
      ]
    },
    {
      "cell_type": "code",
      "execution_count": null,
      "metadata": {
        "id": "OOO7-A0iLCaQ",
        "colab": {
          "base_uri": "https://localhost:8080/"
        },
        "outputId": "32c519a0-018d-472b-e42e-687ef16e4386"
      },
      "outputs": [
        {
          "output_type": "stream",
          "name": "stdout",
          "text": [
            "Размер таблицы: (63881, 7)\n",
            "Количество дубликатов: 3755\n",
            "Размер изменился, текущий размер: (60126, 8)\n",
            "['rock' 'pop' 'folk' 'dance' 'rusrap' 'ruspop' 'world' 'electronic'\n",
            " 'alternative' 'children' 'rnb' 'hip' 'jazz' 'postrock' 'latin'\n",
            " 'classical' 'metal' 'reggae' 'tatar' 'blues' 'instrumental' 'rusrock'\n",
            " 'dnb' 'türk' 'post' 'country' 'psychedelic' 'conjazz' 'indie'\n",
            " 'posthardcore' 'local' 'avantgarde' 'punk' 'videogame' 'techno' 'house'\n",
            " 'christmas' 'melodic' 'caucasian' 'reggaeton' 'soundtrack' 'singer' 'ska'\n",
            " 'shanson' 'ambient' 'film' 'western' 'rap' 'beats' \"hard'n'heavy\"\n",
            " 'progmetal' 'minimal' 'contemporary' 'new' 'soul' 'holiday' 'german'\n",
            " 'tropical' 'fairytail' 'spiritual' 'urban' 'gospel' 'nujazz' 'folkmetal'\n",
            " 'trance' 'miscellaneous' 'anime' 'hardcore' 'progressive' 'chanson'\n",
            " 'numetal' 'vocal' 'estrada' 'russian' 'classicmetal' 'dubstep' 'club'\n",
            " 'deep' 'southern' 'black' 'folkrock' 'fitness' 'french' 'disco'\n",
            " 'religious' 'hiphop' 'drum' 'extrememetal' 'türkçe' 'experimental' 'easy'\n",
            " 'metalcore' 'modern' 'argentinetango' 'old' 'breaks' 'eurofolk'\n",
            " 'stonerrock' 'industrial' 'funk' 'jpop' 'middle' 'variété' 'other'\n",
            " 'adult' 'christian' 'gothic' 'international' 'muslim' 'relax' 'schlager'\n",
            " 'caribbean' 'ukrrock' 'nu' 'breakbeat' 'comedy' 'chill' 'newage'\n",
            " 'specialty' 'uzbek' 'k-pop' 'balkan' 'chinese' 'meditative' 'dub' 'power'\n",
            " 'death' 'grime' 'arabesk' 'romance' 'flamenco' 'leftfield' 'european'\n",
            " 'tech' 'newwave' 'dancehall' 'mpb' 'piano' 'top' 'bigroom' 'opera'\n",
            " 'celtic' 'tradjazz' 'acoustic' 'epicmetal' 'hip-hop' 'historisch'\n",
            " 'downbeat' 'downtempo' 'africa' 'audiobook' 'jewish' 'sängerportrait'\n",
            " 'deutschrock' 'eastern' 'action' 'future' 'electropop' 'folklore'\n",
            " 'bollywood' 'marschmusik' 'rnr' 'karaoke' 'indian' 'rancheras'\n",
            " 'электроника' 'afrikaans' 'tango' 'rhythm' 'sound' 'deutschspr' 'trip'\n",
            " 'lovers' 'choral' 'dancepop' 'podcasts' 'retro' 'smooth' 'mexican'\n",
            " 'brazilian' 'ïîï' 'mood' 'surf' 'author' 'gangsta' 'triphop'\n",
            " 'inspirational' 'idm' 'ethnic' 'bluegrass' 'broadway' 'animated'\n",
            " 'americana' 'karadeniz' 'rockabilly' 'colombian' 'self' 'hop' 'synthrock'\n",
            " 'sertanejo' 'japanese' 'canzone' 'swing' 'lounge' 'sport' 'korean'\n",
            " 'ragga' 'traditional' 'gitarre' 'frankreich' 'alternativepunk' 'emo'\n",
            " 'laiko' 'cantopop' 'glitch' 'documentary' 'rockalternative' 'thrash'\n",
            " 'hymn' 'oceania' 'rockother' 'popeurodance' 'dark' 'vi' 'grunge'\n",
            " 'hardstyle' 'samba' 'garage' 'soft' 'art' 'folktronica' 'entehno'\n",
            " 'mediterranean' 'chamber' 'cuban' 'taraftar' 'rockindie' 'gypsy'\n",
            " 'hardtechno' 'shoegazing' 'skarock' 'bossa' 'salsa' 'latino' 'worldbeat'\n",
            " 'malaysian' 'baile' 'ghazal' 'loungeelectronic' 'arabic' 'popelectronic'\n",
            " 'acid' 'kayokyoku' 'neoklassik' 'tribal' 'tanzorchester' 'native'\n",
            " 'independent' 'cantautori' 'handsup' 'poprussian' 'punjabi' 'synthpop'\n",
            " 'rave' 'französisch' 'quebecois' 'speech' 'soulful' 'teen' 'jam' 'ram'\n",
            " 'horror' 'scenic' 'orchestral' 'neue' 'roots' 'slow' 'jungle' 'indipop'\n",
            " 'axé' 'fado' 'showtunes' 'arena' 'irish' 'mandopop' 'forró' 'popdance'\n",
            " 'dirty' 'regional']\n",
            "0              rock\n",
            "1              rock\n",
            "2               pop\n",
            "3              folk\n",
            "4             dance\n",
            "            ...    \n",
            "60121           rnb\n",
            "60122           hip\n",
            "60123    industrial\n",
            "60124          rock\n",
            "60125       country\n",
            "Name: genre_name, Length: 60126, dtype: object\n",
            "0\n"
          ]
        }
      ],
      "source": [
        "shape_table = df.shape\n",
        "print('Размер таблицы:', shape_table)\n",
        "\n",
        "print('Количество дубликатов:',df.duplicated().sum())\n",
        "\n",
        "df.drop_duplicates(inplace = True)\n",
        "df.reset_index(inplace=True)\n",
        "\n",
        "shape_table_update = df.shape\n",
        "\n",
        "if shape_table_update == shape_table:\n",
        "  print('Размер таблицы не изменился, текущий размер:',shape_table_update)\n",
        "else:\n",
        "  print('Размер изменился, текущий размер:',shape_table_update)\n",
        "\n",
        "print(df['genre_name'].unique())\n",
        "\n",
        "df['genre_name'] = df['genre_name'].replace('электроника', 'electronic')\n",
        "print(df['genre_name'])\n",
        "\n",
        "genre_final_count = df['genre_name'].get('electronic',0)\n",
        "print(genre_final_count)"
      ]
    }
  ],
  "metadata": {
    "kernelspec": {
      "display_name": "Python 3 (ipykernel)",
      "language": "python",
      "name": "python3"
    },
    "language_info": {
      "codemirror_mode": {
        "name": "ipython",
        "version": 3
      },
      "file_extension": ".py",
      "mimetype": "text/x-python",
      "name": "python",
      "nbconvert_exporter": "python",
      "pygments_lexer": "ipython3",
      "version": "3.9.12"
    },
    "colab": {
      "provenance": []
    }
  },
  "nbformat": 4,
  "nbformat_minor": 0
}