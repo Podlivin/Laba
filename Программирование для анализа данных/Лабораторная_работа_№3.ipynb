{
  "cells": [
    {
      "cell_type": "markdown",
      "metadata": {
        "id": "4-9t5a11pUN9"
      },
      "source": [
        "Итак, перед тем, как браться за статистику, нужно:\n",
        "\n",
        "**1. Прочесть исходный файл и превратить его в структуру данных**\n",
        "\n",
        "К заданию прилагается файл в формате csv, где все значения разделены запятыми. Это наши исходные данные. Чтобы применить к ним все возможности языка Python и библиотеки Pandas, надо импортировать эту библиотеку и сохранить её в переменной. По сокращённому названию панельных данных (panel data), с которых начиналась Pandas, эту переменную принято называть pd:\n",
        "\n",
        "**import pandas as pd**\n",
        "\n",
        "Для чтения csv-файла в библиотеке Pandas есть готовая функция — метод **read_csv()**. Как и все методы, он вызывается записью через точку после имени своего объекта. В скобках указывается аргумент (параметр) метода. У read_csv() это имя файла с данными. Прочтение превращает файл в структуру данных DataFrame. Имя переменной, в которой эта структура данных сохраняется, чаще всего df либо отражает тематику данных:\n",
        "\n",
        "**df = pd.read_csv('music_log.csv')**\n",
        "\n",
        "**2. Посмотреть на данные**\n",
        "\n",
        "Вывести на экран таблицу и оценить данные:\n",
        "\n",
        "print(df)\n",
        "Как правило, таблица очень велика. Практичнее запросить определённое количество первых строк, методом head().\n",
        "\n",
        "**3. Оценить качество предподготовки**\n",
        "\n",
        "Нужно убедиться в том, что данные прошли предподготовку. По крайней мере, не должно быть пропусков и повторов. Пропущенные и неопределённые значения выявляет метод **isna()**, а суммарное количество таких значений — метод **sum()**.\n",
        "\n",
        "**print(df.isna().sum())**\n",
        "\n",
        "\n",
        "Повторяющиеся строки — дубликаты — выявляются методом **duplicated()** и подсчитываются тем же sum():\n",
        "\n",
        "**print(df.duplicated().sum())**\n",
        "Если возвращаются нули, всё хорошо — данные пригодны для исследования.\n"
      ]
    },
    {
      "cell_type": "markdown",
      "metadata": {
        "id": "zbtG5hRjpUN-"
      },
      "source": [
        "## Задача\n",
        "\n",
        "1. Загрузите таблицу **exoplanet_catalog**, содержащую данные о планетах за пределами Солнечной системы, или экзопланетах. Сформируйте из данной таблицы новый датасет под назанием **exoplanet**, коорая будет содердать стоблцы name, mass, radius, discovered. Проверьте, чтобы название всех столбцов было корректным, при необходмости измените названия.\n",
        "\n",
        "2. Удалите из получившейся таблица строки с нулевыми значениями.\n",
        "\n",
        "3. Убедитесь, что таблица не содержит ни пропущенных значений, ни дубликатов."
      ]
    },
    {
      "cell_type": "code",
      "execution_count": null,
      "metadata": {
        "id": "yzpQSSuOpUN_",
        "colab": {
          "base_uri": "https://localhost:8080/"
        },
        "outputId": "e593505f-09d5-4f51-8944-aa17e4e18fb1"
      },
      "outputs": [
        {
          "output_type": "stream",
          "name": "stdout",
          "text": [
            "      index  name   mass  radius  discovered\n",
            "0         0   0.0   0.00    0.00      2008.0\n",
            "1         1   0.0  21.00    0.00      2007.0\n",
            "2         2   0.0   0.00    0.00      2009.0\n",
            "3         4   0.0   0.00    0.00      2002.0\n",
            "4         5   0.0   5.80    0.00      2006.0\n",
            "...     ...   ...    ...     ...         ...\n",
            "2500   4785   0.0   5.84    1.06      1996.0\n",
            "2501   4791   0.0   0.62    0.00      1996.0\n",
            "2502   4792   0.0   9.10    0.00      1999.0\n",
            "2503   4793   0.0  23.58    0.00      1999.0\n",
            "2504   4795   0.0  40.00    0.00      2014.0\n",
            "\n",
            "[2505 rows x 5 columns]\n",
            "Количество пропущенных значений\n",
            " index         0\n",
            "name          0\n",
            "mass          0\n",
            "radius        0\n",
            "discovered    0\n",
            "dtype: int64\n",
            "Количество дубликатов: 0\n"
          ]
        }
      ],
      "source": [
        "import pandas as pd\n",
        "\n",
        "df = pd.read_csv('/content/drive/MyDrive/Учеба/Lab3/exoplanet_catalog.csv')\n",
        "stolb = ['name','mass','radius','discovered']\n",
        "exoplanet = pd.DataFrame(data = df, columns= stolb)\n",
        "exoplanet\n",
        "\n",
        "exoplanet['name']=exoplanet['name'].fillna(0)\n",
        "exoplanet['mass']=exoplanet['mass'].fillna(0)\n",
        "exoplanet['radius']=exoplanet['radius'].fillna(0)\n",
        "exoplanet['discovered']=exoplanet['discovered'].fillna(0)\n",
        "\n",
        "exoplanet.drop_duplicates(inplace=True)\n",
        "exoplanet.reset_index(inplace=True)\n",
        "print(exoplanet)\n",
        "\n",
        "print('Количество пропущенных значений\\n',exoplanet.isnull().sum())\n",
        "print('Количество дубликатов:',exoplanet.duplicated().sum())"
      ]
    },
    {
      "cell_type": "code",
      "source": [
        "from google.colab import drive\n",
        "drive.mount('/content/drive')"
      ],
      "metadata": {
        "colab": {
          "base_uri": "https://localhost:8080/"
        },
        "id": "HSyEC5t5qOIJ",
        "outputId": "1ffb4443-02e8-4ecb-bcec-784af5a5a9c9"
      },
      "execution_count": null,
      "outputs": [
        {
          "output_type": "stream",
          "name": "stdout",
          "text": [
            "Mounted at /content/drive\n"
          ]
        }
      ]
    },
    {
      "cell_type": "markdown",
      "metadata": {
        "id": "0XZQcypLpUN_"
      },
      "source": [
        "# Группировка данных\n",
        "\n",
        "Слово «анализ» означает разбор, рассмотрение с разных сторон. Анализ данных начинают с разделения их на группы по какому-нибудь признаку. Эта операция называется группировка данных. Она помогает изучить материал более подробно, чтобы затем перейти к поиску взаимосвязей между отдельными группами.\n",
        "\n",
        "\n",
        "Группировка оправданна, если данные чётко делятся по значимому признаку, а полученные группы близки к теме задачи. Например, когда есть данные обо всех покупках в супермаркете, можно смело заниматься группировкой. Так можно установить время наплыва покупателей и решить проблему пиковых нагрузок. Или посчитать средний чек — обычно для магазинов это ключевая метрика.\n",
        "\n",
        "\n",
        "Стадии группировки хорошо укладываются в словесную формулу **split-apply-combine**:\n",
        "\n",
        "•\tразделить, **split** — разбиение на группы по определённому критерию;\n",
        "\n",
        "•\tприменить, **apply** — применение какого-либо метода к каждой группе в отдельности, например, подсчёт численности группы методом count() или суммирование вызовом sum();\n",
        "\n",
        "•\tобъединить, **combine** — сведение результатов в новую структуру данных, в зависимости от условий разделения и выполнения метода это бывает DataFrame и Series.\n",
        "\n",
        "В библиотеке Pandas есть отличные инструменты группировки. Рассмотрим обращение с ними на примере анализа данных о планетах за пределами Солнечной системы, или экзопланетах. Орбитальные обсерватории засекли уже тысячи таких небесных тел. Их выявляют на снимках космических телескопов наши коллеги, аналитики данных. Поищем среди экзопланет похожие на Землю. Возможно, это наши будущие колонии, или там уже обитают разумные существа, с которыми однажды предстоит установить контакт.\n",
        "\n",
        "DataFrame с данными по нескольким тысячам экзопланет сохранён в переменной **exoplanet**. Посмотрим на первые 30 строк таблицы:\n"
      ]
    },
    {
      "cell_type": "code",
      "execution_count": null,
      "metadata": {
        "id": "rx9WmvOfpUOA",
        "colab": {
          "base_uri": "https://localhost:8080/",
          "height": 990
        },
        "outputId": "94b3b749-bee4-4eb3-8273-b68c30401782"
      },
      "outputs": [
        {
          "output_type": "execute_result",
          "data": {
            "text/plain": [
              "    index  name   mass    radius  discovered\n",
              "0       0   0.0   0.00  0.000000      2008.0\n",
              "1       1   0.0  21.00  0.000000      2007.0\n",
              "2       2   0.0   0.00  0.000000      2009.0\n",
              "3       4   0.0   0.00  0.000000      2002.0\n",
              "4       5   0.0   5.80  0.000000      2006.0\n",
              "5       6   0.0   0.00  0.000000      1996.0\n",
              "6       7   0.0   0.00  0.000000      2020.0\n",
              "7       9   0.0   0.00  0.000002      2017.0\n",
              "8      10   0.0  14.00  1.700000      2008.0\n",
              "9      11   0.0  32.00  0.000000      2012.0\n",
              "10     12   0.0   0.00  0.000000      2012.0\n",
              "11     13   0.0   0.00  0.000000      2018.0\n",
              "12     14   0.0   0.00  0.000000      2010.0\n",
              "13     16   0.0   0.00  0.000062      2019.0\n",
              "14     17   0.0  13.00  0.000000      2013.0\n",
              "15     18   0.0  20.00  1.000000      2013.0\n",
              "16     19   0.0  13.90  1.440000      2015.0\n",
              "17     20   0.0   7.50  0.000000      2010.0\n",
              "18     21   0.0   1.90  0.000000      2015.0\n",
              "19     22   0.0  20.00  0.920000      2010.0\n",
              "20     23   0.0  30.00  1.300000      2010.0\n",
              "21     24   0.0  12.50  0.000000      2016.0\n",
              "22     25   0.0  13.30  0.000000      2016.0\n",
              "23     26   0.0  25.00  0.000000      2019.0\n",
              "24     27   0.0  16.40  0.000000      2019.0\n",
              "25     28   0.0   0.00  0.000000      2013.0\n",
              "26     30   0.0  66.95  0.000000      2020.0\n",
              "27     31   0.0  60.00  0.000000      2004.0\n",
              "28     32   0.0   5.00  0.000000      2004.0\n",
              "29     33   0.0  40.00  1.570000      2020.0"
            ],
            "text/html": [
              "\n",
              "  <div id=\"df-0276c3e8-db71-4f29-afdc-02bcec287685\" class=\"colab-df-container\">\n",
              "    <div>\n",
              "<style scoped>\n",
              "    .dataframe tbody tr th:only-of-type {\n",
              "        vertical-align: middle;\n",
              "    }\n",
              "\n",
              "    .dataframe tbody tr th {\n",
              "        vertical-align: top;\n",
              "    }\n",
              "\n",
              "    .dataframe thead th {\n",
              "        text-align: right;\n",
              "    }\n",
              "</style>\n",
              "<table border=\"1\" class=\"dataframe\">\n",
              "  <thead>\n",
              "    <tr style=\"text-align: right;\">\n",
              "      <th></th>\n",
              "      <th>index</th>\n",
              "      <th>name</th>\n",
              "      <th>mass</th>\n",
              "      <th>radius</th>\n",
              "      <th>discovered</th>\n",
              "    </tr>\n",
              "  </thead>\n",
              "  <tbody>\n",
              "    <tr>\n",
              "      <th>0</th>\n",
              "      <td>0</td>\n",
              "      <td>0.0</td>\n",
              "      <td>0.00</td>\n",
              "      <td>0.000000</td>\n",
              "      <td>2008.0</td>\n",
              "    </tr>\n",
              "    <tr>\n",
              "      <th>1</th>\n",
              "      <td>1</td>\n",
              "      <td>0.0</td>\n",
              "      <td>21.00</td>\n",
              "      <td>0.000000</td>\n",
              "      <td>2007.0</td>\n",
              "    </tr>\n",
              "    <tr>\n",
              "      <th>2</th>\n",
              "      <td>2</td>\n",
              "      <td>0.0</td>\n",
              "      <td>0.00</td>\n",
              "      <td>0.000000</td>\n",
              "      <td>2009.0</td>\n",
              "    </tr>\n",
              "    <tr>\n",
              "      <th>3</th>\n",
              "      <td>4</td>\n",
              "      <td>0.0</td>\n",
              "      <td>0.00</td>\n",
              "      <td>0.000000</td>\n",
              "      <td>2002.0</td>\n",
              "    </tr>\n",
              "    <tr>\n",
              "      <th>4</th>\n",
              "      <td>5</td>\n",
              "      <td>0.0</td>\n",
              "      <td>5.80</td>\n",
              "      <td>0.000000</td>\n",
              "      <td>2006.0</td>\n",
              "    </tr>\n",
              "    <tr>\n",
              "      <th>5</th>\n",
              "      <td>6</td>\n",
              "      <td>0.0</td>\n",
              "      <td>0.00</td>\n",
              "      <td>0.000000</td>\n",
              "      <td>1996.0</td>\n",
              "    </tr>\n",
              "    <tr>\n",
              "      <th>6</th>\n",
              "      <td>7</td>\n",
              "      <td>0.0</td>\n",
              "      <td>0.00</td>\n",
              "      <td>0.000000</td>\n",
              "      <td>2020.0</td>\n",
              "    </tr>\n",
              "    <tr>\n",
              "      <th>7</th>\n",
              "      <td>9</td>\n",
              "      <td>0.0</td>\n",
              "      <td>0.00</td>\n",
              "      <td>0.000002</td>\n",
              "      <td>2017.0</td>\n",
              "    </tr>\n",
              "    <tr>\n",
              "      <th>8</th>\n",
              "      <td>10</td>\n",
              "      <td>0.0</td>\n",
              "      <td>14.00</td>\n",
              "      <td>1.700000</td>\n",
              "      <td>2008.0</td>\n",
              "    </tr>\n",
              "    <tr>\n",
              "      <th>9</th>\n",
              "      <td>11</td>\n",
              "      <td>0.0</td>\n",
              "      <td>32.00</td>\n",
              "      <td>0.000000</td>\n",
              "      <td>2012.0</td>\n",
              "    </tr>\n",
              "    <tr>\n",
              "      <th>10</th>\n",
              "      <td>12</td>\n",
              "      <td>0.0</td>\n",
              "      <td>0.00</td>\n",
              "      <td>0.000000</td>\n",
              "      <td>2012.0</td>\n",
              "    </tr>\n",
              "    <tr>\n",
              "      <th>11</th>\n",
              "      <td>13</td>\n",
              "      <td>0.0</td>\n",
              "      <td>0.00</td>\n",
              "      <td>0.000000</td>\n",
              "      <td>2018.0</td>\n",
              "    </tr>\n",
              "    <tr>\n",
              "      <th>12</th>\n",
              "      <td>14</td>\n",
              "      <td>0.0</td>\n",
              "      <td>0.00</td>\n",
              "      <td>0.000000</td>\n",
              "      <td>2010.0</td>\n",
              "    </tr>\n",
              "    <tr>\n",
              "      <th>13</th>\n",
              "      <td>16</td>\n",
              "      <td>0.0</td>\n",
              "      <td>0.00</td>\n",
              "      <td>0.000062</td>\n",
              "      <td>2019.0</td>\n",
              "    </tr>\n",
              "    <tr>\n",
              "      <th>14</th>\n",
              "      <td>17</td>\n",
              "      <td>0.0</td>\n",
              "      <td>13.00</td>\n",
              "      <td>0.000000</td>\n",
              "      <td>2013.0</td>\n",
              "    </tr>\n",
              "    <tr>\n",
              "      <th>15</th>\n",
              "      <td>18</td>\n",
              "      <td>0.0</td>\n",
              "      <td>20.00</td>\n",
              "      <td>1.000000</td>\n",
              "      <td>2013.0</td>\n",
              "    </tr>\n",
              "    <tr>\n",
              "      <th>16</th>\n",
              "      <td>19</td>\n",
              "      <td>0.0</td>\n",
              "      <td>13.90</td>\n",
              "      <td>1.440000</td>\n",
              "      <td>2015.0</td>\n",
              "    </tr>\n",
              "    <tr>\n",
              "      <th>17</th>\n",
              "      <td>20</td>\n",
              "      <td>0.0</td>\n",
              "      <td>7.50</td>\n",
              "      <td>0.000000</td>\n",
              "      <td>2010.0</td>\n",
              "    </tr>\n",
              "    <tr>\n",
              "      <th>18</th>\n",
              "      <td>21</td>\n",
              "      <td>0.0</td>\n",
              "      <td>1.90</td>\n",
              "      <td>0.000000</td>\n",
              "      <td>2015.0</td>\n",
              "    </tr>\n",
              "    <tr>\n",
              "      <th>19</th>\n",
              "      <td>22</td>\n",
              "      <td>0.0</td>\n",
              "      <td>20.00</td>\n",
              "      <td>0.920000</td>\n",
              "      <td>2010.0</td>\n",
              "    </tr>\n",
              "    <tr>\n",
              "      <th>20</th>\n",
              "      <td>23</td>\n",
              "      <td>0.0</td>\n",
              "      <td>30.00</td>\n",
              "      <td>1.300000</td>\n",
              "      <td>2010.0</td>\n",
              "    </tr>\n",
              "    <tr>\n",
              "      <th>21</th>\n",
              "      <td>24</td>\n",
              "      <td>0.0</td>\n",
              "      <td>12.50</td>\n",
              "      <td>0.000000</td>\n",
              "      <td>2016.0</td>\n",
              "    </tr>\n",
              "    <tr>\n",
              "      <th>22</th>\n",
              "      <td>25</td>\n",
              "      <td>0.0</td>\n",
              "      <td>13.30</td>\n",
              "      <td>0.000000</td>\n",
              "      <td>2016.0</td>\n",
              "    </tr>\n",
              "    <tr>\n",
              "      <th>23</th>\n",
              "      <td>26</td>\n",
              "      <td>0.0</td>\n",
              "      <td>25.00</td>\n",
              "      <td>0.000000</td>\n",
              "      <td>2019.0</td>\n",
              "    </tr>\n",
              "    <tr>\n",
              "      <th>24</th>\n",
              "      <td>27</td>\n",
              "      <td>0.0</td>\n",
              "      <td>16.40</td>\n",
              "      <td>0.000000</td>\n",
              "      <td>2019.0</td>\n",
              "    </tr>\n",
              "    <tr>\n",
              "      <th>25</th>\n",
              "      <td>28</td>\n",
              "      <td>0.0</td>\n",
              "      <td>0.00</td>\n",
              "      <td>0.000000</td>\n",
              "      <td>2013.0</td>\n",
              "    </tr>\n",
              "    <tr>\n",
              "      <th>26</th>\n",
              "      <td>30</td>\n",
              "      <td>0.0</td>\n",
              "      <td>66.95</td>\n",
              "      <td>0.000000</td>\n",
              "      <td>2020.0</td>\n",
              "    </tr>\n",
              "    <tr>\n",
              "      <th>27</th>\n",
              "      <td>31</td>\n",
              "      <td>0.0</td>\n",
              "      <td>60.00</td>\n",
              "      <td>0.000000</td>\n",
              "      <td>2004.0</td>\n",
              "    </tr>\n",
              "    <tr>\n",
              "      <th>28</th>\n",
              "      <td>32</td>\n",
              "      <td>0.0</td>\n",
              "      <td>5.00</td>\n",
              "      <td>0.000000</td>\n",
              "      <td>2004.0</td>\n",
              "    </tr>\n",
              "    <tr>\n",
              "      <th>29</th>\n",
              "      <td>33</td>\n",
              "      <td>0.0</td>\n",
              "      <td>40.00</td>\n",
              "      <td>1.570000</td>\n",
              "      <td>2020.0</td>\n",
              "    </tr>\n",
              "  </tbody>\n",
              "</table>\n",
              "</div>\n",
              "    <div class=\"colab-df-buttons\">\n",
              "\n",
              "  <div class=\"colab-df-container\">\n",
              "    <button class=\"colab-df-convert\" onclick=\"convertToInteractive('df-0276c3e8-db71-4f29-afdc-02bcec287685')\"\n",
              "            title=\"Convert this dataframe to an interactive table.\"\n",
              "            style=\"display:none;\">\n",
              "\n",
              "  <svg xmlns=\"http://www.w3.org/2000/svg\" height=\"24px\" viewBox=\"0 -960 960 960\">\n",
              "    <path d=\"M120-120v-720h720v720H120Zm60-500h600v-160H180v160Zm220 220h160v-160H400v160Zm0 220h160v-160H400v160ZM180-400h160v-160H180v160Zm440 0h160v-160H620v160ZM180-180h160v-160H180v160Zm440 0h160v-160H620v160Z\"/>\n",
              "  </svg>\n",
              "    </button>\n",
              "\n",
              "  <style>\n",
              "    .colab-df-container {\n",
              "      display:flex;\n",
              "      gap: 12px;\n",
              "    }\n",
              "\n",
              "    .colab-df-convert {\n",
              "      background-color: #E8F0FE;\n",
              "      border: none;\n",
              "      border-radius: 50%;\n",
              "      cursor: pointer;\n",
              "      display: none;\n",
              "      fill: #1967D2;\n",
              "      height: 32px;\n",
              "      padding: 0 0 0 0;\n",
              "      width: 32px;\n",
              "    }\n",
              "\n",
              "    .colab-df-convert:hover {\n",
              "      background-color: #E2EBFA;\n",
              "      box-shadow: 0px 1px 2px rgba(60, 64, 67, 0.3), 0px 1px 3px 1px rgba(60, 64, 67, 0.15);\n",
              "      fill: #174EA6;\n",
              "    }\n",
              "\n",
              "    .colab-df-buttons div {\n",
              "      margin-bottom: 4px;\n",
              "    }\n",
              "\n",
              "    [theme=dark] .colab-df-convert {\n",
              "      background-color: #3B4455;\n",
              "      fill: #D2E3FC;\n",
              "    }\n",
              "\n",
              "    [theme=dark] .colab-df-convert:hover {\n",
              "      background-color: #434B5C;\n",
              "      box-shadow: 0px 1px 3px 1px rgba(0, 0, 0, 0.15);\n",
              "      filter: drop-shadow(0px 1px 2px rgba(0, 0, 0, 0.3));\n",
              "      fill: #FFFFFF;\n",
              "    }\n",
              "  </style>\n",
              "\n",
              "    <script>\n",
              "      const buttonEl =\n",
              "        document.querySelector('#df-0276c3e8-db71-4f29-afdc-02bcec287685 button.colab-df-convert');\n",
              "      buttonEl.style.display =\n",
              "        google.colab.kernel.accessAllowed ? 'block' : 'none';\n",
              "\n",
              "      async function convertToInteractive(key) {\n",
              "        const element = document.querySelector('#df-0276c3e8-db71-4f29-afdc-02bcec287685');\n",
              "        const dataTable =\n",
              "          await google.colab.kernel.invokeFunction('convertToInteractive',\n",
              "                                                    [key], {});\n",
              "        if (!dataTable) return;\n",
              "\n",
              "        const docLinkHtml = 'Like what you see? Visit the ' +\n",
              "          '<a target=\"_blank\" href=https://colab.research.google.com/notebooks/data_table.ipynb>data table notebook</a>'\n",
              "          + ' to learn more about interactive tables.';\n",
              "        element.innerHTML = '';\n",
              "        dataTable['output_type'] = 'display_data';\n",
              "        await google.colab.output.renderOutput(dataTable, element);\n",
              "        const docLink = document.createElement('div');\n",
              "        docLink.innerHTML = docLinkHtml;\n",
              "        element.appendChild(docLink);\n",
              "      }\n",
              "    </script>\n",
              "  </div>\n",
              "\n",
              "\n",
              "<div id=\"df-e1c10b76-5f83-4b2b-af4d-6945d09b97d1\">\n",
              "  <button class=\"colab-df-quickchart\" onclick=\"quickchart('df-e1c10b76-5f83-4b2b-af4d-6945d09b97d1')\"\n",
              "            title=\"Suggest charts\"\n",
              "            style=\"display:none;\">\n",
              "\n",
              "<svg xmlns=\"http://www.w3.org/2000/svg\" height=\"24px\"viewBox=\"0 0 24 24\"\n",
              "     width=\"24px\">\n",
              "    <g>\n",
              "        <path d=\"M19 3H5c-1.1 0-2 .9-2 2v14c0 1.1.9 2 2 2h14c1.1 0 2-.9 2-2V5c0-1.1-.9-2-2-2zM9 17H7v-7h2v7zm4 0h-2V7h2v10zm4 0h-2v-4h2v4z\"/>\n",
              "    </g>\n",
              "</svg>\n",
              "  </button>\n",
              "\n",
              "<style>\n",
              "  .colab-df-quickchart {\n",
              "      --bg-color: #E8F0FE;\n",
              "      --fill-color: #1967D2;\n",
              "      --hover-bg-color: #E2EBFA;\n",
              "      --hover-fill-color: #174EA6;\n",
              "      --disabled-fill-color: #AAA;\n",
              "      --disabled-bg-color: #DDD;\n",
              "  }\n",
              "\n",
              "  [theme=dark] .colab-df-quickchart {\n",
              "      --bg-color: #3B4455;\n",
              "      --fill-color: #D2E3FC;\n",
              "      --hover-bg-color: #434B5C;\n",
              "      --hover-fill-color: #FFFFFF;\n",
              "      --disabled-bg-color: #3B4455;\n",
              "      --disabled-fill-color: #666;\n",
              "  }\n",
              "\n",
              "  .colab-df-quickchart {\n",
              "    background-color: var(--bg-color);\n",
              "    border: none;\n",
              "    border-radius: 50%;\n",
              "    cursor: pointer;\n",
              "    display: none;\n",
              "    fill: var(--fill-color);\n",
              "    height: 32px;\n",
              "    padding: 0;\n",
              "    width: 32px;\n",
              "  }\n",
              "\n",
              "  .colab-df-quickchart:hover {\n",
              "    background-color: var(--hover-bg-color);\n",
              "    box-shadow: 0 1px 2px rgba(60, 64, 67, 0.3), 0 1px 3px 1px rgba(60, 64, 67, 0.15);\n",
              "    fill: var(--button-hover-fill-color);\n",
              "  }\n",
              "\n",
              "  .colab-df-quickchart-complete:disabled,\n",
              "  .colab-df-quickchart-complete:disabled:hover {\n",
              "    background-color: var(--disabled-bg-color);\n",
              "    fill: var(--disabled-fill-color);\n",
              "    box-shadow: none;\n",
              "  }\n",
              "\n",
              "  .colab-df-spinner {\n",
              "    border: 2px solid var(--fill-color);\n",
              "    border-color: transparent;\n",
              "    border-bottom-color: var(--fill-color);\n",
              "    animation:\n",
              "      spin 1s steps(1) infinite;\n",
              "  }\n",
              "\n",
              "  @keyframes spin {\n",
              "    0% {\n",
              "      border-color: transparent;\n",
              "      border-bottom-color: var(--fill-color);\n",
              "      border-left-color: var(--fill-color);\n",
              "    }\n",
              "    20% {\n",
              "      border-color: transparent;\n",
              "      border-left-color: var(--fill-color);\n",
              "      border-top-color: var(--fill-color);\n",
              "    }\n",
              "    30% {\n",
              "      border-color: transparent;\n",
              "      border-left-color: var(--fill-color);\n",
              "      border-top-color: var(--fill-color);\n",
              "      border-right-color: var(--fill-color);\n",
              "    }\n",
              "    40% {\n",
              "      border-color: transparent;\n",
              "      border-right-color: var(--fill-color);\n",
              "      border-top-color: var(--fill-color);\n",
              "    }\n",
              "    60% {\n",
              "      border-color: transparent;\n",
              "      border-right-color: var(--fill-color);\n",
              "    }\n",
              "    80% {\n",
              "      border-color: transparent;\n",
              "      border-right-color: var(--fill-color);\n",
              "      border-bottom-color: var(--fill-color);\n",
              "    }\n",
              "    90% {\n",
              "      border-color: transparent;\n",
              "      border-bottom-color: var(--fill-color);\n",
              "    }\n",
              "  }\n",
              "</style>\n",
              "\n",
              "  <script>\n",
              "    async function quickchart(key) {\n",
              "      const quickchartButtonEl =\n",
              "        document.querySelector('#' + key + ' button');\n",
              "      quickchartButtonEl.disabled = true;  // To prevent multiple clicks.\n",
              "      quickchartButtonEl.classList.add('colab-df-spinner');\n",
              "      try {\n",
              "        const charts = await google.colab.kernel.invokeFunction(\n",
              "            'suggestCharts', [key], {});\n",
              "      } catch (error) {\n",
              "        console.error('Error during call to suggestCharts:', error);\n",
              "      }\n",
              "      quickchartButtonEl.classList.remove('colab-df-spinner');\n",
              "      quickchartButtonEl.classList.add('colab-df-quickchart-complete');\n",
              "    }\n",
              "    (() => {\n",
              "      let quickchartButtonEl =\n",
              "        document.querySelector('#df-e1c10b76-5f83-4b2b-af4d-6945d09b97d1 button');\n",
              "      quickchartButtonEl.style.display =\n",
              "        google.colab.kernel.accessAllowed ? 'block' : 'none';\n",
              "    })();\n",
              "  </script>\n",
              "</div>\n",
              "    </div>\n",
              "  </div>\n"
            ],
            "application/vnd.google.colaboratory.intrinsic+json": {
              "type": "dataframe",
              "variable_name": "exoplanet",
              "summary": "{\n  \"name\": \"exoplanet\",\n  \"rows\": 2505,\n  \"fields\": [\n    {\n      \"column\": \"index\",\n      \"properties\": {\n        \"dtype\": \"number\",\n        \"std\": 1469,\n        \"min\": 0,\n        \"max\": 4795,\n        \"num_unique_values\": 2505,\n        \"samples\": [\n          3810,\n          401,\n          4399\n        ],\n        \"semantic_type\": \"\",\n        \"description\": \"\"\n      }\n    },\n    {\n      \"column\": \"name\",\n      \"properties\": {\n        \"dtype\": \"number\",\n        \"std\": 0.0,\n        \"min\": 0.0,\n        \"max\": 0.0,\n        \"num_unique_values\": 1,\n        \"samples\": [\n          0.0\n        ],\n        \"semantic_type\": \"\",\n        \"description\": \"\"\n      }\n    },\n    {\n      \"column\": \"mass\",\n      \"properties\": {\n        \"dtype\": \"number\",\n        \"std\": 10.405650976026282,\n        \"min\": 0.0,\n        \"max\": 81.9,\n        \"num_unique_values\": 1016,\n        \"samples\": [\n          0.0444\n        ],\n        \"semantic_type\": \"\",\n        \"description\": \"\"\n      }\n    },\n    {\n      \"column\": \"radius\",\n      \"properties\": {\n        \"dtype\": \"number\",\n        \"std\": 0.5488780135315973,\n        \"min\": 0.0,\n        \"max\": 6.52,\n        \"num_unique_values\": 1007,\n        \"samples\": [\n          1.099\n        ],\n        \"semantic_type\": \"\",\n        \"description\": \"\"\n      }\n    },\n    {\n      \"column\": \"discovered\",\n      \"properties\": {\n        \"dtype\": \"number\",\n        \"std\": 98.59881729683134,\n        \"min\": 0.0,\n        \"max\": 2021.0,\n        \"num_unique_values\": 29,\n        \"samples\": [\n          1992.0\n        ],\n        \"semantic_type\": \"\",\n        \"description\": \"\"\n      }\n    }\n  ]\n}"
            }
          },
          "metadata": {},
          "execution_count": 3
        }
      ],
      "source": [
        "exoplanet.head(30)"
      ]
    },
    {
      "cell_type": "markdown",
      "metadata": {
        "id": "W8Gvyf4fpUOA"
      },
      "source": [
        "**Документация**\n",
        "\n",
        "Столбцы:\n",
        "\n",
        "•\tname: название экзопланеты;\n",
        "\n",
        "•\tmass: масса в массах планеты Юпитер;\n",
        "\n",
        "•\tradius: радиус, пересчитанный в радиусах Земли;\n",
        "\n",
        "•\tdiscovered: год открытия экзопланеты.\n",
        "\n",
        "*Источник: каталог экзопланет на портале exoplanet.eu*\n",
        "\n",
        "На картинке изображен принцип **split-apply-combine** для таблицы с экзопланетами. Посмотрим, как вообще идут дела с поиском экзопланет. Сначала данные делят по группам, где каждая группа — это год. Потом метод **count()** подсчитывает численность каждой группы. В итоге получаем новую структуру данных с группами, где каждая содержит год и число открытых за этот год экзопланет.\n",
        "\n",
        "![image.png](attachment:image.png)\n",
        "\n",
        "В Рandas для группировки данных есть метод **groupby()**. Он принимает как аргумент название столбца, по которому нужно группировать. В случае с делением экзопланет по годам открытия:\n"
      ]
    },
    {
      "cell_type": "markdown",
      "metadata": {
        "id": "SD3Eh9zGpUOA"
      },
      "source": [
        "**print(exoplanet.groupby('discovered'))**\n",
        "\n",
        "**<pandas.core.groupby.DataFrameGroupBy object at 0x7fc1e1ca3400>**\n",
        "\n",
        "\n",
        "Применение метода **groupby()** к объекту типа DataFrame приводит к созданию объекта особого типа — **DataFrameGroupBy**. Это сгруппированные данные. Если применить к ним какой-нибудь метод Pandas, они станут новой структурой данных типа **DataFrame** или **Series**.\n",
        "Подсчитаем сгруппированные по годам экзопланеты методом **count()**:\n"
      ]
    },
    {
      "cell_type": "code",
      "execution_count": null,
      "metadata": {
        "id": "gDJb8eaCpUOA",
        "colab": {
          "base_uri": "https://localhost:8080/"
        },
        "outputId": "5a239d1e-a896-4d7d-9c97-b014bac774e9"
      },
      "outputs": [
        {
          "output_type": "stream",
          "name": "stdout",
          "text": [
            "            index  name  mass  radius\n",
            "discovered                           \n",
            "0.0             6     6     6       6\n",
            "1988.0          1     1     1       1\n",
            "1992.0          3     3     3       3\n",
            "1995.0          3     3     3       3\n",
            "1996.0          5     5     5       5\n",
            "1998.0          2     2     2       2\n",
            "1999.0          8     8     8       8\n",
            "2000.0         15    15    15      15\n",
            "2001.0          7     7     7       7\n",
            "2002.0         12    12    12      12\n",
            "2003.0          7     7     7       7\n",
            "2004.0         16    16    16      16\n",
            "2005.0         20    20    20      20\n",
            "2006.0         23    23    23      23\n",
            "2007.0         28    28    28      28\n",
            "2008.0         38    38    38      38\n",
            "2009.0         31    31    31      31\n",
            "2010.0         76    76    76      76\n",
            "2011.0        123   123   123     123\n",
            "2012.0        107   107   107     107\n",
            "2013.0        142   142   142     142\n",
            "2014.0        382   382   382     382\n",
            "2015.0        124   124   124     124\n",
            "2016.0        523   523   523     523\n",
            "2017.0        119   119   119     119\n",
            "2018.0        271   271   271     271\n",
            "2019.0        144   144   144     144\n",
            "2020.0        194   194   194     194\n",
            "2021.0         75    75    75      75\n"
          ]
        }
      ],
      "source": [
        "print(exoplanet.groupby('discovered').count())"
      ]
    },
    {
      "cell_type": "markdown",
      "metadata": {
        "id": "oC44DiuApUOA"
      },
      "source": [
        "Если нужно сравнить наблюдения по одному показателю, метод применяют к **DataFrameGroupBy** с указанием на один столбец. Нас в первую очередь интересует радиус экзопланет: мы ищем другую Землю. Давайте получим таблицу с единственным столбцом 'radius':\n",
        "\n",
        "**exo_number = exoplanet.groupby('discovered')['radius'].count()**\n",
        "\n",
        "**print(exo_number)**"
      ]
    },
    {
      "cell_type": "code",
      "execution_count": null,
      "metadata": {
        "id": "Jqu0zac5pUOA",
        "colab": {
          "base_uri": "https://localhost:8080/"
        },
        "outputId": "3171fc0e-a42c-4bcc-de5c-1deca353acef"
      },
      "outputs": [
        {
          "output_type": "stream",
          "name": "stdout",
          "text": [
            "discovered\n",
            "0.0         6\n",
            "1988.0      1\n",
            "1992.0      3\n",
            "1995.0      3\n",
            "1996.0      5\n",
            "1998.0      2\n",
            "1999.0      8\n",
            "2000.0     15\n",
            "2001.0      7\n",
            "2002.0     12\n",
            "2003.0      7\n",
            "2004.0     16\n",
            "2005.0     20\n",
            "2006.0     23\n",
            "2007.0     28\n",
            "2008.0     38\n",
            "2009.0     31\n",
            "2010.0     76\n",
            "2011.0    123\n",
            "2012.0    107\n",
            "2013.0    142\n",
            "2014.0    382\n",
            "2015.0    124\n",
            "2016.0    523\n",
            "2017.0    119\n",
            "2018.0    271\n",
            "2019.0    144\n",
            "2020.0    194\n",
            "2021.0     75\n",
            "Name: radius, dtype: int64\n"
          ]
        }
      ],
      "source": [
        "exo_number = exoplanet.groupby('discovered')['radius'].count()\n",
        "\n",
        "print(exo_number)"
      ]
    },
    {
      "cell_type": "markdown",
      "metadata": {
        "id": "NSfDM6A8pUOA"
      },
      "source": [
        "Получили Series, где по годам открытия расписано количество экзопланет, для которых удалось установить радиус.\n",
        "\n",
        "Посмотрим, как меняется средний радиус открытых экзопланет год от года. Для этого надо сложить радиусы планет, открытых за определённый год, и поделить на их количество (которое мы уже нашли).\n",
        "\n",
        "Сумма радиусов считается методом **sum()**:\n",
        "\n",
        "**exo_radius_sum = exoplanet.groupby('discovered')['radius'].sum()**\n",
        "\n",
        "\n",
        "**print(exo_radius_sum)**\n",
        "\n"
      ]
    },
    {
      "cell_type": "code",
      "execution_count": null,
      "metadata": {
        "id": "KyoIUMD4pUOA",
        "colab": {
          "base_uri": "https://localhost:8080/"
        },
        "outputId": "601587de-39fe-4e22-9e42-6e6c6732be65"
      },
      "outputs": [
        {
          "output_type": "stream",
          "name": "stdout",
          "text": [
            "discovered\n",
            "0.0         3.728100\n",
            "1988.0      0.000000\n",
            "1992.0      0.000000\n",
            "1995.0      1.900000\n",
            "1996.0      1.060000\n",
            "1998.0      0.000000\n",
            "1999.0      2.410000\n",
            "2000.0      5.107000\n",
            "2001.0      0.921000\n",
            "2002.0      4.210000\n",
            "2003.0      0.000000\n",
            "2004.0      8.849700\n",
            "2005.0      9.999000\n",
            "2006.0     22.425000\n",
            "2007.0     29.088600\n",
            "2008.0     34.329000\n",
            "2009.0     16.416794\n",
            "2010.0     62.760660\n",
            "2011.0     86.187374\n",
            "2012.0     56.019507\n",
            "2013.0     80.149100\n",
            "2014.0    117.438230\n",
            "2015.0     65.342690\n",
            "2016.0    233.137600\n",
            "2017.0     59.234622\n",
            "2018.0    123.680070\n",
            "2019.0     70.603372\n",
            "2020.0     84.219100\n",
            "2021.0     43.260410\n",
            "Name: radius, dtype: float64\n"
          ]
        }
      ],
      "source": [
        "exo_radius_sum = exoplanet.groupby('discovered')['radius'].sum()\n",
        "\n",
        "print(exo_radius_sum)"
      ]
    },
    {
      "cell_type": "markdown",
      "metadata": {
        "id": "zc3gXXBTpUOB"
      },
      "source": [
        "Очень кстати, что объекты Series можно делить друг на друга. Это позволит нам разделить перечень сумм радиусов на перечень количеств экзопланет без перебора в цикле:\n",
        "\n",
        "\n",
        "**exo_radius_mean = exo_radius_sum/exo_number**\n",
        "\n",
        "**print(exo_radius_mean)**\n"
      ]
    },
    {
      "cell_type": "code",
      "execution_count": null,
      "metadata": {
        "id": "dF00OQQXpUOB",
        "colab": {
          "base_uri": "https://localhost:8080/"
        },
        "outputId": "6756d93e-ff31-4b22-b211-14a29f326bd3"
      },
      "outputs": [
        {
          "output_type": "stream",
          "name": "stdout",
          "text": [
            "discovered\n",
            "0.0       0.621350\n",
            "1988.0    0.000000\n",
            "1992.0    0.000000\n",
            "1995.0    0.633333\n",
            "1996.0    0.212000\n",
            "1998.0    0.000000\n",
            "1999.0    0.301250\n",
            "2000.0    0.340467\n",
            "2001.0    0.131571\n",
            "2002.0    0.350833\n",
            "2003.0    0.000000\n",
            "2004.0    0.553106\n",
            "2005.0    0.499950\n",
            "2006.0    0.975000\n",
            "2007.0    1.038879\n",
            "2008.0    0.903395\n",
            "2009.0    0.529574\n",
            "2010.0    0.825798\n",
            "2011.0    0.700710\n",
            "2012.0    0.523547\n",
            "2013.0    0.564430\n",
            "2014.0    0.307430\n",
            "2015.0    0.526957\n",
            "2016.0    0.445770\n",
            "2017.0    0.497770\n",
            "2018.0    0.456384\n",
            "2019.0    0.490301\n",
            "2020.0    0.434119\n",
            "2021.0    0.576805\n",
            "Name: radius, dtype: float64\n"
          ]
        }
      ],
      "source": [
        "exo_radius_mean = exo_radius_sum/exo_number\n",
        "\n",
        "print(exo_radius_mean)"
      ]
    },
    {
      "cell_type": "markdown",
      "metadata": {
        "id": "I994X_CYpUOB"
      },
      "source": [
        "Точность наших приборов растёт, и новые экзопланеты по размерам всё ближе к Земле.\n",
        "\n",
        "А теперь вернемся к анализу датафрейма с музыкльными предпочтениями слушателей Яндекс.Музыки. Идею объединения сервисов Музыка и Радио тестировали на небольшой группе пользователей. Результаты сведены в csv-файл, который вам предстоит изучить. Итог анализа таких данных — это метрики: величины, значения которых отражают пользовательские впечатления. Одна из важнейших — **happiness**. Здесь это среднее время, которое пользователь слушает музыку в течение выбранного периода времени (в нашей задаче — за сутки). Чем дольше пользователь слушает музыку, тем он довольнее. Ваша задача: найти значение happiness и посмотреть, как оно менялось.\n",
        "\n",
        "Тем же методом **groupby()**, которым мы ищем новую Землю, можно поискать и необыкновенного человека в данных Яндекс.Музыки. Тем более, что без этого не выполнить поставленной менеджером задачи.\n",
        "\n",
        "Прежде, чем рассчитывать метрику happiness, нужно изучить пользователей, чьё «счастье» мы собираемся оценить. Какие они, эти люди, которые слушают действительно много музыки? Есть ли у них особые предпочтения, или они потребляют всё подряд?\n"
      ]
    },
    {
      "cell_type": "markdown",
      "metadata": {
        "id": "fevnYTTEpUOB"
      },
      "source": [
        "## Задача\n",
        "\n",
        "1. Меломаны у нас есть. Сейчас узнаем идентификатор **user_id** одного из них. Для этого сгруппируем данные по каждому пользователю, чтобы собрать жанры прослушанных им композиций.\n",
        "\n",
        "Сгруппируйте DataFrame по столбцу user_id, сохраните полученный результат в переменной genre_grouping.\n",
        "\n",
        "Посчитайте количество жанров, которые выбрали пользователи, методом count(), указав, что выбираем один столбец genre_name.\n",
        "\n",
        "Сохраните результат в переменной genre_counting и выведите первые 30 строк этой таблицы.\n",
        "\n",
        "2. Быть может, те, кто за день слушает больше 50 песен, имеют более широкие предпочтения. Чтобы найти такого, изготовим универсальный инструмент.\n",
        "\n",
        "Напишите функцию user_genres, которая принимает некую группировку как свой аргумент group. Функция должна перебирать группы, входящие в эту группировку.\n",
        "\n",
        "В каждой группе два элемента — имя группы с индексом 0 и список значений с индексом 1.\n",
        "\n",
        "Обнаружив такую группу, в которой список (элемент с индексом 1) содержит более 50 значений, функция возвращает имя группы (значение элемента с индексом 0).\n",
        "\n",
        "3. Вызовите функцию **user_genres**, как аргумент передайте ей **genre_grouping**. Результат – **user_id** неведомого нам любителя музыки – сохраните в переменной **search_id** и выведите значение на экран.\n"
      ]
    },
    {
      "cell_type": "code",
      "execution_count": null,
      "metadata": {
        "id": "NTx8tlFJpUOB",
        "colab": {
          "base_uri": "https://localhost:8080/"
        },
        "outputId": "86bd54cd-41ba-45bc-ed36-a3e649b53bdc"
      },
      "outputs": [
        {
          "output_type": "stream",
          "name": "stdout",
          "text": [
            "414F229D\n",
            "Количество слушащих hip-hop в Москве: 2156\n",
            "Количество слушащих hip-hop в Санкт-Петербург: 992\n"
          ]
        }
      ],
      "source": [
        "import pandas as pd\n",
        "\n",
        "df = pd.read_csv('/content/drive/MyDrive/Учеба/Lab3/yandex_music.csv')\n",
        "new_names = ['user_id', 'track_name', 'artist_name', 'genre_name','total_play_seconds','time','day']\n",
        "\n",
        "if len(new_names) == len(df.columns):\n",
        "    df = df.set_axis(new_names, axis='columns')\n",
        "else:\n",
        "    print(\"Ошибка: количество новых имен не совпадает с количеством столбцов.\")\n",
        "\n",
        "genre_grouping = df.groupby('user_id')\n",
        "genre_counting = df.groupby('user_id')['genre_name'].count()\n",
        "genre_counting.head(30)\n",
        "\n",
        "def user_genres(group):\n",
        "  for i in group:\n",
        "    if len(i[1]) > 50:\n",
        "      return i[0]\n",
        "  return None;\n",
        "\n",
        "search_id = user_genres(list(genre_grouping))\n",
        "print(search_id)\n",
        "\n",
        "#Сколько слушают из Москвы и сколько слушают из Санкт-Петербурга хип-хоп.\n",
        "genre_counting_M = df[(df['genre_name'] == 'hip') & (df['total_play_seconds']== 'Moscow')].count()\n",
        "genre_counting_S = df[(df['genre_name'] == 'hip') & (df['total_play_seconds'] == 'Saint-Petersburg')].count()\n",
        "print(\"Количество слушащих hip-hop в Москве:\", genre_counting_M['user_id'])\n",
        "print(\"Количество слушащих hip-hop в Санкт-Петербург:\", genre_counting_S['user_id'])"
      ]
    },
    {
      "cell_type": "markdown",
      "metadata": {
        "id": "f6RlGY7SpUOB"
      },
      "source": [
        "# Сортировка данных"
      ]
    },
    {
      "cell_type": "markdown",
      "metadata": {
        "id": "I49tX4XIpUOB"
      },
      "source": [
        "Поиск необычного в группе — что среди планет, что среди меломанов — это прежде всего поиск чемпионов: объектов с выдающимися показателями по разным статьям. Как всю таблицу, так и отдельные группы изучают, сортируя строки по какому-либо столбцу.\n",
        "\n",
        "В Pandas для этой операции есть метод **sort_values()**. У него два аргумента:\n",
        "\n",
        "• **by = 'имя столбца'** — имя столбца, по которому нужно сортировать;\n",
        "\n",
        "• **ascending:** по умолчанию True. Для сортировки по убыванию установите значение False.\n",
        "\n",
        "![image.png](attachment:image.png)\n",
        "\n",
        "\n",
        "Среди экзопланет интересны близкие по размерам к Земле. Есть ли такие? Отсортируем список по радиусу в порядке возрастания. Тогда в голове таблицы окажутся самые малые, на которых гравитация не прижмёт нас к полу.\n",
        "\n",
        "**print(exoplanet.sort_values(by='radius').head(30))**\n"
      ]
    },
    {
      "cell_type": "code",
      "execution_count": null,
      "metadata": {
        "id": "TDDczMtCpUOB",
        "colab": {
          "base_uri": "https://localhost:8080/"
        },
        "outputId": "26ce7f0e-746d-4dee-d576-7c7633112186"
      },
      "outputs": [
        {
          "output_type": "stream",
          "name": "stdout",
          "text": [
            "      name     mass    radius  discovered\n",
            "9      NaN      NaN  0.000002      2017.0\n",
            "16     NaN      NaN  0.000062      2019.0\n",
            "4357   NaN      NaN  0.000900      2019.0\n",
            "3258   NaN      NaN  0.025430      2014.0\n",
            "3207   NaN  0.01000  0.026000      2013.0\n",
            "3354   NaN      NaN  0.035950      2015.0\n",
            "1744   NaN  0.01353  0.042000      2014.0\n",
            "3355   NaN      NaN  0.044000      2015.0\n",
            "2126   NaN      NaN  0.046000      2016.0\n",
            "2221   NaN  0.00021  0.047000      2014.0\n",
            "3356   NaN      NaN  0.047000      2015.0\n",
            "3611   NaN  0.01300  0.048000      2013.0\n",
            "3357   NaN      NaN  0.049000      2015.0\n",
            "3323   NaN  0.00300  0.051000      2011.0\n",
            "1745   NaN  0.00944  0.052000      2014.0\n",
            "2491   NaN      NaN  0.054000      2016.0\n",
            "1839   NaN      NaN  0.054000      2016.0\n",
            "1611   NaN      NaN  0.055000      2016.0\n",
            "2212   NaN      NaN  0.057000      2016.0\n",
            "2185   NaN      NaN  0.058000      2016.0\n",
            "2439   NaN      NaN  0.058000      2016.0\n",
            "2937   NaN      NaN  0.059000      2016.0\n",
            "3337   NaN      NaN  0.060000      2015.0\n",
            "2459   NaN      NaN  0.061000      2016.0\n",
            "2180   NaN      NaN  0.062000      2016.0\n",
            "2263   NaN      NaN  0.062000      2014.0\n",
            "3230   NaN      NaN  0.062000      2014.0\n",
            "1262   NaN      NaN  0.062000      2017.0\n",
            "1473   NaN  0.00091  0.063000      2018.0\n",
            "2168   NaN      NaN  0.063000      2016.0\n"
          ]
        }
      ],
      "source": [
        "df = pd.read_csv('/content/drive/MyDrive/Учеба/Lab3/exoplanet_catalog.csv')\n",
        "stolb = ['name','mass','radius','discovered']\n",
        "exoplanet = pd.DataFrame(data = df, columns= stolb)\n",
        "print(exoplanet.sort_values(by='radius').head(30))"
      ]
    },
    {
      "cell_type": "markdown",
      "metadata": {
        "id": "saUBrMu5pUOB"
      },
      "source": [
        "Оказывается, некоторые из уже открытых экзопланет по размерам близки не то что к Земле, но уже и к Луне! Получим список экзопланет с радиусом меньше земного. Смотрите, как логический оператор (здесь это <) задействуется в отборе элементов столбца. Дальше нам этот приём не раз понадобится.\n",
        "\n",
        "\n",
        "**print(exoplanet[exoplanet['radius'] < 1])**"
      ]
    },
    {
      "cell_type": "code",
      "execution_count": null,
      "metadata": {
        "id": "JQ5XX1dPpUOB",
        "colab": {
          "base_uri": "https://localhost:8080/"
        },
        "outputId": "c9f97638-97da-447f-a29f-bef3dfeb9f7f"
      },
      "outputs": [
        {
          "output_type": "stream",
          "name": "stdout",
          "text": [
            "      name      mass    radius  discovered\n",
            "9      NaN       NaN  0.000002      2017.0\n",
            "16     NaN       NaN  0.000062      2019.0\n",
            "22     NaN  20.00000  0.920000      2010.0\n",
            "41     NaN  43.00000  0.910000      2021.0\n",
            "42     NaN  67.00000  0.970000      2021.0\n",
            "...    ...       ...       ...         ...\n",
            "4731   NaN       NaN  0.181110      2018.0\n",
            "4732   NaN  26.00000  0.920000      2009.0\n",
            "4734   NaN   0.62000  0.973000      2007.0\n",
            "4751   NaN  59.30000  0.783000      2021.0\n",
            "4783   NaN   0.01517  0.167190      2018.0\n",
            "\n",
            "[2974 rows x 4 columns]\n"
          ]
        }
      ],
      "source": [
        "print(exoplanet[exoplanet['radius'] < 1])"
      ]
    },
    {
      "cell_type": "markdown",
      "metadata": {
        "id": "tE8EhPm2pUOB"
      },
      "source": [
        "Но и этот список такой длинный, что изучать его лучше по частям. Экзопланеты, близкие по размерам к Земле, за последнее десятилетие открывали нередко. Можно изучать список открытых за каждый год. Например, для 2014 года (вновь обратите внимание на работу логического оператора, теперь это ==):\n",
        "\n",
        "**print(exoplanet[exoplanet['discovered'] == 2014])**\n"
      ]
    },
    {
      "cell_type": "code",
      "execution_count": null,
      "metadata": {
        "id": "QD_ntJhApUOC",
        "colab": {
          "base_uri": "https://localhost:8080/"
        },
        "outputId": "afe92910-da5b-458d-cde0-3fd5ab696852"
      },
      "outputs": [
        {
          "output_type": "stream",
          "name": "stdout",
          "text": [
            "      name  mass  radius  discovered\n",
            "106    NaN   NaN     NaN      2014.0\n",
            "222    NaN   NaN     NaN      2014.0\n",
            "223    NaN   NaN     NaN      2014.0\n",
            "233    NaN   NaN     NaN      2014.0\n",
            "234    NaN   NaN     NaN      2014.0\n",
            "...    ...   ...     ...         ...\n",
            "4763   NaN   NaN     NaN      2014.0\n",
            "4764   NaN   NaN     NaN      2014.0\n",
            "4776   NaN   NaN     NaN      2014.0\n",
            "4784   NaN   NaN     NaN      2014.0\n",
            "4795   NaN  40.0     NaN      2014.0\n",
            "\n",
            "[872 rows x 4 columns]\n"
          ]
        }
      ],
      "source": [
        "print(exoplanet[exoplanet['discovered'] == 2014])"
      ]
    },
    {
      "cell_type": "markdown",
      "metadata": {
        "id": "ki9eC6nbpUOC"
      },
      "source": [
        "А чтобы не тратить время на лишнее, поставим оба условия сразу. Для этого в Pandas есть логический оператор &, подобный оператору and языка Python. Напомним, его смысл на русском языке можно передать словами «и ещё»:\n",
        "\n",
        "**# экзопланеты меньше Земли __ и ещё __ открытые в 2014 году**\n",
        "\n",
        "**exo_small_14 = exoplanet[ (exoplanet['radius']<1) & (exoplanet['discovered']==2014)]**\n",
        "\n",
        "**print(exo_small_14)**\n",
        "\n"
      ]
    },
    {
      "cell_type": "code",
      "execution_count": null,
      "metadata": {
        "id": "aWkQdt4cpUOC",
        "colab": {
          "base_uri": "https://localhost:8080/"
        },
        "outputId": "2e88ee00-0ab8-4f1a-d53a-5a5546cd7104"
      },
      "outputs": [
        {
          "output_type": "stream",
          "name": "stdout",
          "text": [
            "      name    mass  radius  discovered\n",
            "400    NaN  0.7600   0.944      2014.0\n",
            "465    NaN  0.2370   0.912      2014.0\n",
            "477    NaN  0.3190   0.998      2014.0\n",
            "1164   NaN  0.0372   0.226      2014.0\n",
            "1690   NaN  1.4500   0.940      2014.0\n",
            "...    ...     ...     ...         ...\n",
            "4039   NaN  0.0410   0.305      2014.0\n",
            "4051   NaN  0.0270   0.238      2014.0\n",
            "4065   NaN  0.0110   0.132      2014.0\n",
            "4077   NaN  0.0110   0.178      2014.0\n",
            "4088   NaN  0.0190   0.132      2014.0\n",
            "\n",
            "[769 rows x 4 columns]\n"
          ]
        }
      ],
      "source": [
        "exo_small_14 = exoplanet[ (exoplanet['radius']<1) & (exoplanet['discovered']==2014)]\n",
        "\n",
        "print(exo_small_14)"
      ]
    },
    {
      "cell_type": "markdown",
      "metadata": {
        "id": "CRRqudbGpUOC"
      },
      "source": [
        "Отсортируем результат в порядке убывания радиуса.\n",
        "\n",
        "**print(exo_small_14.sort_values(by = 'radius', ascending = False))**\n"
      ]
    },
    {
      "cell_type": "code",
      "execution_count": null,
      "metadata": {
        "id": "Rz3puU5rpUOC",
        "colab": {
          "base_uri": "https://localhost:8080/"
        },
        "outputId": "1a7c9806-e800-448c-cb82-9467054b56a1"
      },
      "outputs": [
        {
          "output_type": "stream",
          "name": "stdout",
          "text": [
            "      name     mass   radius  discovered\n",
            "477    NaN  0.31900  0.99800      2014.0\n",
            "3329   NaN  0.25000  0.97800      2014.0\n",
            "3319   NaN  2.50000  0.96000      2014.0\n",
            "400    NaN  0.76000  0.94400      2014.0\n",
            "1690   NaN  1.45000  0.94000      2014.0\n",
            "...    ...      ...      ...         ...\n",
            "2263   NaN      NaN  0.06200      2014.0\n",
            "1745   NaN  0.00944  0.05200      2014.0\n",
            "2221   NaN  0.00021  0.04700      2014.0\n",
            "1744   NaN  0.01353  0.04200      2014.0\n",
            "3258   NaN      NaN  0.02543      2014.0\n",
            "\n",
            "[769 rows x 4 columns]\n"
          ]
        }
      ],
      "source": [
        "print(exo_small_14.sort_values(by = 'radius', ascending = False))"
      ]
    },
    {
      "cell_type": "markdown",
      "metadata": {
        "id": "yzW8x2sLpUOC"
      },
      "source": [
        "Самая крупная планета, Kepler 106 d – почти как Земля, вращается вокруг звезды Kepler 106 в созвездии Лебедя. Эта звезда очень похожа на наше Солнце. Правда, до неё 1435 световых лет — далековато. Но, возможно, учёные что-нибудь придумают. А мы пока применим эту технологию к нашему бизнесу, в «приземлённой» задаче.\n",
        "## Задача\n",
        "\n",
        "1. Космический телескоп Kepler открыл похожую на Землю планету у похожей на Солнце звезды. А вы в данных Яндекс.Музыки обнаружили меломана с уникальными данными. Он за день послушал больше 50 композиций.\n",
        "Получите таблицу с прослушанными им треками.\n",
        "\n",
        "Для этого запросите из структуры данных df строки, отвечающие сразу двум условиям:\n",
        "\n",
        "1) значение в столбце 'user_id' должно быть равно значению переменной search_id;\n",
        "\n",
        "2) время прослушивания, т.е. значение в столбце 'total_play_seconds', не должно равняться 0.\n",
        "\n",
        "Сохраните результат в переменной music_user.\n",
        "\n",
        "2. Теперь узнаем, сколько времени он слушал музыку каждого жанра.\n",
        "\n",
        "Сгруппируйте данные таблицы music_user по столбцу 'genre_name' и получите сумму значений столбца 'total_play_seconds'. Сохраните результат в переменной sum_music_user и выведите её значение на экран.\n",
        "\n",
        "3. Кажется, предпочтения нашего меломана начинают проявляться. Но, возможно, длительность композиций от жанра к жанру сильно различается. Важно знать, сколько треков каждого жанра он включил.\n",
        "\n",
        "Сгруппируйте данные по столбцу genre_name и посчитайте, сколько значений в столбце genre_name. Сохраните результат в переменной count_music_user и выведите её значение на экран.\n",
        "\n",
        "4. Чтобы предпочтения были видны сразу, нужно крупнейшие значения расположить наверху. Отсортируйте данные в группировке sum_music_user по убыванию. Внимание: когда применяете метод sort_values() к Series с единственным столбцом, аргумент by указывать не нужно, только порядок сортировки.\n",
        "\n",
        "Сохраните результат в переменной final_sum и выведите её значение на экран.\n",
        "\n",
        "5. Теперь то же самое надо сделать с числом прослушанных меломаном композиций. Отсортируйте данные группировки count_music_user по убыванию. Сохраните результат в переменной final_count, значение которой выведите на экран.\n"
      ]
    },
    {
      "cell_type": "code",
      "execution_count": null,
      "metadata": {
        "id": "QDwlRlCopUOC",
        "colab": {
          "base_uri": "https://localhost:8080/"
        },
        "outputId": "2118207f-6711-4cce-ebe5-8140f0d99a51"
      },
      "outputs": [
        {
          "output_type": "stream",
          "name": "stdout",
          "text": [
            "genre_name\n",
            "acid              1\n",
            "acoustic          6\n",
            "action            4\n",
            "adult            27\n",
            "africa           17\n",
            "               ... \n",
            "western         106\n",
            "world          2069\n",
            "worldbeat         2\n",
            "ïîï               1\n",
            "электроника       1\n",
            "Name: total_play_seconds, Length: 289, dtype: int64\n",
            "             user_id  track_name  artist_name  total_play_seconds  time   day\n",
            "genre_name                                                                   \n",
            "acid               1           1            1                   1     1     1\n",
            "acoustic           6           6            2                   6     6     6\n",
            "action             4           4            3                   4     4     4\n",
            "adult             27          27           27                  27    27    27\n",
            "africa            17          17           15                  17    17    17\n",
            "...              ...         ...          ...                 ...   ...   ...\n",
            "western          106         106          103                 106   106   106\n",
            "world           2069        2066         1983                2069  2069  2069\n",
            "worldbeat          2           2            2                   2     2     2\n",
            "ïîï                1           1            0                   1     1     1\n",
            "электроника        1           1            1                   1     1     1\n",
            "\n",
            "[289 rows x 6 columns]\n",
            "genre_name\n",
            "pop                 8850\n",
            "dance               6761\n",
            "rock                6192\n",
            "electronic          5852\n",
            "hip                 3148\n",
            "                    ... \n",
            "lovers                 1\n",
            "loungeelectronic       1\n",
            "laiko                  1\n",
            "kayokyoku              1\n",
            "электроника            1\n",
            "Name: total_play_seconds, Length: 289, dtype: int64\n"
          ]
        }
      ],
      "source": [
        "import pandas as pd\n",
        "\n",
        "df = pd.read_csv('/content/drive/MyDrive/Учеба/Lab3/yandex_music.csv')\n",
        "new_names = ['user_id', 'track_name', 'artist_name', 'genre_name','total_play_seconds','time','day']\n",
        "\n",
        "if len(new_names) == len(df.columns):\n",
        "    df = df.set_axis(new_names, axis='columns')\n",
        "else:\n",
        "    print(\"Ошибка: количество новых имен не совпадает с количеством столбцов.\")\n",
        "\n",
        "genre_grouping = df.groupby('user_id')\n",
        "genre_counting = df.groupby('user_id')['genre_name'].count()\n",
        "\n",
        "def user_genres(group):\n",
        "  for i in group:\n",
        "    if len(i[1]) > 50:\n",
        "      return i[0]\n",
        "  return None;\n",
        "\n",
        "search_id = user_genres(list(genre_grouping))\n",
        "\n",
        "music_user = df[(df['user_id'] == search_id) & (df['total_play_seconds'] != 0)]\n",
        "\n",
        "sum_music_user = df.groupby('genre_name')['total_play_seconds'].count()\n",
        "print(sum_music_user)\n",
        "\n",
        "count_music_user = df.groupby('genre_name').count()\n",
        "print(count_music_user)\n",
        "\n",
        "final_sum = sum_music_user.sort_values(ascending = False)\n",
        "print(final_sum)\n",
        "\n"
      ]
    },
    {
      "cell_type": "code",
      "execution_count": null,
      "metadata": {
        "id": "zbjKCdZdpUOC",
        "colab": {
          "base_uri": "https://localhost:8080/"
        },
        "outputId": "709c6a73-b0d2-4967-967d-8452915f2f7a"
      },
      "outputs": [
        {
          "output_type": "stream",
          "name": "stdout",
          "text": [
            "                  user_id  track_name  artist_name  total_play_seconds  time  \\\n",
            "genre_name                                                                     \n",
            "pop                  8850        8712         8222                8850  8850   \n",
            "dance                6761        6724         5439                6761  6761   \n",
            "rock                 6192        6117         5953                6192  6192   \n",
            "electronic           5852        5848         5179                5852  5852   \n",
            "hip                  3148        3118         2892                3148  3148   \n",
            "...                   ...         ...          ...                 ...   ...   \n",
            "lovers                  1           1            1                   1     1   \n",
            "loungeelectronic        1           1            1                   1     1   \n",
            "laiko                   1           1            1                   1     1   \n",
            "kayokyoku               1           1            1                   1     1   \n",
            "электроника             1           1            1                   1     1   \n",
            "\n",
            "                   day  \n",
            "genre_name              \n",
            "pop               8850  \n",
            "dance             6761  \n",
            "rock              6192  \n",
            "electronic        5852  \n",
            "hip               3148  \n",
            "...                ...  \n",
            "lovers               1  \n",
            "loungeelectronic     1  \n",
            "laiko                1  \n",
            "kayokyoku            1  \n",
            "электроника          1  \n",
            "\n",
            "[289 rows x 6 columns]\n"
          ]
        }
      ],
      "source": [
        "final_count = count_music_user.sort_values(by = 'total_play_seconds', ascending = False)\n",
        "print(final_count)"
      ]
    }
  ],
  "metadata": {
    "kernelspec": {
      "display_name": "Python 3 (ipykernel)",
      "language": "python",
      "name": "python3"
    },
    "language_info": {
      "codemirror_mode": {
        "name": "ipython",
        "version": 3
      },
      "file_extension": ".py",
      "mimetype": "text/x-python",
      "name": "python",
      "nbconvert_exporter": "python",
      "pygments_lexer": "ipython3",
      "version": "3.9.12"
    },
    "colab": {
      "provenance": []
    }
  },
  "nbformat": 4,
  "nbformat_minor": 0
}